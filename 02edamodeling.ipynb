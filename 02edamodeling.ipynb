{
 "cells": [
  {
   "cell_type": "markdown",
   "metadata": {},
   "source": [
    "# Table of Contents"
   ]
  },
  {
   "cell_type": "markdown",
   "metadata": {},
   "source": [
    " - [Imports](#Imports)\n",
    " - [Read Data](#Read-Data)\n",
    " - [Feature Selection](#Feature-Selection)\n",
    " - [Evaluation Functions](#Evaluation-Functions)\n",
    " - [Preprocessing](#Preprocessing)\n",
    " - [Basic Models](#Basic-Models)\n",
    " - [Hyperparameter Tuned](#Hyperparameter-Tuned)"
   ]
  },
  {
   "cell_type": "markdown",
   "metadata": {
    "tags": []
   },
   "source": [
    "# Imports"
   ]
  },
  {
   "cell_type": "code",
   "execution_count": 1,
   "metadata": {},
   "outputs": [],
   "source": [
    "import pandas as pd\n",
    "import numpy as np\n",
    "import sqlite3\n",
    "import matplotlib.pyplot as plt\n",
    "import seaborn as sns\n",
    "import scipy.stats as stats\n",
    "import joblib\n",
    "\n",
    "from xgboost import XGBClassifier\n",
    "\n",
    "from imblearn.over_sampling import RandomOverSampler\n",
    "\n",
    "from pandas.io import sql\n",
    "\n",
    "from scipy.stats.contingency import expected_freq\n",
    "\n",
    "from sklearn.compose import ColumnTransformer\n",
    "from sklearn.ensemble import RandomForestClassifier\n",
    "from sklearn.feature_selection import SelectKBest, chi2\n",
    "from sklearn.impute import SimpleImputer\n",
    "from sklearn.linear_model import LogisticRegression\n",
    "from sklearn.metrics import (confusion_matrix, plot_confusion_matrix, accuracy_score, \n",
    "                                plot_roc_curve, roc_auc_score, precision_score, \n",
    "                                f1_score, recall_score, ConfusionMatrixDisplay)\n",
    "from sklearn.model_selection import train_test_split, GridSearchCV\n",
    "from sklearn.naive_bayes import BernoulliNB\n",
    "from sklearn.neighbors import KNeighborsClassifier\n",
    "from sklearn.pipeline import Pipeline\n",
    "from sklearn.preprocessing import OneHotEncoder\n",
    "from sklearn.svm import SVC\n",
    "from sklearn.tree import DecisionTreeClassifier"
   ]
  },
  {
   "cell_type": "markdown",
   "metadata": {
    "tags": []
   },
   "source": [
    "# Read Data"
   ]
  },
  {
   "cell_type": "code",
   "execution_count": 2,
   "metadata": {},
   "outputs": [],
   "source": [
    "connection = sqlite3.connect('./dataset/TEDS_D_2019.db')"
   ]
  },
  {
   "cell_type": "code",
   "execution_count": 3,
   "metadata": {},
   "outputs": [],
   "source": [
    "sql_query = \"\"\"\n",
    "SELECT *\n",
    "from discharge\n",
    "\"\"\"\n",
    "original_d = sql.read_sql(sql_query, con = connection)"
   ]
  },
  {
   "cell_type": "code",
   "execution_count": 4,
   "metadata": {},
   "outputs": [
    {
     "data": {
      "text/html": [
       "<div>\n",
       "<style scoped>\n",
       "    .dataframe tbody tr th:only-of-type {\n",
       "        vertical-align: middle;\n",
       "    }\n",
       "\n",
       "    .dataframe tbody tr th {\n",
       "        vertical-align: top;\n",
       "    }\n",
       "\n",
       "    .dataframe thead th {\n",
       "        text-align: right;\n",
       "    }\n",
       "</style>\n",
       "<table border=\"1\" class=\"dataframe\">\n",
       "  <thead>\n",
       "    <tr style=\"text-align: right;\">\n",
       "      <th></th>\n",
       "      <th>DISYR</th>\n",
       "      <th>CASEID</th>\n",
       "      <th>STFIPS</th>\n",
       "      <th>CBSA2010</th>\n",
       "      <th>EDUC</th>\n",
       "      <th>MARSTAT</th>\n",
       "      <th>SERVICES</th>\n",
       "      <th>DETCRIM</th>\n",
       "      <th>LOS</th>\n",
       "      <th>PSOURCE</th>\n",
       "      <th>...</th>\n",
       "      <th>TRNQFLG</th>\n",
       "      <th>BARBFLG</th>\n",
       "      <th>SEDHPFLG</th>\n",
       "      <th>INHFLG</th>\n",
       "      <th>OTCFLG</th>\n",
       "      <th>OTHERFLG</th>\n",
       "      <th>DIVISION</th>\n",
       "      <th>REGION</th>\n",
       "      <th>IDU</th>\n",
       "      <th>ALCDRUG</th>\n",
       "    </tr>\n",
       "  </thead>\n",
       "  <tbody>\n",
       "    <tr>\n",
       "      <th>0</th>\n",
       "      <td>2019</td>\n",
       "      <td>20191553576</td>\n",
       "      <td>2</td>\n",
       "      <td>-9</td>\n",
       "      <td>4</td>\n",
       "      <td>1</td>\n",
       "      <td>7</td>\n",
       "      <td>-9</td>\n",
       "      <td>37</td>\n",
       "      <td>1</td>\n",
       "      <td>...</td>\n",
       "      <td>0</td>\n",
       "      <td>0</td>\n",
       "      <td>0</td>\n",
       "      <td>0</td>\n",
       "      <td>0</td>\n",
       "      <td>0</td>\n",
       "      <td>9</td>\n",
       "      <td>4</td>\n",
       "      <td>0</td>\n",
       "      <td>1</td>\n",
       "    </tr>\n",
       "    <tr>\n",
       "      <th>1</th>\n",
       "      <td>2019</td>\n",
       "      <td>20191465214</td>\n",
       "      <td>2</td>\n",
       "      <td>-9</td>\n",
       "      <td>3</td>\n",
       "      <td>1</td>\n",
       "      <td>7</td>\n",
       "      <td>-9</td>\n",
       "      <td>35</td>\n",
       "      <td>1</td>\n",
       "      <td>...</td>\n",
       "      <td>0</td>\n",
       "      <td>0</td>\n",
       "      <td>0</td>\n",
       "      <td>0</td>\n",
       "      <td>0</td>\n",
       "      <td>0</td>\n",
       "      <td>9</td>\n",
       "      <td>4</td>\n",
       "      <td>0</td>\n",
       "      <td>3</td>\n",
       "    </tr>\n",
       "    <tr>\n",
       "      <th>2</th>\n",
       "      <td>2019</td>\n",
       "      <td>20191443889</td>\n",
       "      <td>2</td>\n",
       "      <td>-9</td>\n",
       "      <td>2</td>\n",
       "      <td>1</td>\n",
       "      <td>7</td>\n",
       "      <td>-9</td>\n",
       "      <td>35</td>\n",
       "      <td>1</td>\n",
       "      <td>...</td>\n",
       "      <td>0</td>\n",
       "      <td>0</td>\n",
       "      <td>0</td>\n",
       "      <td>0</td>\n",
       "      <td>0</td>\n",
       "      <td>0</td>\n",
       "      <td>9</td>\n",
       "      <td>4</td>\n",
       "      <td>0</td>\n",
       "      <td>3</td>\n",
       "    </tr>\n",
       "    <tr>\n",
       "      <th>3</th>\n",
       "      <td>2019</td>\n",
       "      <td>20191409377</td>\n",
       "      <td>2</td>\n",
       "      <td>-9</td>\n",
       "      <td>3</td>\n",
       "      <td>1</td>\n",
       "      <td>7</td>\n",
       "      <td>-9</td>\n",
       "      <td>37</td>\n",
       "      <td>1</td>\n",
       "      <td>...</td>\n",
       "      <td>0</td>\n",
       "      <td>0</td>\n",
       "      <td>0</td>\n",
       "      <td>0</td>\n",
       "      <td>0</td>\n",
       "      <td>0</td>\n",
       "      <td>9</td>\n",
       "      <td>4</td>\n",
       "      <td>0</td>\n",
       "      <td>3</td>\n",
       "    </tr>\n",
       "    <tr>\n",
       "      <th>4</th>\n",
       "      <td>2019</td>\n",
       "      <td>20191479567</td>\n",
       "      <td>2</td>\n",
       "      <td>-9</td>\n",
       "      <td>3</td>\n",
       "      <td>3</td>\n",
       "      <td>7</td>\n",
       "      <td>-9</td>\n",
       "      <td>37</td>\n",
       "      <td>1</td>\n",
       "      <td>...</td>\n",
       "      <td>0</td>\n",
       "      <td>0</td>\n",
       "      <td>0</td>\n",
       "      <td>0</td>\n",
       "      <td>0</td>\n",
       "      <td>0</td>\n",
       "      <td>9</td>\n",
       "      <td>4</td>\n",
       "      <td>0</td>\n",
       "      <td>1</td>\n",
       "    </tr>\n",
       "    <tr>\n",
       "      <th>...</th>\n",
       "      <td>...</td>\n",
       "      <td>...</td>\n",
       "      <td>...</td>\n",
       "      <td>...</td>\n",
       "      <td>...</td>\n",
       "      <td>...</td>\n",
       "      <td>...</td>\n",
       "      <td>...</td>\n",
       "      <td>...</td>\n",
       "      <td>...</td>\n",
       "      <td>...</td>\n",
       "      <td>...</td>\n",
       "      <td>...</td>\n",
       "      <td>...</td>\n",
       "      <td>...</td>\n",
       "      <td>...</td>\n",
       "      <td>...</td>\n",
       "      <td>...</td>\n",
       "      <td>...</td>\n",
       "      <td>...</td>\n",
       "      <td>...</td>\n",
       "    </tr>\n",
       "    <tr>\n",
       "      <th>1722498</th>\n",
       "      <td>2019</td>\n",
       "      <td>20191743528</td>\n",
       "      <td>56</td>\n",
       "      <td>-9</td>\n",
       "      <td>4</td>\n",
       "      <td>2</td>\n",
       "      <td>7</td>\n",
       "      <td>-9</td>\n",
       "      <td>33</td>\n",
       "      <td>1</td>\n",
       "      <td>...</td>\n",
       "      <td>0</td>\n",
       "      <td>0</td>\n",
       "      <td>0</td>\n",
       "      <td>0</td>\n",
       "      <td>0</td>\n",
       "      <td>0</td>\n",
       "      <td>8</td>\n",
       "      <td>4</td>\n",
       "      <td>0</td>\n",
       "      <td>1</td>\n",
       "    </tr>\n",
       "    <tr>\n",
       "      <th>1722499</th>\n",
       "      <td>2019</td>\n",
       "      <td>20191666713</td>\n",
       "      <td>56</td>\n",
       "      <td>-9</td>\n",
       "      <td>3</td>\n",
       "      <td>3</td>\n",
       "      <td>7</td>\n",
       "      <td>1</td>\n",
       "      <td>13</td>\n",
       "      <td>7</td>\n",
       "      <td>...</td>\n",
       "      <td>0</td>\n",
       "      <td>0</td>\n",
       "      <td>0</td>\n",
       "      <td>0</td>\n",
       "      <td>0</td>\n",
       "      <td>0</td>\n",
       "      <td>8</td>\n",
       "      <td>4</td>\n",
       "      <td>0</td>\n",
       "      <td>2</td>\n",
       "    </tr>\n",
       "    <tr>\n",
       "      <th>1722500</th>\n",
       "      <td>2019</td>\n",
       "      <td>20191405666</td>\n",
       "      <td>56</td>\n",
       "      <td>-9</td>\n",
       "      <td>2</td>\n",
       "      <td>1</td>\n",
       "      <td>6</td>\n",
       "      <td>-9</td>\n",
       "      <td>33</td>\n",
       "      <td>1</td>\n",
       "      <td>...</td>\n",
       "      <td>0</td>\n",
       "      <td>0</td>\n",
       "      <td>0</td>\n",
       "      <td>0</td>\n",
       "      <td>0</td>\n",
       "      <td>0</td>\n",
       "      <td>8</td>\n",
       "      <td>4</td>\n",
       "      <td>0</td>\n",
       "      <td>2</td>\n",
       "    </tr>\n",
       "    <tr>\n",
       "      <th>1722501</th>\n",
       "      <td>2019</td>\n",
       "      <td>20191697509</td>\n",
       "      <td>56</td>\n",
       "      <td>-9</td>\n",
       "      <td>1</td>\n",
       "      <td>1</td>\n",
       "      <td>7</td>\n",
       "      <td>3</td>\n",
       "      <td>14</td>\n",
       "      <td>7</td>\n",
       "      <td>...</td>\n",
       "      <td>0</td>\n",
       "      <td>0</td>\n",
       "      <td>0</td>\n",
       "      <td>0</td>\n",
       "      <td>0</td>\n",
       "      <td>0</td>\n",
       "      <td>8</td>\n",
       "      <td>4</td>\n",
       "      <td>0</td>\n",
       "      <td>3</td>\n",
       "    </tr>\n",
       "    <tr>\n",
       "      <th>1722502</th>\n",
       "      <td>2019</td>\n",
       "      <td>20191502624</td>\n",
       "      <td>56</td>\n",
       "      <td>-9</td>\n",
       "      <td>-9</td>\n",
       "      <td>4</td>\n",
       "      <td>7</td>\n",
       "      <td>-9</td>\n",
       "      <td>13</td>\n",
       "      <td>1</td>\n",
       "      <td>...</td>\n",
       "      <td>0</td>\n",
       "      <td>0</td>\n",
       "      <td>0</td>\n",
       "      <td>0</td>\n",
       "      <td>0</td>\n",
       "      <td>0</td>\n",
       "      <td>8</td>\n",
       "      <td>4</td>\n",
       "      <td>0</td>\n",
       "      <td>1</td>\n",
       "    </tr>\n",
       "  </tbody>\n",
       "</table>\n",
       "<p>1722503 rows × 76 columns</p>\n",
       "</div>"
      ],
      "text/plain": [
       "         DISYR       CASEID  STFIPS  CBSA2010  EDUC  MARSTAT  SERVICES  \\\n",
       "0         2019  20191553576       2        -9     4        1         7   \n",
       "1         2019  20191465214       2        -9     3        1         7   \n",
       "2         2019  20191443889       2        -9     2        1         7   \n",
       "3         2019  20191409377       2        -9     3        1         7   \n",
       "4         2019  20191479567       2        -9     3        3         7   \n",
       "...        ...          ...     ...       ...   ...      ...       ...   \n",
       "1722498   2019  20191743528      56        -9     4        2         7   \n",
       "1722499   2019  20191666713      56        -9     3        3         7   \n",
       "1722500   2019  20191405666      56        -9     2        1         6   \n",
       "1722501   2019  20191697509      56        -9     1        1         7   \n",
       "1722502   2019  20191502624      56        -9    -9        4         7   \n",
       "\n",
       "         DETCRIM  LOS  PSOURCE  ...  TRNQFLG  BARBFLG  SEDHPFLG  INHFLG  \\\n",
       "0             -9   37        1  ...        0        0         0       0   \n",
       "1             -9   35        1  ...        0        0         0       0   \n",
       "2             -9   35        1  ...        0        0         0       0   \n",
       "3             -9   37        1  ...        0        0         0       0   \n",
       "4             -9   37        1  ...        0        0         0       0   \n",
       "...          ...  ...      ...  ...      ...      ...       ...     ...   \n",
       "1722498       -9   33        1  ...        0        0         0       0   \n",
       "1722499        1   13        7  ...        0        0         0       0   \n",
       "1722500       -9   33        1  ...        0        0         0       0   \n",
       "1722501        3   14        7  ...        0        0         0       0   \n",
       "1722502       -9   13        1  ...        0        0         0       0   \n",
       "\n",
       "         OTCFLG  OTHERFLG  DIVISION  REGION  IDU  ALCDRUG  \n",
       "0             0         0         9       4    0        1  \n",
       "1             0         0         9       4    0        3  \n",
       "2             0         0         9       4    0        3  \n",
       "3             0         0         9       4    0        3  \n",
       "4             0         0         9       4    0        1  \n",
       "...         ...       ...       ...     ...  ...      ...  \n",
       "1722498       0         0         8       4    0        1  \n",
       "1722499       0         0         8       4    0        2  \n",
       "1722500       0         0         8       4    0        2  \n",
       "1722501       0         0         8       4    0        3  \n",
       "1722502       0         0         8       4    0        1  \n",
       "\n",
       "[1722503 rows x 76 columns]"
      ]
     },
     "execution_count": 4,
     "metadata": {},
     "output_type": "execute_result"
    }
   ],
   "source": [
    "original_d"
   ]
  },
  {
   "cell_type": "code",
   "execution_count": 5,
   "metadata": {},
   "outputs": [],
   "source": [
    "original_d['REASON'] = [1 if x == 1 else 0 for x in original_d['REASON']]"
   ]
  },
  {
   "cell_type": "code",
   "execution_count": 6,
   "metadata": {},
   "outputs": [],
   "source": [
    "original_d = original_d[~original_d['SUB1'].isin([-9,1])]"
   ]
  },
  {
   "cell_type": "code",
   "execution_count": 7,
   "metadata": {},
   "outputs": [
    {
     "data": {
      "text/plain": [
       "(1590685, 76)"
      ]
     },
     "execution_count": 7,
     "metadata": {},
     "output_type": "execute_result"
    }
   ],
   "source": [
    "original_d.shape"
   ]
  },
  {
   "cell_type": "code",
   "execution_count": 8,
   "metadata": {},
   "outputs": [],
   "source": [
    "original_d = original_d.replace(to_replace= -9, value= np.nan)"
   ]
  },
  {
   "cell_type": "code",
   "execution_count": 9,
   "metadata": {},
   "outputs": [
    {
     "data": {
      "text/html": [
       "<div>\n",
       "<style scoped>\n",
       "    .dataframe tbody tr th:only-of-type {\n",
       "        vertical-align: middle;\n",
       "    }\n",
       "\n",
       "    .dataframe tbody tr th {\n",
       "        vertical-align: top;\n",
       "    }\n",
       "\n",
       "    .dataframe thead th {\n",
       "        text-align: right;\n",
       "    }\n",
       "</style>\n",
       "<table border=\"1\" class=\"dataframe\">\n",
       "  <thead>\n",
       "    <tr style=\"text-align: right;\">\n",
       "      <th></th>\n",
       "      <th>CASEID</th>\n",
       "      <th>states</th>\n",
       "      <th>edu_cat</th>\n",
       "      <th>education</th>\n",
       "      <th>marital_status</th>\n",
       "      <th>service</th>\n",
       "      <th>crim_ref</th>\n",
       "      <th>los_cat</th>\n",
       "      <th>len_stay</th>\n",
       "      <th>ref_source</th>\n",
       "      <th>...</th>\n",
       "      <th>freqd2</th>\n",
       "      <th>freqd3</th>\n",
       "      <th>afu_cat</th>\n",
       "      <th>afu</th>\n",
       "      <th>afu2</th>\n",
       "      <th>afu3</th>\n",
       "      <th>insurance</th>\n",
       "      <th>pay_source</th>\n",
       "      <th>self_attend</th>\n",
       "      <th>self_attend_d</th>\n",
       "    </tr>\n",
       "  </thead>\n",
       "  <tbody>\n",
       "    <tr>\n",
       "      <th>0</th>\n",
       "      <td>20191553576</td>\n",
       "      <td>Alaska</td>\n",
       "      <td>4</td>\n",
       "      <td>1-3 years of college, university, or vocationa...</td>\n",
       "      <td>Never married</td>\n",
       "      <td>Ambulatory, non-intensive outpatient</td>\n",
       "      <td>Missing/unknown/not collected/invalid</td>\n",
       "      <td>37</td>\n",
       "      <td>More than a year</td>\n",
       "      <td>Individual (includes self-referral)</td>\n",
       "      <td>...</td>\n",
       "      <td>Missing/unknown/not collected/invalid</td>\n",
       "      <td>Missing/unknown/not collected/invalid</td>\n",
       "      <td>5</td>\n",
       "      <td>21-24 years</td>\n",
       "      <td>Missing/unknown/not collected/invalid</td>\n",
       "      <td>Missing/unknown/not collected/invalid</td>\n",
       "      <td>Medicare, other (e.g. TRICARE, CHAMPUS)</td>\n",
       "      <td>Other</td>\n",
       "      <td>No attendance</td>\n",
       "      <td>No attendance</td>\n",
       "    </tr>\n",
       "    <tr>\n",
       "      <th>1</th>\n",
       "      <td>20191465214</td>\n",
       "      <td>Alaska</td>\n",
       "      <td>3</td>\n",
       "      <td>Grade 12 (or GED)</td>\n",
       "      <td>Never married</td>\n",
       "      <td>Ambulatory, non-intensive outpatient</td>\n",
       "      <td>Missing/unknown/not collected/invalid</td>\n",
       "      <td>35</td>\n",
       "      <td>121 to 180 days</td>\n",
       "      <td>Individual (includes self-referral)</td>\n",
       "      <td>...</td>\n",
       "      <td>Some use</td>\n",
       "      <td>Missing/unknown/not collected/invalid</td>\n",
       "      <td>3</td>\n",
       "      <td>15-17 years</td>\n",
       "      <td>15-17 years</td>\n",
       "      <td>Missing/unknown/not collected/invalid</td>\n",
       "      <td>Medicare, other (e.g. TRICARE, CHAMPUS)</td>\n",
       "      <td>Other</td>\n",
       "      <td>No attendance</td>\n",
       "      <td>No attendance</td>\n",
       "    </tr>\n",
       "    <tr>\n",
       "      <th>2</th>\n",
       "      <td>20191443889</td>\n",
       "      <td>Alaska</td>\n",
       "      <td>2</td>\n",
       "      <td>Grades 9 to 11</td>\n",
       "      <td>Never married</td>\n",
       "      <td>Ambulatory, non-intensive outpatient</td>\n",
       "      <td>Missing/unknown/not collected/invalid</td>\n",
       "      <td>35</td>\n",
       "      <td>121 to 180 days</td>\n",
       "      <td>Individual (includes self-referral)</td>\n",
       "      <td>...</td>\n",
       "      <td>Some use</td>\n",
       "      <td>Missing/unknown/not collected/invalid</td>\n",
       "      <td>2</td>\n",
       "      <td>12-14 years</td>\n",
       "      <td>12-14 years</td>\n",
       "      <td>Missing/unknown/not collected/invalid</td>\n",
       "      <td>Medicaid</td>\n",
       "      <td>Medicaid</td>\n",
       "      <td>No attendance</td>\n",
       "      <td>No attendance</td>\n",
       "    </tr>\n",
       "    <tr>\n",
       "      <th>3</th>\n",
       "      <td>20191409377</td>\n",
       "      <td>Alaska</td>\n",
       "      <td>3</td>\n",
       "      <td>Grade 12 (or GED)</td>\n",
       "      <td>Never married</td>\n",
       "      <td>Ambulatory, non-intensive outpatient</td>\n",
       "      <td>Missing/unknown/not collected/invalid</td>\n",
       "      <td>37</td>\n",
       "      <td>More than a year</td>\n",
       "      <td>Individual (includes self-referral)</td>\n",
       "      <td>...</td>\n",
       "      <td>Daily use</td>\n",
       "      <td>No use in the past month</td>\n",
       "      <td>3</td>\n",
       "      <td>15-17 years</td>\n",
       "      <td>21-24 years</td>\n",
       "      <td>15-17 years</td>\n",
       "      <td>Medicare, other (e.g. TRICARE, CHAMPUS)</td>\n",
       "      <td>Other</td>\n",
       "      <td>8-30 times in the past month</td>\n",
       "      <td>8-30 times in the past month</td>\n",
       "    </tr>\n",
       "    <tr>\n",
       "      <th>4</th>\n",
       "      <td>20191479567</td>\n",
       "      <td>Alaska</td>\n",
       "      <td>3</td>\n",
       "      <td>Grade 12 (or GED)</td>\n",
       "      <td>Separated</td>\n",
       "      <td>Ambulatory, non-intensive outpatient</td>\n",
       "      <td>Missing/unknown/not collected/invalid</td>\n",
       "      <td>37</td>\n",
       "      <td>More than a year</td>\n",
       "      <td>Individual (includes self-referral)</td>\n",
       "      <td>...</td>\n",
       "      <td>Missing/unknown/not collected/invalid</td>\n",
       "      <td>Missing/unknown/not collected/invalid</td>\n",
       "      <td>7</td>\n",
       "      <td>30 years and over</td>\n",
       "      <td>Missing/unknown/not collected/invalid</td>\n",
       "      <td>Missing/unknown/not collected/invalid</td>\n",
       "      <td>Medicare, other (e.g. TRICARE, CHAMPUS)</td>\n",
       "      <td>Other</td>\n",
       "      <td>No attendance</td>\n",
       "      <td>No attendance</td>\n",
       "    </tr>\n",
       "    <tr>\n",
       "      <th>...</th>\n",
       "      <td>...</td>\n",
       "      <td>...</td>\n",
       "      <td>...</td>\n",
       "      <td>...</td>\n",
       "      <td>...</td>\n",
       "      <td>...</td>\n",
       "      <td>...</td>\n",
       "      <td>...</td>\n",
       "      <td>...</td>\n",
       "      <td>...</td>\n",
       "      <td>...</td>\n",
       "      <td>...</td>\n",
       "      <td>...</td>\n",
       "      <td>...</td>\n",
       "      <td>...</td>\n",
       "      <td>...</td>\n",
       "      <td>...</td>\n",
       "      <td>...</td>\n",
       "      <td>...</td>\n",
       "      <td>...</td>\n",
       "      <td>...</td>\n",
       "    </tr>\n",
       "    <tr>\n",
       "      <th>1722498</th>\n",
       "      <td>20191743528</td>\n",
       "      <td>Wyoming</td>\n",
       "      <td>4</td>\n",
       "      <td>1-3 years of college, university, or vocationa...</td>\n",
       "      <td>Now married</td>\n",
       "      <td>Ambulatory, non-intensive outpatient</td>\n",
       "      <td>Missing/unknown/not collected/invalid</td>\n",
       "      <td>33</td>\n",
       "      <td>61 to 90 days</td>\n",
       "      <td>Individual (includes self-referral)</td>\n",
       "      <td>...</td>\n",
       "      <td>Missing/unknown/not collected/invalid</td>\n",
       "      <td>Missing/unknown/not collected/invalid</td>\n",
       "      <td>3</td>\n",
       "      <td>15-17 years</td>\n",
       "      <td>Missing/unknown/not collected/invalid</td>\n",
       "      <td>Missing/unknown/not collected/invalid</td>\n",
       "      <td>Private insurance, Blue Cross/Blue Shield, HMO</td>\n",
       "      <td>Private insurance (Blue Cross/Blue Shield, oth...</td>\n",
       "      <td>No attendance</td>\n",
       "      <td>No attendance</td>\n",
       "    </tr>\n",
       "    <tr>\n",
       "      <th>1722499</th>\n",
       "      <td>20191666713</td>\n",
       "      <td>Wyoming</td>\n",
       "      <td>3</td>\n",
       "      <td>Grade 12 (or GED)</td>\n",
       "      <td>Separated</td>\n",
       "      <td>Ambulatory, non-intensive outpatient</td>\n",
       "      <td>State/federal court</td>\n",
       "      <td>13</td>\n",
       "      <td>13</td>\n",
       "      <td>Court/criminal justice referral/DUI/DWI</td>\n",
       "      <td>...</td>\n",
       "      <td>Missing/unknown/not collected/invalid</td>\n",
       "      <td>Missing/unknown/not collected/invalid</td>\n",
       "      <td>4</td>\n",
       "      <td>18-20 years</td>\n",
       "      <td>Missing/unknown/not collected/invalid</td>\n",
       "      <td>Missing/unknown/not collected/invalid</td>\n",
       "      <td>Medicaid</td>\n",
       "      <td>Medicaid</td>\n",
       "      <td>No attendance</td>\n",
       "      <td>No attendance</td>\n",
       "    </tr>\n",
       "    <tr>\n",
       "      <th>1722500</th>\n",
       "      <td>20191405666</td>\n",
       "      <td>Wyoming</td>\n",
       "      <td>2</td>\n",
       "      <td>Grades 9 to 11</td>\n",
       "      <td>Never married</td>\n",
       "      <td>Ambulatory, intensive outpatient</td>\n",
       "      <td>Missing/unknown/not collected/invalid</td>\n",
       "      <td>33</td>\n",
       "      <td>61 to 90 days</td>\n",
       "      <td>Individual (includes self-referral)</td>\n",
       "      <td>...</td>\n",
       "      <td>Some use</td>\n",
       "      <td>Missing/unknown/not collected/invalid</td>\n",
       "      <td>2</td>\n",
       "      <td>12-14 years</td>\n",
       "      <td>11 years and under</td>\n",
       "      <td>Missing/unknown/not collected/invalid</td>\n",
       "      <td>None</td>\n",
       "      <td>Other</td>\n",
       "      <td>No attendance</td>\n",
       "      <td>No attendance</td>\n",
       "    </tr>\n",
       "    <tr>\n",
       "      <th>1722501</th>\n",
       "      <td>20191697509</td>\n",
       "      <td>Wyoming</td>\n",
       "      <td>1</td>\n",
       "      <td>Less than one school grade, no schooling, nurs...</td>\n",
       "      <td>Never married</td>\n",
       "      <td>Ambulatory, non-intensive outpatient</td>\n",
       "      <td>Probation/parole</td>\n",
       "      <td>14</td>\n",
       "      <td>14</td>\n",
       "      <td>Court/criminal justice referral/DUI/DWI</td>\n",
       "      <td>...</td>\n",
       "      <td>Some use</td>\n",
       "      <td>No use in the past month</td>\n",
       "      <td>3</td>\n",
       "      <td>15-17 years</td>\n",
       "      <td>15-17 years</td>\n",
       "      <td>15-17 years</td>\n",
       "      <td>Medicaid</td>\n",
       "      <td>Medicaid</td>\n",
       "      <td>No attendance</td>\n",
       "      <td>No attendance</td>\n",
       "    </tr>\n",
       "    <tr>\n",
       "      <th>1722502</th>\n",
       "      <td>20191502624</td>\n",
       "      <td>Wyoming</td>\n",
       "      <td>-9</td>\n",
       "      <td>Missing/unknown/not collected/invalid</td>\n",
       "      <td>Divorced, widowed</td>\n",
       "      <td>Ambulatory, non-intensive outpatient</td>\n",
       "      <td>Missing/unknown/not collected/invalid</td>\n",
       "      <td>13</td>\n",
       "      <td>13</td>\n",
       "      <td>Individual (includes self-referral)</td>\n",
       "      <td>...</td>\n",
       "      <td>Missing/unknown/not collected/invalid</td>\n",
       "      <td>Missing/unknown/not collected/invalid</td>\n",
       "      <td>3</td>\n",
       "      <td>15-17 years</td>\n",
       "      <td>Missing/unknown/not collected/invalid</td>\n",
       "      <td>Missing/unknown/not collected/invalid</td>\n",
       "      <td>None</td>\n",
       "      <td>Other</td>\n",
       "      <td>No attendance</td>\n",
       "      <td>No attendance</td>\n",
       "    </tr>\n",
       "  </tbody>\n",
       "</table>\n",
       "<p>1722503 rows × 56 columns</p>\n",
       "</div>"
      ],
      "text/plain": [
       "              CASEID   states  edu_cat  \\\n",
       "0        20191553576   Alaska        4   \n",
       "1        20191465214   Alaska        3   \n",
       "2        20191443889   Alaska        2   \n",
       "3        20191409377   Alaska        3   \n",
       "4        20191479567   Alaska        3   \n",
       "...              ...      ...      ...   \n",
       "1722498  20191743528  Wyoming        4   \n",
       "1722499  20191666713  Wyoming        3   \n",
       "1722500  20191405666  Wyoming        2   \n",
       "1722501  20191697509  Wyoming        1   \n",
       "1722502  20191502624  Wyoming       -9   \n",
       "\n",
       "                                                 education     marital_status  \\\n",
       "0        1-3 years of college, university, or vocationa...      Never married   \n",
       "1                                        Grade 12 (or GED)      Never married   \n",
       "2                                           Grades 9 to 11      Never married   \n",
       "3                                        Grade 12 (or GED)      Never married   \n",
       "4                                        Grade 12 (or GED)          Separated   \n",
       "...                                                    ...                ...   \n",
       "1722498  1-3 years of college, university, or vocationa...        Now married   \n",
       "1722499                                  Grade 12 (or GED)          Separated   \n",
       "1722500                                     Grades 9 to 11      Never married   \n",
       "1722501  Less than one school grade, no schooling, nurs...      Never married   \n",
       "1722502              Missing/unknown/not collected/invalid  Divorced, widowed   \n",
       "\n",
       "                                      service  \\\n",
       "0        Ambulatory, non-intensive outpatient   \n",
       "1        Ambulatory, non-intensive outpatient   \n",
       "2        Ambulatory, non-intensive outpatient   \n",
       "3        Ambulatory, non-intensive outpatient   \n",
       "4        Ambulatory, non-intensive outpatient   \n",
       "...                                       ...   \n",
       "1722498  Ambulatory, non-intensive outpatient   \n",
       "1722499  Ambulatory, non-intensive outpatient   \n",
       "1722500      Ambulatory, intensive outpatient   \n",
       "1722501  Ambulatory, non-intensive outpatient   \n",
       "1722502  Ambulatory, non-intensive outpatient   \n",
       "\n",
       "                                      crim_ref  los_cat          len_stay  \\\n",
       "0        Missing/unknown/not collected/invalid       37  More than a year   \n",
       "1        Missing/unknown/not collected/invalid       35   121 to 180 days   \n",
       "2        Missing/unknown/not collected/invalid       35   121 to 180 days   \n",
       "3        Missing/unknown/not collected/invalid       37  More than a year   \n",
       "4        Missing/unknown/not collected/invalid       37  More than a year   \n",
       "...                                        ...      ...               ...   \n",
       "1722498  Missing/unknown/not collected/invalid       33     61 to 90 days   \n",
       "1722499                    State/federal court       13                13   \n",
       "1722500  Missing/unknown/not collected/invalid       33     61 to 90 days   \n",
       "1722501                       Probation/parole       14                14   \n",
       "1722502  Missing/unknown/not collected/invalid       13                13   \n",
       "\n",
       "                                      ref_source  ...  \\\n",
       "0            Individual (includes self-referral)  ...   \n",
       "1            Individual (includes self-referral)  ...   \n",
       "2            Individual (includes self-referral)  ...   \n",
       "3            Individual (includes self-referral)  ...   \n",
       "4            Individual (includes self-referral)  ...   \n",
       "...                                          ...  ...   \n",
       "1722498      Individual (includes self-referral)  ...   \n",
       "1722499  Court/criminal justice referral/DUI/DWI  ...   \n",
       "1722500      Individual (includes self-referral)  ...   \n",
       "1722501  Court/criminal justice referral/DUI/DWI  ...   \n",
       "1722502      Individual (includes self-referral)  ...   \n",
       "\n",
       "                                        freqd2  \\\n",
       "0        Missing/unknown/not collected/invalid   \n",
       "1                                     Some use   \n",
       "2                                     Some use   \n",
       "3                                    Daily use   \n",
       "4        Missing/unknown/not collected/invalid   \n",
       "...                                        ...   \n",
       "1722498  Missing/unknown/not collected/invalid   \n",
       "1722499  Missing/unknown/not collected/invalid   \n",
       "1722500                               Some use   \n",
       "1722501                               Some use   \n",
       "1722502  Missing/unknown/not collected/invalid   \n",
       "\n",
       "                                        freqd3  afu_cat                afu  \\\n",
       "0        Missing/unknown/not collected/invalid        5        21-24 years   \n",
       "1        Missing/unknown/not collected/invalid        3        15-17 years   \n",
       "2        Missing/unknown/not collected/invalid        2        12-14 years   \n",
       "3                     No use in the past month        3        15-17 years   \n",
       "4        Missing/unknown/not collected/invalid        7  30 years and over   \n",
       "...                                        ...      ...                ...   \n",
       "1722498  Missing/unknown/not collected/invalid        3        15-17 years   \n",
       "1722499  Missing/unknown/not collected/invalid        4        18-20 years   \n",
       "1722500  Missing/unknown/not collected/invalid        2        12-14 years   \n",
       "1722501               No use in the past month        3        15-17 years   \n",
       "1722502  Missing/unknown/not collected/invalid        3        15-17 years   \n",
       "\n",
       "                                          afu2  \\\n",
       "0        Missing/unknown/not collected/invalid   \n",
       "1                                  15-17 years   \n",
       "2                                  12-14 years   \n",
       "3                                  21-24 years   \n",
       "4        Missing/unknown/not collected/invalid   \n",
       "...                                        ...   \n",
       "1722498  Missing/unknown/not collected/invalid   \n",
       "1722499  Missing/unknown/not collected/invalid   \n",
       "1722500                     11 years and under   \n",
       "1722501                            15-17 years   \n",
       "1722502  Missing/unknown/not collected/invalid   \n",
       "\n",
       "                                          afu3  \\\n",
       "0        Missing/unknown/not collected/invalid   \n",
       "1        Missing/unknown/not collected/invalid   \n",
       "2        Missing/unknown/not collected/invalid   \n",
       "3                                  15-17 years   \n",
       "4        Missing/unknown/not collected/invalid   \n",
       "...                                        ...   \n",
       "1722498  Missing/unknown/not collected/invalid   \n",
       "1722499  Missing/unknown/not collected/invalid   \n",
       "1722500  Missing/unknown/not collected/invalid   \n",
       "1722501                            15-17 years   \n",
       "1722502  Missing/unknown/not collected/invalid   \n",
       "\n",
       "                                              insurance  \\\n",
       "0               Medicare, other (e.g. TRICARE, CHAMPUS)   \n",
       "1               Medicare, other (e.g. TRICARE, CHAMPUS)   \n",
       "2                                              Medicaid   \n",
       "3               Medicare, other (e.g. TRICARE, CHAMPUS)   \n",
       "4               Medicare, other (e.g. TRICARE, CHAMPUS)   \n",
       "...                                                 ...   \n",
       "1722498  Private insurance, Blue Cross/Blue Shield, HMO   \n",
       "1722499                                        Medicaid   \n",
       "1722500                                            None   \n",
       "1722501                                        Medicaid   \n",
       "1722502                                            None   \n",
       "\n",
       "                                                pay_source  \\\n",
       "0                                                    Other   \n",
       "1                                                    Other   \n",
       "2                                                 Medicaid   \n",
       "3                                                    Other   \n",
       "4                                                    Other   \n",
       "...                                                    ...   \n",
       "1722498  Private insurance (Blue Cross/Blue Shield, oth...   \n",
       "1722499                                           Medicaid   \n",
       "1722500                                              Other   \n",
       "1722501                                           Medicaid   \n",
       "1722502                                              Other   \n",
       "\n",
       "                          self_attend                 self_attend_d  \n",
       "0                       No attendance                 No attendance  \n",
       "1                       No attendance                 No attendance  \n",
       "2                       No attendance                 No attendance  \n",
       "3        8-30 times in the past month  8-30 times in the past month  \n",
       "4                       No attendance                 No attendance  \n",
       "...                               ...                           ...  \n",
       "1722498                 No attendance                 No attendance  \n",
       "1722499                 No attendance                 No attendance  \n",
       "1722500                 No attendance                 No attendance  \n",
       "1722501                 No attendance                 No attendance  \n",
       "1722502                 No attendance                 No attendance  \n",
       "\n",
       "[1722503 rows x 56 columns]"
      ]
     },
     "execution_count": 9,
     "metadata": {},
     "output_type": "execute_result"
    }
   ],
   "source": [
    "sql_query = \"\"\"\n",
    "SELECT d.CASEID, s.states, e.id AS edu_cat, e.education, m.marital_status, ser.service, crim.crim_ref, los.id AS los_cat, los.len_stay, \n",
    "        r.ref_source, p.id AS prior_cat, p.treat_ep, a.id AS arrest_cat, a.num_arrest, emp.empl_status, yn.yn_response AS MATS, yn1.yn_response AS co_ment_sub,\n",
    "        yn2.yn_response AS pregnant, g.gender, yn3.yn_response AS veteran, h.housing, dwait.d_wait, serd.service AS service_dis,\n",
    "        rea.reason, emp2.empl_status AS empl_status_D, a2.num_arrest AS num_arrest_D, diag.diagnosis, age.age_range, race.race,\n",
    "        eth.ethnicity, nil.nil_status, nil2.nil_status AS nil_status_D, i.p_income, sub.substance AS substance_1,\n",
    "        sub2.substance AS substance_2, sub3.substance AS substance_3, subd.substance AS substance_1d,\n",
    "        subd2.substance AS substance_2d, subd3.substance AS substance_3d, route.sub_route, route2.sub_route AS route2, \n",
    "        route3.sub_route AS route3, f.freq, f2.freq AS freq2, f3.freq AS freq3, fd.freq AS freqd, \n",
    "        fd2.freq AS freqd2, fd3.freq AS freqd3, afu.id AS afu_cat, afu.age_first_use AS afu, afu2.age_first_use AS afu2, afu3.age_first_use AS afu3,\n",
    "        ins.insurance, pay.pay_source, sh.self_attend, sh.self_attend AS self_attend_d\n",
    "\n",
    "FROM discharge as d\n",
    "INNER JOIN state AS s ON d.STFIPS = s.id\n",
    "INNER JOIN education AS e ON d.EDUC = e.id\n",
    "INNER JOIN marital_status AS m ON d.MARSTAT = m.id\n",
    "INNER JOIN services AS ser ON d.SERVICES = ser.id\n",
    "INNER JOIN crim_just AS crim ON d.DETCRIM = crim.id\n",
    "INNER JOIN los ON d.LOS = los.id\n",
    "INNER JOIN referral as r ON d.PSOURCE = r.id\n",
    "INNER JOIN prior AS p ON d.NOPRIOR = p.id\n",
    "INNER JOIN arrest AS a ON d.ARRESTS = a.id\n",
    "INNER JOIN employ AS emp ON d.EMPLOY = emp.id\n",
    "INNER JOIN yn ON d.METHUSE = yn.id\n",
    "INNER JOIN yn AS yn1 ON d.PSYPROB = yn1.id\n",
    "INNER JOIN yn AS yn2 ON d.PREG = yn2.id\n",
    "INNER JOIN gender AS g ON d.GENDER = g.id\n",
    "INNER JOIN yn AS yn3 ON d.VET = yn3.id\n",
    "INNER JOIN housing AS h ON d.LIVARAG = h.id\n",
    "INNER JOIN days_wait AS dwait ON d.DAYWAIT = dwait.id\n",
    "INNER JOIN services AS serd ON d.SERVICES = serd.id\n",
    "INNER JOIN reason_for_discharge AS rea ON d.REASON = rea.id \n",
    "INNER JOIN employ AS emp2 ON d.EMPLOY_D = emp2.id\n",
    "INNER JOIN housing AS h2 ON d.LIVARAG_d = h2.id\n",
    "INNER JOIN arrest AS a2 ON d.ARRESTS_D = a2.id\n",
    "INNER JOIN diagnosis AS diag ON d.DSMCRIT = diag.id\n",
    "INNER JOIN age_admit AS age ON d.AGE = age.id\n",
    "INNER JOIN race ON d.RACE = race.id\n",
    "INNER JOIN ethnicity AS eth ON d.ETHNIC = eth.id\n",
    "INNER JOIN not_in_labor AS nil ON d.DETNLF = nil.id\n",
    "INNER JOIN not_in_labor AS nil2 ON d.DETNLF_D = nil2.id\n",
    "INNER JOIN income AS i ON d.PRIMINC = i.id\n",
    "INNER JOIN substance AS sub ON d.SUB1 = sub.id\n",
    "INNER JOIN substance AS sub2 ON d.SUB2 = sub2.id\n",
    "INNER JOIN substance AS sub3 ON d.SUB3 = sub3.id\n",
    "INNER JOIN substance AS subd ON d.SUB1_D = subd.id\n",
    "INNER JOIN substance AS subd2 ON d.SUB2_D = subd2.id\n",
    "INNER JOIN substance AS subd3 ON d.SUB3_D = subd3.id\n",
    "INNER JOIN route ON d.ROUTE1 = route.id\n",
    "INNER JOIN route AS route2 ON d.ROUTE2 = route2.id\n",
    "INNER JOIN route AS route3 ON d.ROUTE3 = route3.id\n",
    "INNER JOIN freq AS f ON d.FREQ1 = f.id\n",
    "INNER JOIN freq AS f2 ON d.FREQ2 = f2.id\n",
    "INNER JOIN freq AS f3 ON d.FREQ3 = f3.id\n",
    "INNER JOIN freq AS fd ON d.FREQ1_D = fd.id\n",
    "INNER JOIN freq AS fd2 ON d.FREQ2_D = fd2.id\n",
    "INNER JOIN freq AS fd3 ON d.FREQ3_D = fd3.id\n",
    "INNER JOIN age_first_use AS afu ON d.FRSTUSE1 = afu.id\n",
    "INNER JOIN age_first_use AS afu2 ON d.FRSTUSE2 = afu2.id\n",
    "INNER JOIN age_first_use AS afu3 ON d.FRSTUSE3 = afu3.id\n",
    "INNER JOIN insurance AS ins ON d.HLTHINS = ins.id\n",
    "INNER JOIN payment AS pay ON d.PRIMPAY = pay.id\n",
    "INNER JOIN self_help AS sh ON d.FREQ_ATND_SELF_HELP = sh.id\n",
    "INNER JOIN self_help AS shd ON d.FREQ_ATND_SELF_HELP_D = shd.id\n",
    "\"\"\"\n",
    "\n",
    "discharge_full = sql.read_sql(sql_query, con = connection)\n",
    "discharge_full"
   ]
  },
  {
   "cell_type": "code",
   "execution_count": 10,
   "metadata": {},
   "outputs": [
    {
     "data": {
      "text/html": [
       "<div>\n",
       "<style scoped>\n",
       "    .dataframe tbody tr th:only-of-type {\n",
       "        vertical-align: middle;\n",
       "    }\n",
       "\n",
       "    .dataframe tbody tr th {\n",
       "        vertical-align: top;\n",
       "    }\n",
       "\n",
       "    .dataframe thead th {\n",
       "        text-align: right;\n",
       "    }\n",
       "</style>\n",
       "<table border=\"1\" class=\"dataframe\">\n",
       "  <thead>\n",
       "    <tr style=\"text-align: right;\">\n",
       "      <th></th>\n",
       "      <th>CASEID</th>\n",
       "      <th>alcflg</th>\n",
       "      <th>cokeflg</th>\n",
       "      <th>marflg</th>\n",
       "      <th>herflg</th>\n",
       "      <th>methflg</th>\n",
       "      <th>opsynflg</th>\n",
       "      <th>pcpflg</th>\n",
       "      <th>hallflg</th>\n",
       "      <th>mthhamflg</th>\n",
       "      <th>...</th>\n",
       "      <th>trnqflg</th>\n",
       "      <th>barbflg</th>\n",
       "      <th>sedhpflg</th>\n",
       "      <th>inhflg</th>\n",
       "      <th>otcflg</th>\n",
       "      <th>otherflg</th>\n",
       "      <th>cen_div</th>\n",
       "      <th>region</th>\n",
       "      <th>idu</th>\n",
       "      <th>alc_class</th>\n",
       "    </tr>\n",
       "  </thead>\n",
       "  <tbody>\n",
       "    <tr>\n",
       "      <th>0</th>\n",
       "      <td>20191553576</td>\n",
       "      <td>Substance reported</td>\n",
       "      <td>Substance not reported</td>\n",
       "      <td>Substance not reported</td>\n",
       "      <td>Substance not reported</td>\n",
       "      <td>Substance not reported</td>\n",
       "      <td>Substance not reported</td>\n",
       "      <td>Substance not reported</td>\n",
       "      <td>Substance not reported</td>\n",
       "      <td>Substance not reported</td>\n",
       "      <td>...</td>\n",
       "      <td>Substance not reported</td>\n",
       "      <td>Substance not reported</td>\n",
       "      <td>Substance not reported</td>\n",
       "      <td>Substance not reported</td>\n",
       "      <td>Substance not reported</td>\n",
       "      <td>Substance not reported</td>\n",
       "      <td>Pacific</td>\n",
       "      <td>West</td>\n",
       "      <td>IDU not reported</td>\n",
       "      <td>Alcohol only</td>\n",
       "    </tr>\n",
       "    <tr>\n",
       "      <th>1</th>\n",
       "      <td>20191465214</td>\n",
       "      <td>Substance reported</td>\n",
       "      <td>Substance not reported</td>\n",
       "      <td>Substance reported</td>\n",
       "      <td>Substance not reported</td>\n",
       "      <td>Substance not reported</td>\n",
       "      <td>Substance not reported</td>\n",
       "      <td>Substance not reported</td>\n",
       "      <td>Substance not reported</td>\n",
       "      <td>Substance not reported</td>\n",
       "      <td>...</td>\n",
       "      <td>Substance not reported</td>\n",
       "      <td>Substance not reported</td>\n",
       "      <td>Substance not reported</td>\n",
       "      <td>Substance not reported</td>\n",
       "      <td>Substance not reported</td>\n",
       "      <td>Substance not reported</td>\n",
       "      <td>Pacific</td>\n",
       "      <td>West</td>\n",
       "      <td>IDU not reported</td>\n",
       "      <td>Alcohol and other drugs</td>\n",
       "    </tr>\n",
       "    <tr>\n",
       "      <th>2</th>\n",
       "      <td>20191443889</td>\n",
       "      <td>Substance reported</td>\n",
       "      <td>Substance not reported</td>\n",
       "      <td>Substance reported</td>\n",
       "      <td>Substance not reported</td>\n",
       "      <td>Substance not reported</td>\n",
       "      <td>Substance not reported</td>\n",
       "      <td>Substance not reported</td>\n",
       "      <td>Substance not reported</td>\n",
       "      <td>Substance not reported</td>\n",
       "      <td>...</td>\n",
       "      <td>Substance not reported</td>\n",
       "      <td>Substance not reported</td>\n",
       "      <td>Substance not reported</td>\n",
       "      <td>Substance not reported</td>\n",
       "      <td>Substance not reported</td>\n",
       "      <td>Substance not reported</td>\n",
       "      <td>Pacific</td>\n",
       "      <td>West</td>\n",
       "      <td>IDU not reported</td>\n",
       "      <td>Alcohol and other drugs</td>\n",
       "    </tr>\n",
       "    <tr>\n",
       "      <th>3</th>\n",
       "      <td>20191409377</td>\n",
       "      <td>Substance reported</td>\n",
       "      <td>Substance not reported</td>\n",
       "      <td>Substance reported</td>\n",
       "      <td>Substance reported</td>\n",
       "      <td>Substance not reported</td>\n",
       "      <td>Substance not reported</td>\n",
       "      <td>Substance not reported</td>\n",
       "      <td>Substance not reported</td>\n",
       "      <td>Substance not reported</td>\n",
       "      <td>...</td>\n",
       "      <td>Substance not reported</td>\n",
       "      <td>Substance not reported</td>\n",
       "      <td>Substance not reported</td>\n",
       "      <td>Substance not reported</td>\n",
       "      <td>Substance not reported</td>\n",
       "      <td>Substance not reported</td>\n",
       "      <td>Pacific</td>\n",
       "      <td>West</td>\n",
       "      <td>IDU not reported</td>\n",
       "      <td>Alcohol and other drugs</td>\n",
       "    </tr>\n",
       "    <tr>\n",
       "      <th>4</th>\n",
       "      <td>20191479567</td>\n",
       "      <td>Substance reported</td>\n",
       "      <td>Substance not reported</td>\n",
       "      <td>Substance not reported</td>\n",
       "      <td>Substance not reported</td>\n",
       "      <td>Substance not reported</td>\n",
       "      <td>Substance not reported</td>\n",
       "      <td>Substance not reported</td>\n",
       "      <td>Substance not reported</td>\n",
       "      <td>Substance not reported</td>\n",
       "      <td>...</td>\n",
       "      <td>Substance not reported</td>\n",
       "      <td>Substance not reported</td>\n",
       "      <td>Substance not reported</td>\n",
       "      <td>Substance not reported</td>\n",
       "      <td>Substance not reported</td>\n",
       "      <td>Substance not reported</td>\n",
       "      <td>Pacific</td>\n",
       "      <td>West</td>\n",
       "      <td>IDU not reported</td>\n",
       "      <td>Alcohol only</td>\n",
       "    </tr>\n",
       "    <tr>\n",
       "      <th>...</th>\n",
       "      <td>...</td>\n",
       "      <td>...</td>\n",
       "      <td>...</td>\n",
       "      <td>...</td>\n",
       "      <td>...</td>\n",
       "      <td>...</td>\n",
       "      <td>...</td>\n",
       "      <td>...</td>\n",
       "      <td>...</td>\n",
       "      <td>...</td>\n",
       "      <td>...</td>\n",
       "      <td>...</td>\n",
       "      <td>...</td>\n",
       "      <td>...</td>\n",
       "      <td>...</td>\n",
       "      <td>...</td>\n",
       "      <td>...</td>\n",
       "      <td>...</td>\n",
       "      <td>...</td>\n",
       "      <td>...</td>\n",
       "      <td>...</td>\n",
       "    </tr>\n",
       "    <tr>\n",
       "      <th>1722498</th>\n",
       "      <td>20191743528</td>\n",
       "      <td>Substance reported</td>\n",
       "      <td>Substance not reported</td>\n",
       "      <td>Substance not reported</td>\n",
       "      <td>Substance not reported</td>\n",
       "      <td>Substance not reported</td>\n",
       "      <td>Substance not reported</td>\n",
       "      <td>Substance not reported</td>\n",
       "      <td>Substance not reported</td>\n",
       "      <td>Substance not reported</td>\n",
       "      <td>...</td>\n",
       "      <td>Substance not reported</td>\n",
       "      <td>Substance not reported</td>\n",
       "      <td>Substance not reported</td>\n",
       "      <td>Substance not reported</td>\n",
       "      <td>Substance not reported</td>\n",
       "      <td>Substance not reported</td>\n",
       "      <td>Mountain</td>\n",
       "      <td>West</td>\n",
       "      <td>IDU not reported</td>\n",
       "      <td>Alcohol only</td>\n",
       "    </tr>\n",
       "    <tr>\n",
       "      <th>1722499</th>\n",
       "      <td>20191666713</td>\n",
       "      <td>Substance not reported</td>\n",
       "      <td>Substance not reported</td>\n",
       "      <td>Substance reported</td>\n",
       "      <td>Substance not reported</td>\n",
       "      <td>Substance not reported</td>\n",
       "      <td>Substance not reported</td>\n",
       "      <td>Substance not reported</td>\n",
       "      <td>Substance not reported</td>\n",
       "      <td>Substance not reported</td>\n",
       "      <td>...</td>\n",
       "      <td>Substance not reported</td>\n",
       "      <td>Substance not reported</td>\n",
       "      <td>Substance not reported</td>\n",
       "      <td>Substance not reported</td>\n",
       "      <td>Substance not reported</td>\n",
       "      <td>Substance not reported</td>\n",
       "      <td>Mountain</td>\n",
       "      <td>West</td>\n",
       "      <td>IDU not reported</td>\n",
       "      <td>Other drugs only</td>\n",
       "    </tr>\n",
       "    <tr>\n",
       "      <th>1722500</th>\n",
       "      <td>20191405666</td>\n",
       "      <td>Substance not reported</td>\n",
       "      <td>Substance not reported</td>\n",
       "      <td>Substance reported</td>\n",
       "      <td>Substance not reported</td>\n",
       "      <td>Substance not reported</td>\n",
       "      <td>Substance not reported</td>\n",
       "      <td>Substance not reported</td>\n",
       "      <td>Substance not reported</td>\n",
       "      <td>Substance reported</td>\n",
       "      <td>...</td>\n",
       "      <td>Substance not reported</td>\n",
       "      <td>Substance not reported</td>\n",
       "      <td>Substance not reported</td>\n",
       "      <td>Substance not reported</td>\n",
       "      <td>Substance not reported</td>\n",
       "      <td>Substance not reported</td>\n",
       "      <td>Mountain</td>\n",
       "      <td>West</td>\n",
       "      <td>IDU not reported</td>\n",
       "      <td>Other drugs only</td>\n",
       "    </tr>\n",
       "    <tr>\n",
       "      <th>1722501</th>\n",
       "      <td>20191697509</td>\n",
       "      <td>Substance reported</td>\n",
       "      <td>Substance not reported</td>\n",
       "      <td>Substance reported</td>\n",
       "      <td>Substance not reported</td>\n",
       "      <td>Substance not reported</td>\n",
       "      <td>Substance not reported</td>\n",
       "      <td>Substance not reported</td>\n",
       "      <td>Substance reported</td>\n",
       "      <td>Substance not reported</td>\n",
       "      <td>...</td>\n",
       "      <td>Substance not reported</td>\n",
       "      <td>Substance not reported</td>\n",
       "      <td>Substance not reported</td>\n",
       "      <td>Substance not reported</td>\n",
       "      <td>Substance not reported</td>\n",
       "      <td>Substance not reported</td>\n",
       "      <td>Mountain</td>\n",
       "      <td>West</td>\n",
       "      <td>IDU not reported</td>\n",
       "      <td>Alcohol and other drugs</td>\n",
       "    </tr>\n",
       "    <tr>\n",
       "      <th>1722502</th>\n",
       "      <td>20191502624</td>\n",
       "      <td>Substance reported</td>\n",
       "      <td>Substance not reported</td>\n",
       "      <td>Substance not reported</td>\n",
       "      <td>Substance not reported</td>\n",
       "      <td>Substance not reported</td>\n",
       "      <td>Substance not reported</td>\n",
       "      <td>Substance not reported</td>\n",
       "      <td>Substance not reported</td>\n",
       "      <td>Substance not reported</td>\n",
       "      <td>...</td>\n",
       "      <td>Substance not reported</td>\n",
       "      <td>Substance not reported</td>\n",
       "      <td>Substance not reported</td>\n",
       "      <td>Substance not reported</td>\n",
       "      <td>Substance not reported</td>\n",
       "      <td>Substance not reported</td>\n",
       "      <td>Mountain</td>\n",
       "      <td>West</td>\n",
       "      <td>IDU not reported</td>\n",
       "      <td>Alcohol only</td>\n",
       "    </tr>\n",
       "  </tbody>\n",
       "</table>\n",
       "<p>1722503 rows × 23 columns</p>\n",
       "</div>"
      ],
      "text/plain": [
       "              CASEID                  alcflg                 cokeflg  \\\n",
       "0        20191553576      Substance reported  Substance not reported   \n",
       "1        20191465214      Substance reported  Substance not reported   \n",
       "2        20191443889      Substance reported  Substance not reported   \n",
       "3        20191409377      Substance reported  Substance not reported   \n",
       "4        20191479567      Substance reported  Substance not reported   \n",
       "...              ...                     ...                     ...   \n",
       "1722498  20191743528      Substance reported  Substance not reported   \n",
       "1722499  20191666713  Substance not reported  Substance not reported   \n",
       "1722500  20191405666  Substance not reported  Substance not reported   \n",
       "1722501  20191697509      Substance reported  Substance not reported   \n",
       "1722502  20191502624      Substance reported  Substance not reported   \n",
       "\n",
       "                         marflg                  herflg  \\\n",
       "0        Substance not reported  Substance not reported   \n",
       "1            Substance reported  Substance not reported   \n",
       "2            Substance reported  Substance not reported   \n",
       "3            Substance reported      Substance reported   \n",
       "4        Substance not reported  Substance not reported   \n",
       "...                         ...                     ...   \n",
       "1722498  Substance not reported  Substance not reported   \n",
       "1722499      Substance reported  Substance not reported   \n",
       "1722500      Substance reported  Substance not reported   \n",
       "1722501      Substance reported  Substance not reported   \n",
       "1722502  Substance not reported  Substance not reported   \n",
       "\n",
       "                        methflg                opsynflg  \\\n",
       "0        Substance not reported  Substance not reported   \n",
       "1        Substance not reported  Substance not reported   \n",
       "2        Substance not reported  Substance not reported   \n",
       "3        Substance not reported  Substance not reported   \n",
       "4        Substance not reported  Substance not reported   \n",
       "...                         ...                     ...   \n",
       "1722498  Substance not reported  Substance not reported   \n",
       "1722499  Substance not reported  Substance not reported   \n",
       "1722500  Substance not reported  Substance not reported   \n",
       "1722501  Substance not reported  Substance not reported   \n",
       "1722502  Substance not reported  Substance not reported   \n",
       "\n",
       "                         pcpflg                 hallflg  \\\n",
       "0        Substance not reported  Substance not reported   \n",
       "1        Substance not reported  Substance not reported   \n",
       "2        Substance not reported  Substance not reported   \n",
       "3        Substance not reported  Substance not reported   \n",
       "4        Substance not reported  Substance not reported   \n",
       "...                         ...                     ...   \n",
       "1722498  Substance not reported  Substance not reported   \n",
       "1722499  Substance not reported  Substance not reported   \n",
       "1722500  Substance not reported  Substance not reported   \n",
       "1722501  Substance not reported      Substance reported   \n",
       "1722502  Substance not reported  Substance not reported   \n",
       "\n",
       "                      mthhamflg  ...                 trnqflg  \\\n",
       "0        Substance not reported  ...  Substance not reported   \n",
       "1        Substance not reported  ...  Substance not reported   \n",
       "2        Substance not reported  ...  Substance not reported   \n",
       "3        Substance not reported  ...  Substance not reported   \n",
       "4        Substance not reported  ...  Substance not reported   \n",
       "...                         ...  ...                     ...   \n",
       "1722498  Substance not reported  ...  Substance not reported   \n",
       "1722499  Substance not reported  ...  Substance not reported   \n",
       "1722500      Substance reported  ...  Substance not reported   \n",
       "1722501  Substance not reported  ...  Substance not reported   \n",
       "1722502  Substance not reported  ...  Substance not reported   \n",
       "\n",
       "                        barbflg                sedhpflg  \\\n",
       "0        Substance not reported  Substance not reported   \n",
       "1        Substance not reported  Substance not reported   \n",
       "2        Substance not reported  Substance not reported   \n",
       "3        Substance not reported  Substance not reported   \n",
       "4        Substance not reported  Substance not reported   \n",
       "...                         ...                     ...   \n",
       "1722498  Substance not reported  Substance not reported   \n",
       "1722499  Substance not reported  Substance not reported   \n",
       "1722500  Substance not reported  Substance not reported   \n",
       "1722501  Substance not reported  Substance not reported   \n",
       "1722502  Substance not reported  Substance not reported   \n",
       "\n",
       "                         inhflg                  otcflg  \\\n",
       "0        Substance not reported  Substance not reported   \n",
       "1        Substance not reported  Substance not reported   \n",
       "2        Substance not reported  Substance not reported   \n",
       "3        Substance not reported  Substance not reported   \n",
       "4        Substance not reported  Substance not reported   \n",
       "...                         ...                     ...   \n",
       "1722498  Substance not reported  Substance not reported   \n",
       "1722499  Substance not reported  Substance not reported   \n",
       "1722500  Substance not reported  Substance not reported   \n",
       "1722501  Substance not reported  Substance not reported   \n",
       "1722502  Substance not reported  Substance not reported   \n",
       "\n",
       "                       otherflg   cen_div region               idu  \\\n",
       "0        Substance not reported   Pacific   West  IDU not reported   \n",
       "1        Substance not reported   Pacific   West  IDU not reported   \n",
       "2        Substance not reported   Pacific   West  IDU not reported   \n",
       "3        Substance not reported   Pacific   West  IDU not reported   \n",
       "4        Substance not reported   Pacific   West  IDU not reported   \n",
       "...                         ...       ...    ...               ...   \n",
       "1722498  Substance not reported  Mountain   West  IDU not reported   \n",
       "1722499  Substance not reported  Mountain   West  IDU not reported   \n",
       "1722500  Substance not reported  Mountain   West  IDU not reported   \n",
       "1722501  Substance not reported  Mountain   West  IDU not reported   \n",
       "1722502  Substance not reported  Mountain   West  IDU not reported   \n",
       "\n",
       "                       alc_class  \n",
       "0                   Alcohol only  \n",
       "1        Alcohol and other drugs  \n",
       "2        Alcohol and other drugs  \n",
       "3        Alcohol and other drugs  \n",
       "4                   Alcohol only  \n",
       "...                          ...  \n",
       "1722498             Alcohol only  \n",
       "1722499         Other drugs only  \n",
       "1722500         Other drugs only  \n",
       "1722501  Alcohol and other drugs  \n",
       "1722502             Alcohol only  \n",
       "\n",
       "[1722503 rows x 23 columns]"
      ]
     },
     "execution_count": 10,
     "metadata": {},
     "output_type": "execute_result"
    }
   ],
   "source": [
    "sql_query = \"\"\"\n",
    "SELECT d.CASEID, rs.reported_subst AS alcflg,\n",
    "        rs2.reported_subst AS cokeflg, rs3.reported_subst AS marflg, rs4.reported_subst AS herflg, rs5.reported_subst AS methflg,\n",
    "        rs6.reported_subst AS opsynflg, rs7.reported_subst AS pcpflg, rs8.reported_subst AS hallflg, rs9.reported_subst AS mthhamflg,\n",
    "        rs10.reported_subst AS amphflg, rs11.reported_subst AS stimflg, rs12.reported_subst AS benzflg, rs13.reported_subst AS trnqflg,\n",
    "        rs14.reported_subst AS barbflg, rs15.reported_subst AS sedhpflg, rs16.reported_subst AS inhflg, rs17.reported_subst AS otcflg,\n",
    "        rs18.reported_subst AS otherflg, cd.cen_div, reg.region, iv.idu, alc.alc_class\n",
    "FROM discharge as d\n",
    "INNER JOIN reported_sub AS rs ON d.ALCFLG = rs.id\n",
    "INNER JOIN reported_sub AS rs2 ON d.COKEFLG = rs2.id\n",
    "INNER JOIN reported_sub AS rs3 ON d.MARFLG = rs3.id\n",
    "INNER JOIN reported_sub AS rs4 ON d.HERFLG = rs4.id\n",
    "INNER JOIN reported_sub AS rs5 ON d.METHFLG = rs5.id\n",
    "INNER JOIN reported_sub AS rs6 ON d.OPSYNFLG = rs6.id\n",
    "INNER JOIN reported_sub AS rs7 ON d.PCPFLG = rs7.id\n",
    "INNER JOIN reported_sub AS rs8 ON d.HALLFLG = rs8.id\n",
    "INNER JOIN reported_sub AS rs9 ON d.MTHAMFLG = rs9.id\n",
    "INNER JOIN reported_sub AS rs10 ON d.AMPHFLG = rs10.id\n",
    "INNER JOIN reported_sub AS rs11 ON d.STIMFLG = rs11.id\n",
    "INNER JOIN reported_sub AS rs12 ON d.BENZFLG = rs12.id\n",
    "INNER JOIN reported_sub AS rs13 ON d.TRNQFLG = rs13.id\n",
    "INNER JOIN reported_sub AS rs14 ON d.BARBFLG = rs14.id\n",
    "INNER JOIN reported_sub AS rs15 ON d.SEDHPFLG = rs15.id\n",
    "INNER JOIN reported_sub AS rs16 ON d.INHFLG = rs16.id\n",
    "INNER JOIN reported_sub AS rs17 ON d.OTCFLG = rs17.id\n",
    "INNER JOIN reported_sub AS rs18 ON d.OTHERFLG = rs18.id\n",
    "INNER JOIN census_division AS cd ON d.DIVISION = cd.id\n",
    "INNER JOIN region AS reg ON d.REGION = reg.id\n",
    "INNER JOIN iv_drug AS iv ON d.IDU = iv.id\n",
    "INNER JOIN alc_drug AS alc ON d.ALCDRUG = alc.id\n",
    "\"\"\"\n",
    "\n",
    "discharge_full2 = sql.read_sql(sql_query, con = connection)\n",
    "discharge_full2"
   ]
  },
  {
   "cell_type": "code",
   "execution_count": 11,
   "metadata": {},
   "outputs": [],
   "source": [
    "discharge_complete = discharge_full.merge(discharge_full2)"
   ]
  },
  {
   "cell_type": "code",
   "execution_count": 12,
   "metadata": {},
   "outputs": [
    {
     "data": {
      "text/plain": [
       "(1722503, 78)"
      ]
     },
     "execution_count": 12,
     "metadata": {},
     "output_type": "execute_result"
    }
   ],
   "source": [
    "discharge_complete.shape"
   ]
  },
  {
   "cell_type": "code",
   "execution_count": 13,
   "metadata": {},
   "outputs": [],
   "source": [
    "# connection.close()"
   ]
  },
  {
   "cell_type": "code",
   "execution_count": 14,
   "metadata": {},
   "outputs": [],
   "source": [
    "discharge_complete = discharge_complete[~discharge_complete['substance_1'].isin([\"Missing/unknown/not collected/invalid\", \"None\"])]"
   ]
  },
  {
   "cell_type": "code",
   "execution_count": 15,
   "metadata": {},
   "outputs": [
    {
     "data": {
      "text/plain": [
       "(1590685, 78)"
      ]
     },
     "execution_count": 15,
     "metadata": {},
     "output_type": "execute_result"
    }
   ],
   "source": [
    "discharge_complete.shape"
   ]
  },
  {
   "cell_type": "code",
   "execution_count": 16,
   "metadata": {},
   "outputs": [
    {
     "data": {
      "text/plain": [
       "0.9234729924998679"
      ]
     },
     "execution_count": 16,
     "metadata": {},
     "output_type": "execute_result"
    }
   ],
   "source": [
    "(1590685/1722503)"
   ]
  },
  {
   "cell_type": "markdown",
   "metadata": {},
   "source": [
    "## Handling Other Missing Values"
   ]
  },
  {
   "cell_type": "code",
   "execution_count": 17,
   "metadata": {},
   "outputs": [
    {
     "data": {
      "text/plain": [
       "Index(['CASEID', 'states', 'edu_cat', 'education', 'marital_status', 'service',\n",
       "       'crim_ref', 'los_cat', 'len_stay', 'ref_source', 'prior_cat',\n",
       "       'treat_ep', 'arrest_cat', 'num_arrest', 'empl_status', 'MATS',\n",
       "       'co_ment_sub', 'pregnant', 'gender', 'veteran', 'housing', 'd_wait',\n",
       "       'service_dis', 'reason', 'empl_status_D', 'num_arrest_D', 'diagnosis',\n",
       "       'age_range', 'race', 'ethnicity', 'nil_status', 'nil_status_D',\n",
       "       'p_income', 'substance_1', 'substance_2', 'substance_3', 'substance_1d',\n",
       "       'substance_2d', 'substance_3d', 'sub_route', 'route2', 'route3', 'freq',\n",
       "       'freq2', 'freq3', 'freqd', 'freqd2', 'freqd3', 'afu_cat', 'afu', 'afu2',\n",
       "       'afu3', 'insurance', 'pay_source', 'self_attend', 'self_attend_d',\n",
       "       'alcflg', 'cokeflg', 'marflg', 'herflg', 'methflg', 'opsynflg',\n",
       "       'pcpflg', 'hallflg', 'mthhamflg', 'amphflg', 'stimflg', 'benzflg',\n",
       "       'trnqflg', 'barbflg', 'sedhpflg', 'inhflg', 'otcflg', 'otherflg',\n",
       "       'cen_div', 'region', 'idu', 'alc_class'],\n",
       "      dtype='object')"
      ]
     },
     "execution_count": 17,
     "metadata": {},
     "output_type": "execute_result"
    }
   ],
   "source": [
    "discharge_complete.columns"
   ]
  },
  {
   "cell_type": "code",
   "execution_count": 18,
   "metadata": {},
   "outputs": [
    {
     "data": {
      "text/plain": [
       "Grade 12 (or GED)                                                                       722678\n",
       "Grades 9 to 11                                                                          314318\n",
       "1-3 years of college, university, or vocational school                                  299744\n",
       "4 years of college, university, BA/BS, some postgraduate study, or more                  93200\n",
       "Less than one school grade, no schooling, nursery school, or kindergarten to Grade 8     86860\n",
       "Missing/unknown/not collected/invalid                                                    73885\n",
       "Name: education, dtype: int64"
      ]
     },
     "execution_count": 18,
     "metadata": {},
     "output_type": "execute_result"
    }
   ],
   "source": [
    "discharge_complete.education.value_counts()"
   ]
  },
  {
   "cell_type": "code",
   "execution_count": 19,
   "metadata": {},
   "outputs": [],
   "source": [
    "discharge_complete =  discharge_complete.replace(to_replace= 'Missing/unknown/not collected/invalid', value= np.nan)\n",
    "discharge_complete =  discharge_complete.replace(to_replace= 'Missing/unknown/not collected/invalid/no or deferred diagnosis', value= np.nan)\n",
    "discharge_complete =  discharge_complete.replace(to_replace= -9, value= np.nan)"
   ]
  },
  {
   "cell_type": "markdown",
   "metadata": {},
   "source": [
    "## EDA"
   ]
  },
  {
   "cell_type": "code",
   "execution_count": 20,
   "metadata": {},
   "outputs": [],
   "source": [
    "#Set Up Binary Target Variable\n",
    "discharge_complete['reason'] = [1 if treatment == \"Treatment completed\" else 0 for treatment in discharge_complete['reason']]"
   ]
  },
  {
   "cell_type": "code",
   "execution_count": 21,
   "metadata": {},
   "outputs": [],
   "source": [
    "primary_substance_difference = discharge_complete.loc[discharge_complete['substance_1'] != discharge_complete['substance_1d'],\n",
    "                                ['substance_1','substance_1d']]"
   ]
  },
  {
   "cell_type": "code",
   "execution_count": 22,
   "metadata": {},
   "outputs": [
    {
     "data": {
      "text/html": [
       "<div>\n",
       "<style scoped>\n",
       "    .dataframe tbody tr th:only-of-type {\n",
       "        vertical-align: middle;\n",
       "    }\n",
       "\n",
       "    .dataframe tbody tr th {\n",
       "        vertical-align: top;\n",
       "    }\n",
       "\n",
       "    .dataframe thead th {\n",
       "        text-align: right;\n",
       "    }\n",
       "</style>\n",
       "<table border=\"1\" class=\"dataframe\">\n",
       "  <thead>\n",
       "    <tr style=\"text-align: right;\">\n",
       "      <th></th>\n",
       "      <th>nil_status</th>\n",
       "      <th>nil_status_D</th>\n",
       "    </tr>\n",
       "  </thead>\n",
       "  <tbody>\n",
       "    <tr>\n",
       "      <th>0</th>\n",
       "      <td>NaN</td>\n",
       "      <td>NaN</td>\n",
       "    </tr>\n",
       "    <tr>\n",
       "      <th>1</th>\n",
       "      <td>NaN</td>\n",
       "      <td>NaN</td>\n",
       "    </tr>\n",
       "    <tr>\n",
       "      <th>3</th>\n",
       "      <td>NaN</td>\n",
       "      <td>NaN</td>\n",
       "    </tr>\n",
       "    <tr>\n",
       "      <th>5</th>\n",
       "      <td>NaN</td>\n",
       "      <td>NaN</td>\n",
       "    </tr>\n",
       "    <tr>\n",
       "      <th>6</th>\n",
       "      <td>NaN</td>\n",
       "      <td>NaN</td>\n",
       "    </tr>\n",
       "    <tr>\n",
       "      <th>...</th>\n",
       "      <td>...</td>\n",
       "      <td>...</td>\n",
       "    </tr>\n",
       "    <tr>\n",
       "      <th>1722493</th>\n",
       "      <td>NaN</td>\n",
       "      <td>NaN</td>\n",
       "    </tr>\n",
       "    <tr>\n",
       "      <th>1722497</th>\n",
       "      <td>Homemaker</td>\n",
       "      <td>NaN</td>\n",
       "    </tr>\n",
       "    <tr>\n",
       "      <th>1722498</th>\n",
       "      <td>NaN</td>\n",
       "      <td>NaN</td>\n",
       "    </tr>\n",
       "    <tr>\n",
       "      <th>1722500</th>\n",
       "      <td>NaN</td>\n",
       "      <td>NaN</td>\n",
       "    </tr>\n",
       "    <tr>\n",
       "      <th>1722502</th>\n",
       "      <td>NaN</td>\n",
       "      <td>NaN</td>\n",
       "    </tr>\n",
       "  </tbody>\n",
       "</table>\n",
       "<p>1298459 rows × 2 columns</p>\n",
       "</div>"
      ],
      "text/plain": [
       "        nil_status nil_status_D\n",
       "0              NaN          NaN\n",
       "1              NaN          NaN\n",
       "3              NaN          NaN\n",
       "5              NaN          NaN\n",
       "6              NaN          NaN\n",
       "...            ...          ...\n",
       "1722493        NaN          NaN\n",
       "1722497  Homemaker          NaN\n",
       "1722498        NaN          NaN\n",
       "1722500        NaN          NaN\n",
       "1722502        NaN          NaN\n",
       "\n",
       "[1298459 rows x 2 columns]"
      ]
     },
     "execution_count": 22,
     "metadata": {},
     "output_type": "execute_result"
    }
   ],
   "source": [
    "discharge_complete.loc[discharge_complete['nil_status'] != discharge_complete['nil_status_D'],['nil_status','nil_status_D']]"
   ]
  },
  {
   "cell_type": "code",
   "execution_count": 23,
   "metadata": {},
   "outputs": [
    {
     "data": {
      "text/plain": [
       "1323365"
      ]
     },
     "execution_count": 23,
     "metadata": {},
     "output_type": "execute_result"
    }
   ],
   "source": [
    "#Check how many rows have differing primary substance at the beginning of treatment and the end\n",
    "discharge_complete.shape[0] - primary_substance_difference.shape[0]"
   ]
  },
  {
   "cell_type": "markdown",
   "metadata": {},
   "source": [
    "Finding: Primary Substance at Admission is not always the same at discharge. Reason: Patient was not ready to open up at the time"
   ]
  },
  {
   "cell_type": "code",
   "execution_count": 24,
   "metadata": {},
   "outputs": [
    {
     "data": {
      "text/plain": [
       "0                                        Treatment completed\n",
       "1                                     Terminated by facility\n",
       "2                                     Terminated by facility\n",
       "3                                        Treatment completed\n",
       "4                                     Terminated by facility\n",
       "                                 ...                        \n",
       "1722498                             Dropped out of treatment\n",
       "1722499                             Dropped out of treatment\n",
       "1722500    Transferred to another treatment program or fa...\n",
       "1722501                                  Treatment completed\n",
       "1722502                             Dropped out of treatment\n",
       "Name: reason, Length: 1722503, dtype: object"
      ]
     },
     "execution_count": 24,
     "metadata": {},
     "output_type": "execute_result"
    }
   ],
   "source": [
    "discharge_full['reason']"
   ]
  },
  {
   "cell_type": "code",
   "execution_count": 25,
   "metadata": {},
   "outputs": [
    {
     "data": {
      "text/plain": [
       "0    0.610851\n",
       "1    0.389149\n",
       "Name: reason, dtype: float64"
      ]
     },
     "execution_count": 25,
     "metadata": {},
     "output_type": "execute_result"
    }
   ],
   "source": [
    "discharge_complete['reason'].value_counts(normalize=True)"
   ]
  },
  {
   "cell_type": "code",
   "execution_count": 26,
   "metadata": {},
   "outputs": [
    {
     "data": {
      "text/html": [
       "<div>\n",
       "<style scoped>\n",
       "    .dataframe tbody tr th:only-of-type {\n",
       "        vertical-align: middle;\n",
       "    }\n",
       "\n",
       "    .dataframe tbody tr th {\n",
       "        vertical-align: top;\n",
       "    }\n",
       "\n",
       "    .dataframe thead th {\n",
       "        text-align: right;\n",
       "    }\n",
       "</style>\n",
       "<table border=\"1\" class=\"dataframe\">\n",
       "  <thead>\n",
       "    <tr style=\"text-align: right;\">\n",
       "      <th></th>\n",
       "      <th>0</th>\n",
       "    </tr>\n",
       "  </thead>\n",
       "  <tbody>\n",
       "    <tr>\n",
       "      <th>states</th>\n",
       "      <td>New York</td>\n",
       "    </tr>\n",
       "    <tr>\n",
       "      <th>edu_cat</th>\n",
       "      <td>3.0</td>\n",
       "    </tr>\n",
       "    <tr>\n",
       "      <th>education</th>\n",
       "      <td>Grade 12 (or GED)</td>\n",
       "    </tr>\n",
       "    <tr>\n",
       "      <th>marital_status</th>\n",
       "      <td>Never married</td>\n",
       "    </tr>\n",
       "    <tr>\n",
       "      <th>service</th>\n",
       "      <td>Ambulatory, non-intensive outpatient</td>\n",
       "    </tr>\n",
       "    <tr>\n",
       "      <th>crim_ref</th>\n",
       "      <td>Probation/parole</td>\n",
       "    </tr>\n",
       "    <tr>\n",
       "      <th>los_cat</th>\n",
       "      <td>1</td>\n",
       "    </tr>\n",
       "    <tr>\n",
       "      <th>len_stay</th>\n",
       "      <td>1</td>\n",
       "    </tr>\n",
       "    <tr>\n",
       "      <th>ref_source</th>\n",
       "      <td>Individual (includes self-referral)</td>\n",
       "    </tr>\n",
       "    <tr>\n",
       "      <th>prior_cat</th>\n",
       "      <td>1.0</td>\n",
       "    </tr>\n",
       "    <tr>\n",
       "      <th>treat_ep</th>\n",
       "      <td>One or more prior treatment episodes</td>\n",
       "    </tr>\n",
       "    <tr>\n",
       "      <th>arrest_cat</th>\n",
       "      <td>0.0</td>\n",
       "    </tr>\n",
       "    <tr>\n",
       "      <th>num_arrest</th>\n",
       "      <td>None</td>\n",
       "    </tr>\n",
       "    <tr>\n",
       "      <th>empl_status</th>\n",
       "      <td>Unemployed</td>\n",
       "    </tr>\n",
       "    <tr>\n",
       "      <th>MATS</th>\n",
       "      <td>No</td>\n",
       "    </tr>\n",
       "    <tr>\n",
       "      <th>co_ment_sub</th>\n",
       "      <td>No</td>\n",
       "    </tr>\n",
       "    <tr>\n",
       "      <th>pregnant</th>\n",
       "      <td>No</td>\n",
       "    </tr>\n",
       "    <tr>\n",
       "      <th>gender</th>\n",
       "      <td>Male</td>\n",
       "    </tr>\n",
       "    <tr>\n",
       "      <th>veteran</th>\n",
       "      <td>No</td>\n",
       "    </tr>\n",
       "    <tr>\n",
       "      <th>housing</th>\n",
       "      <td>Independent living</td>\n",
       "    </tr>\n",
       "    <tr>\n",
       "      <th>d_wait</th>\n",
       "      <td>0</td>\n",
       "    </tr>\n",
       "    <tr>\n",
       "      <th>service_dis</th>\n",
       "      <td>Ambulatory, non-intensive outpatient</td>\n",
       "    </tr>\n",
       "    <tr>\n",
       "      <th>reason</th>\n",
       "      <td>0</td>\n",
       "    </tr>\n",
       "    <tr>\n",
       "      <th>empl_status_D</th>\n",
       "      <td>Unemployed</td>\n",
       "    </tr>\n",
       "    <tr>\n",
       "      <th>num_arrest_D</th>\n",
       "      <td>None</td>\n",
       "    </tr>\n",
       "    <tr>\n",
       "      <th>diagnosis</th>\n",
       "      <td>Opioid dependence</td>\n",
       "    </tr>\n",
       "    <tr>\n",
       "      <th>age_range</th>\n",
       "      <td>30-34 years</td>\n",
       "    </tr>\n",
       "    <tr>\n",
       "      <th>race</th>\n",
       "      <td>White</td>\n",
       "    </tr>\n",
       "    <tr>\n",
       "      <th>ethnicity</th>\n",
       "      <td>Not of Hispanic or Latino origin</td>\n",
       "    </tr>\n",
       "    <tr>\n",
       "      <th>nil_status</th>\n",
       "      <td>Other</td>\n",
       "    </tr>\n",
       "    <tr>\n",
       "      <th>nil_status_D</th>\n",
       "      <td>Other</td>\n",
       "    </tr>\n",
       "    <tr>\n",
       "      <th>p_income</th>\n",
       "      <td>None</td>\n",
       "    </tr>\n",
       "    <tr>\n",
       "      <th>substance_1</th>\n",
       "      <td>Alcohol</td>\n",
       "    </tr>\n",
       "    <tr>\n",
       "      <th>substance_2</th>\n",
       "      <td>None</td>\n",
       "    </tr>\n",
       "    <tr>\n",
       "      <th>substance_3</th>\n",
       "      <td>None</td>\n",
       "    </tr>\n",
       "    <tr>\n",
       "      <th>substance_1d</th>\n",
       "      <td>Alcohol</td>\n",
       "    </tr>\n",
       "    <tr>\n",
       "      <th>substance_2d</th>\n",
       "      <td>None</td>\n",
       "    </tr>\n",
       "    <tr>\n",
       "      <th>substance_3d</th>\n",
       "      <td>None</td>\n",
       "    </tr>\n",
       "    <tr>\n",
       "      <th>sub_route</th>\n",
       "      <td>Oral</td>\n",
       "    </tr>\n",
       "    <tr>\n",
       "      <th>route2</th>\n",
       "      <td>Smoking</td>\n",
       "    </tr>\n",
       "    <tr>\n",
       "      <th>route3</th>\n",
       "      <td>Smoking</td>\n",
       "    </tr>\n",
       "    <tr>\n",
       "      <th>freq</th>\n",
       "      <td>Daily use</td>\n",
       "    </tr>\n",
       "    <tr>\n",
       "      <th>freq2</th>\n",
       "      <td>Some use</td>\n",
       "    </tr>\n",
       "    <tr>\n",
       "      <th>freq3</th>\n",
       "      <td>No use in the past month</td>\n",
       "    </tr>\n",
       "    <tr>\n",
       "      <th>freqd</th>\n",
       "      <td>No use in the past month</td>\n",
       "    </tr>\n",
       "    <tr>\n",
       "      <th>freqd2</th>\n",
       "      <td>Some use</td>\n",
       "    </tr>\n",
       "    <tr>\n",
       "      <th>freqd3</th>\n",
       "      <td>No use in the past month</td>\n",
       "    </tr>\n",
       "    <tr>\n",
       "      <th>afu_cat</th>\n",
       "      <td>3.0</td>\n",
       "    </tr>\n",
       "    <tr>\n",
       "      <th>afu</th>\n",
       "      <td>15-17 years</td>\n",
       "    </tr>\n",
       "    <tr>\n",
       "      <th>afu2</th>\n",
       "      <td>15-17 years</td>\n",
       "    </tr>\n",
       "    <tr>\n",
       "      <th>afu3</th>\n",
       "      <td>15-17 years</td>\n",
       "    </tr>\n",
       "    <tr>\n",
       "      <th>insurance</th>\n",
       "      <td>Medicaid</td>\n",
       "    </tr>\n",
       "    <tr>\n",
       "      <th>pay_source</th>\n",
       "      <td>Medicaid</td>\n",
       "    </tr>\n",
       "    <tr>\n",
       "      <th>self_attend</th>\n",
       "      <td>No attendance</td>\n",
       "    </tr>\n",
       "    <tr>\n",
       "      <th>self_attend_d</th>\n",
       "      <td>No attendance</td>\n",
       "    </tr>\n",
       "    <tr>\n",
       "      <th>alcflg</th>\n",
       "      <td>Substance not reported</td>\n",
       "    </tr>\n",
       "    <tr>\n",
       "      <th>cokeflg</th>\n",
       "      <td>Substance not reported</td>\n",
       "    </tr>\n",
       "    <tr>\n",
       "      <th>marflg</th>\n",
       "      <td>Substance not reported</td>\n",
       "    </tr>\n",
       "    <tr>\n",
       "      <th>herflg</th>\n",
       "      <td>Substance not reported</td>\n",
       "    </tr>\n",
       "    <tr>\n",
       "      <th>methflg</th>\n",
       "      <td>Substance not reported</td>\n",
       "    </tr>\n",
       "    <tr>\n",
       "      <th>opsynflg</th>\n",
       "      <td>Substance not reported</td>\n",
       "    </tr>\n",
       "    <tr>\n",
       "      <th>pcpflg</th>\n",
       "      <td>Substance not reported</td>\n",
       "    </tr>\n",
       "    <tr>\n",
       "      <th>hallflg</th>\n",
       "      <td>Substance not reported</td>\n",
       "    </tr>\n",
       "    <tr>\n",
       "      <th>mthhamflg</th>\n",
       "      <td>Substance not reported</td>\n",
       "    </tr>\n",
       "    <tr>\n",
       "      <th>amphflg</th>\n",
       "      <td>Substance not reported</td>\n",
       "    </tr>\n",
       "    <tr>\n",
       "      <th>stimflg</th>\n",
       "      <td>Substance not reported</td>\n",
       "    </tr>\n",
       "    <tr>\n",
       "      <th>benzflg</th>\n",
       "      <td>Substance not reported</td>\n",
       "    </tr>\n",
       "    <tr>\n",
       "      <th>trnqflg</th>\n",
       "      <td>Substance not reported</td>\n",
       "    </tr>\n",
       "    <tr>\n",
       "      <th>barbflg</th>\n",
       "      <td>Substance not reported</td>\n",
       "    </tr>\n",
       "    <tr>\n",
       "      <th>sedhpflg</th>\n",
       "      <td>Substance not reported</td>\n",
       "    </tr>\n",
       "    <tr>\n",
       "      <th>inhflg</th>\n",
       "      <td>Substance not reported</td>\n",
       "    </tr>\n",
       "    <tr>\n",
       "      <th>otcflg</th>\n",
       "      <td>Substance not reported</td>\n",
       "    </tr>\n",
       "    <tr>\n",
       "      <th>otherflg</th>\n",
       "      <td>Substance not reported</td>\n",
       "    </tr>\n",
       "    <tr>\n",
       "      <th>cen_div</th>\n",
       "      <td>Middle Atlantic</td>\n",
       "    </tr>\n",
       "    <tr>\n",
       "      <th>region</th>\n",
       "      <td>Northeast</td>\n",
       "    </tr>\n",
       "    <tr>\n",
       "      <th>idu</th>\n",
       "      <td>IDU not reported</td>\n",
       "    </tr>\n",
       "    <tr>\n",
       "      <th>alc_class</th>\n",
       "      <td>Other drugs only</td>\n",
       "    </tr>\n",
       "  </tbody>\n",
       "</table>\n",
       "</div>"
      ],
      "text/plain": [
       "                                                   0\n",
       "states                                      New York\n",
       "edu_cat                                          3.0\n",
       "education                          Grade 12 (or GED)\n",
       "marital_status                         Never married\n",
       "service         Ambulatory, non-intensive outpatient\n",
       "crim_ref                            Probation/parole\n",
       "los_cat                                            1\n",
       "len_stay                                           1\n",
       "ref_source       Individual (includes self-referral)\n",
       "prior_cat                                        1.0\n",
       "treat_ep        One or more prior treatment episodes\n",
       "arrest_cat                                       0.0\n",
       "num_arrest                                      None\n",
       "empl_status                               Unemployed\n",
       "MATS                                              No\n",
       "co_ment_sub                                       No\n",
       "pregnant                                          No\n",
       "gender                                          Male\n",
       "veteran                                           No\n",
       "housing                           Independent living\n",
       "d_wait                                             0\n",
       "service_dis     Ambulatory, non-intensive outpatient\n",
       "reason                                             0\n",
       "empl_status_D                             Unemployed\n",
       "num_arrest_D                                    None\n",
       "diagnosis                          Opioid dependence\n",
       "age_range                                30-34 years\n",
       "race                                           White\n",
       "ethnicity           Not of Hispanic or Latino origin\n",
       "nil_status                                     Other\n",
       "nil_status_D                                   Other\n",
       "p_income                                        None\n",
       "substance_1                                  Alcohol\n",
       "substance_2                                     None\n",
       "substance_3                                     None\n",
       "substance_1d                                 Alcohol\n",
       "substance_2d                                    None\n",
       "substance_3d                                    None\n",
       "sub_route                                       Oral\n",
       "route2                                       Smoking\n",
       "route3                                       Smoking\n",
       "freq                                       Daily use\n",
       "freq2                                       Some use\n",
       "freq3                       No use in the past month\n",
       "freqd                       No use in the past month\n",
       "freqd2                                      Some use\n",
       "freqd3                      No use in the past month\n",
       "afu_cat                                          3.0\n",
       "afu                                      15-17 years\n",
       "afu2                                     15-17 years\n",
       "afu3                                     15-17 years\n",
       "insurance                                   Medicaid\n",
       "pay_source                                  Medicaid\n",
       "self_attend                            No attendance\n",
       "self_attend_d                          No attendance\n",
       "alcflg                        Substance not reported\n",
       "cokeflg                       Substance not reported\n",
       "marflg                        Substance not reported\n",
       "herflg                        Substance not reported\n",
       "methflg                       Substance not reported\n",
       "opsynflg                      Substance not reported\n",
       "pcpflg                        Substance not reported\n",
       "hallflg                       Substance not reported\n",
       "mthhamflg                     Substance not reported\n",
       "amphflg                       Substance not reported\n",
       "stimflg                       Substance not reported\n",
       "benzflg                       Substance not reported\n",
       "trnqflg                       Substance not reported\n",
       "barbflg                       Substance not reported\n",
       "sedhpflg                      Substance not reported\n",
       "inhflg                        Substance not reported\n",
       "otcflg                        Substance not reported\n",
       "otherflg                      Substance not reported\n",
       "cen_div                              Middle Atlantic\n",
       "region                                     Northeast\n",
       "idu                                 IDU not reported\n",
       "alc_class                           Other drugs only"
      ]
     },
     "execution_count": 26,
     "metadata": {},
     "output_type": "execute_result"
    }
   ],
   "source": [
    "pd.set_option('display.max_rows', 77)\n",
    "discharge_complete.drop(columns='CASEID').mode().T"
   ]
  },
  {
   "cell_type": "code",
   "execution_count": 27,
   "metadata": {},
   "outputs": [
    {
     "data": {
      "text/plain": [
       "Index(['CASEID', 'states', 'edu_cat', 'education', 'marital_status', 'service',\n",
       "       'crim_ref', 'los_cat', 'len_stay', 'ref_source', 'prior_cat',\n",
       "       'treat_ep', 'arrest_cat', 'num_arrest', 'empl_status', 'MATS',\n",
       "       'co_ment_sub', 'pregnant', 'gender', 'veteran', 'housing', 'd_wait',\n",
       "       'service_dis', 'reason', 'empl_status_D', 'num_arrest_D', 'diagnosis',\n",
       "       'age_range', 'race', 'ethnicity', 'nil_status', 'nil_status_D',\n",
       "       'p_income', 'substance_1', 'substance_2', 'substance_3', 'substance_1d',\n",
       "       'substance_2d', 'substance_3d', 'sub_route', 'route2', 'route3', 'freq',\n",
       "       'freq2', 'freq3', 'freqd', 'freqd2', 'freqd3', 'afu_cat', 'afu', 'afu2',\n",
       "       'afu3', 'insurance', 'pay_source', 'self_attend', 'self_attend_d',\n",
       "       'alcflg', 'cokeflg', 'marflg', 'herflg', 'methflg', 'opsynflg',\n",
       "       'pcpflg', 'hallflg', 'mthhamflg', 'amphflg', 'stimflg', 'benzflg',\n",
       "       'trnqflg', 'barbflg', 'sedhpflg', 'inhflg', 'otcflg', 'otherflg',\n",
       "       'cen_div', 'region', 'idu', 'alc_class'],\n",
       "      dtype='object')"
      ]
     },
     "execution_count": 27,
     "metadata": {},
     "output_type": "execute_result"
    }
   ],
   "source": [
    "discharge_complete.columns"
   ]
  },
  {
   "cell_type": "code",
   "execution_count": 28,
   "metadata": {},
   "outputs": [],
   "source": [
    "len_list = []\n",
    "for num in range(1,31):\n",
    "    len_list.append(str(num))"
   ]
  },
  {
   "cell_type": "code",
   "execution_count": 29,
   "metadata": {},
   "outputs": [],
   "source": [
    "len_non_num = ['31 to 45 days', '46 to 60 days', \n",
    "                '61 to 90 days', '91 to 120 days', '121 to 180 days',\n",
    "                '181 to 365 days', 'More than a year']"
   ]
  },
  {
   "cell_type": "code",
   "execution_count": 30,
   "metadata": {},
   "outputs": [],
   "source": [
    "len_list = len_list + len_non_num"
   ]
  },
  {
   "cell_type": "code",
   "execution_count": 31,
   "metadata": {},
   "outputs": [
    {
     "data": {
      "image/png": "[encoded data removed]",
      "text/plain": [
       "<Figure size 1440x1080 with 1 Axes>"
      ]
     },
     "metadata": {
      "needs_background": "light"
     },
     "output_type": "display_data"
    }
   ],
   "source": [
    "plt.figure(figsize = (20,15))\n",
    "sns.countplot(data = discharge_complete, x = 'len_stay', \n",
    "             hue = 'reason', hue_order = discharge_complete['reason'].unique(),\n",
    "             order = len_list)\n",
    "plt.xlabel(\"Length of Stay\", fontdict= {'fontsize': 20})\n",
    "plt.title(\"Length of Stay and Treatment Completion\", fontdict= {'fontsize': 20})\n",
    "plt.xticks(rotation = 90, fontsize = 18)\n",
    "plt.yticks(fontsize = 18);\n"
   ]
  },
  {
   "cell_type": "code",
   "execution_count": 32,
   "metadata": {},
   "outputs": [
    {
     "data": {
      "text/plain": [
       "service                                         \n",
       "Ambulatory, non-intensive outpatient                0.568317\n",
       "Detox, 24-hour, free-standing residential           0.185344\n",
       "Ambulatory, intensive outpatient                    0.165531\n",
       "Rehab/residential, short term (30 days or fewer)    0.036739\n",
       "Rehab/residential, long term (more than 30 days)    0.024873\n",
       "Detox, 24-hour, hospital inpatient                  0.015618\n",
       "Ambulatory, detoxification                          0.003027\n",
       "Rehab/residential, hospital (non-detox)             0.000551\n",
       "dtype: float64"
      ]
     },
     "execution_count": 32,
     "metadata": {},
     "output_type": "execute_result"
    }
   ],
   "source": [
    "discharge_complete.loc[discharge_complete['len_stay'] == '1',['service']].value_counts(normalize=True)"
   ]
  },
  {
   "cell_type": "code",
   "execution_count": 33,
   "metadata": {},
   "outputs": [
    {
     "data": {
      "text/html": [
       "<div>\n",
       "<style scoped>\n",
       "    .dataframe tbody tr th:only-of-type {\n",
       "        vertical-align: middle;\n",
       "    }\n",
       "\n",
       "    .dataframe tbody tr th {\n",
       "        vertical-align: top;\n",
       "    }\n",
       "\n",
       "    .dataframe thead th {\n",
       "        text-align: right;\n",
       "    }\n",
       "</style>\n",
       "<table border=\"1\" class=\"dataframe\">\n",
       "  <thead>\n",
       "    <tr style=\"text-align: right;\">\n",
       "      <th></th>\n",
       "      <th>service</th>\n",
       "      <th>len_stay</th>\n",
       "    </tr>\n",
       "  </thead>\n",
       "  <tbody>\n",
       "    <tr>\n",
       "      <th>0</th>\n",
       "      <td>Ambulatory, non-intensive outpatient</td>\n",
       "      <td>More than a year</td>\n",
       "    </tr>\n",
       "    <tr>\n",
       "      <th>1</th>\n",
       "      <td>Ambulatory, non-intensive outpatient</td>\n",
       "      <td>121 to 180 days</td>\n",
       "    </tr>\n",
       "    <tr>\n",
       "      <th>2</th>\n",
       "      <td>Ambulatory, non-intensive outpatient</td>\n",
       "      <td>121 to 180 days</td>\n",
       "    </tr>\n",
       "    <tr>\n",
       "      <th>3</th>\n",
       "      <td>Ambulatory, non-intensive outpatient</td>\n",
       "      <td>More than a year</td>\n",
       "    </tr>\n",
       "    <tr>\n",
       "      <th>4</th>\n",
       "      <td>Ambulatory, non-intensive outpatient</td>\n",
       "      <td>More than a year</td>\n",
       "    </tr>\n",
       "    <tr>\n",
       "      <th>...</th>\n",
       "      <td>...</td>\n",
       "      <td>...</td>\n",
       "    </tr>\n",
       "    <tr>\n",
       "      <th>1722498</th>\n",
       "      <td>Ambulatory, non-intensive outpatient</td>\n",
       "      <td>61 to 90 days</td>\n",
       "    </tr>\n",
       "    <tr>\n",
       "      <th>1722499</th>\n",
       "      <td>Ambulatory, non-intensive outpatient</td>\n",
       "      <td>13</td>\n",
       "    </tr>\n",
       "    <tr>\n",
       "      <th>1722500</th>\n",
       "      <td>Ambulatory, intensive outpatient</td>\n",
       "      <td>61 to 90 days</td>\n",
       "    </tr>\n",
       "    <tr>\n",
       "      <th>1722501</th>\n",
       "      <td>Ambulatory, non-intensive outpatient</td>\n",
       "      <td>14</td>\n",
       "    </tr>\n",
       "    <tr>\n",
       "      <th>1722502</th>\n",
       "      <td>Ambulatory, non-intensive outpatient</td>\n",
       "      <td>13</td>\n",
       "    </tr>\n",
       "  </tbody>\n",
       "</table>\n",
       "<p>1590685 rows × 2 columns</p>\n",
       "</div>"
      ],
      "text/plain": [
       "                                      service          len_stay\n",
       "0        Ambulatory, non-intensive outpatient  More than a year\n",
       "1        Ambulatory, non-intensive outpatient   121 to 180 days\n",
       "2        Ambulatory, non-intensive outpatient   121 to 180 days\n",
       "3        Ambulatory, non-intensive outpatient  More than a year\n",
       "4        Ambulatory, non-intensive outpatient  More than a year\n",
       "...                                       ...               ...\n",
       "1722498  Ambulatory, non-intensive outpatient     61 to 90 days\n",
       "1722499  Ambulatory, non-intensive outpatient                13\n",
       "1722500      Ambulatory, intensive outpatient     61 to 90 days\n",
       "1722501  Ambulatory, non-intensive outpatient                14\n",
       "1722502  Ambulatory, non-intensive outpatient                13\n",
       "\n",
       "[1590685 rows x 2 columns]"
      ]
     },
     "execution_count": 33,
     "metadata": {},
     "output_type": "execute_result"
    }
   ],
   "source": [
    "discharge_complete[['service','len_stay']]"
   ]
  },
  {
   "cell_type": "code",
   "execution_count": 34,
   "metadata": {},
   "outputs": [],
   "source": [
    "features = ['diagnosis', 'service', 'len_stay', 'ref_source', ]"
   ]
  },
  {
   "cell_type": "code",
   "execution_count": 35,
   "metadata": {},
   "outputs": [
    {
     "data": {
      "text/plain": [
       "0.779570436635789"
      ]
     },
     "execution_count": 35,
     "metadata": {},
     "output_type": "execute_result"
    }
   ],
   "source": [
    "(discharge_complete.shape[0] - discharge_complete['diagnosis'].value_counts()[0])/discharge_complete.shape[0]"
   ]
  },
  {
   "cell_type": "code",
   "execution_count": 36,
   "metadata": {},
   "outputs": [
    {
     "data": {
      "text/html": [
       "<div>\n",
       "<style scoped>\n",
       "    .dataframe tbody tr th:only-of-type {\n",
       "        vertical-align: middle;\n",
       "    }\n",
       "\n",
       "    .dataframe tbody tr th {\n",
       "        vertical-align: top;\n",
       "    }\n",
       "\n",
       "    .dataframe thead th {\n",
       "        text-align: right;\n",
       "    }\n",
       "</style>\n",
       "<table border=\"1\" class=\"dataframe\">\n",
       "  <thead>\n",
       "    <tr style=\"text-align: right;\">\n",
       "      <th></th>\n",
       "      <th>diagnosis</th>\n",
       "      <th>substance_1</th>\n",
       "      <th>service</th>\n",
       "      <th>reason</th>\n",
       "    </tr>\n",
       "  </thead>\n",
       "  <tbody>\n",
       "    <tr>\n",
       "      <th>0</th>\n",
       "      <td>Other mental health condition</td>\n",
       "      <td>Alcohol</td>\n",
       "      <td>Ambulatory, non-intensive outpatient</td>\n",
       "      <td>1</td>\n",
       "    </tr>\n",
       "    <tr>\n",
       "      <th>1</th>\n",
       "      <td>Alcohol dependence</td>\n",
       "      <td>Alcohol</td>\n",
       "      <td>Ambulatory, non-intensive outpatient</td>\n",
       "      <td>0</td>\n",
       "    </tr>\n",
       "    <tr>\n",
       "      <th>2</th>\n",
       "      <td>Other mental health condition</td>\n",
       "      <td>Alcohol</td>\n",
       "      <td>Ambulatory, non-intensive outpatient</td>\n",
       "      <td>0</td>\n",
       "    </tr>\n",
       "    <tr>\n",
       "      <th>3</th>\n",
       "      <td>Alcohol dependence</td>\n",
       "      <td>Alcohol</td>\n",
       "      <td>Ambulatory, non-intensive outpatient</td>\n",
       "      <td>1</td>\n",
       "    </tr>\n",
       "    <tr>\n",
       "      <th>4</th>\n",
       "      <td>Alcohol dependence</td>\n",
       "      <td>Alcohol</td>\n",
       "      <td>Ambulatory, non-intensive outpatient</td>\n",
       "      <td>0</td>\n",
       "    </tr>\n",
       "    <tr>\n",
       "      <th>...</th>\n",
       "      <td>...</td>\n",
       "      <td>...</td>\n",
       "      <td>...</td>\n",
       "      <td>...</td>\n",
       "    </tr>\n",
       "    <tr>\n",
       "      <th>1722498</th>\n",
       "      <td>Alcohol dependence</td>\n",
       "      <td>Alcohol</td>\n",
       "      <td>Ambulatory, non-intensive outpatient</td>\n",
       "      <td>0</td>\n",
       "    </tr>\n",
       "    <tr>\n",
       "      <th>1722499</th>\n",
       "      <td>Cannabis abuse</td>\n",
       "      <td>Marijuana/hashish</td>\n",
       "      <td>Ambulatory, non-intensive outpatient</td>\n",
       "      <td>0</td>\n",
       "    </tr>\n",
       "    <tr>\n",
       "      <th>1722500</th>\n",
       "      <td>Other substance dependence</td>\n",
       "      <td>Methamphetamine/speed</td>\n",
       "      <td>Ambulatory, intensive outpatient</td>\n",
       "      <td>0</td>\n",
       "    </tr>\n",
       "    <tr>\n",
       "      <th>1722501</th>\n",
       "      <td>Cannabis dependence</td>\n",
       "      <td>Marijuana/hashish</td>\n",
       "      <td>Ambulatory, non-intensive outpatient</td>\n",
       "      <td>1</td>\n",
       "    </tr>\n",
       "    <tr>\n",
       "      <th>1722502</th>\n",
       "      <td>Alcohol dependence</td>\n",
       "      <td>Alcohol</td>\n",
       "      <td>Ambulatory, non-intensive outpatient</td>\n",
       "      <td>0</td>\n",
       "    </tr>\n",
       "  </tbody>\n",
       "</table>\n",
       "<p>1590685 rows × 4 columns</p>\n",
       "</div>"
      ],
      "text/plain": [
       "                             diagnosis            substance_1  \\\n",
       "0        Other mental health condition                Alcohol   \n",
       "1                   Alcohol dependence                Alcohol   \n",
       "2        Other mental health condition                Alcohol   \n",
       "3                   Alcohol dependence                Alcohol   \n",
       "4                   Alcohol dependence                Alcohol   \n",
       "...                                ...                    ...   \n",
       "1722498             Alcohol dependence                Alcohol   \n",
       "1722499                 Cannabis abuse      Marijuana/hashish   \n",
       "1722500     Other substance dependence  Methamphetamine/speed   \n",
       "1722501            Cannabis dependence      Marijuana/hashish   \n",
       "1722502             Alcohol dependence                Alcohol   \n",
       "\n",
       "                                      service  reason  \n",
       "0        Ambulatory, non-intensive outpatient       1  \n",
       "1        Ambulatory, non-intensive outpatient       0  \n",
       "2        Ambulatory, non-intensive outpatient       0  \n",
       "3        Ambulatory, non-intensive outpatient       1  \n",
       "4        Ambulatory, non-intensive outpatient       0  \n",
       "...                                       ...     ...  \n",
       "1722498  Ambulatory, non-intensive outpatient       0  \n",
       "1722499  Ambulatory, non-intensive outpatient       0  \n",
       "1722500      Ambulatory, intensive outpatient       0  \n",
       "1722501  Ambulatory, non-intensive outpatient       1  \n",
       "1722502  Ambulatory, non-intensive outpatient       0  \n",
       "\n",
       "[1590685 rows x 4 columns]"
      ]
     },
     "execution_count": 36,
     "metadata": {},
     "output_type": "execute_result"
    }
   ],
   "source": [
    "discharge_complete[['diagnosis','substance_1','service','reason'] ]"
   ]
  },
  {
   "cell_type": "code",
   "execution_count": 37,
   "metadata": {},
   "outputs": [
    {
     "data": {
      "text/html": [
       "<div>\n",
       "<style scoped>\n",
       "    .dataframe tbody tr th:only-of-type {\n",
       "        vertical-align: middle;\n",
       "    }\n",
       "\n",
       "    .dataframe tbody tr th {\n",
       "        vertical-align: top;\n",
       "    }\n",
       "\n",
       "    .dataframe thead th {\n",
       "        text-align: right;\n",
       "    }\n",
       "</style>\n",
       "<table border=\"1\" class=\"dataframe\">\n",
       "  <thead>\n",
       "    <tr style=\"text-align: right;\">\n",
       "      <th></th>\n",
       "      <th>substance_1</th>\n",
       "    </tr>\n",
       "  </thead>\n",
       "  <tbody>\n",
       "    <tr>\n",
       "      <th>Alcohol</th>\n",
       "      <td>521673</td>\n",
       "    </tr>\n",
       "    <tr>\n",
       "      <th>Heroin</th>\n",
       "      <td>391533</td>\n",
       "    </tr>\n",
       "    <tr>\n",
       "      <th>Methamphetamine/speed</th>\n",
       "      <td>206912</td>\n",
       "    </tr>\n",
       "    <tr>\n",
       "      <th>Marijuana/hashish</th>\n",
       "      <td>187746</td>\n",
       "    </tr>\n",
       "    <tr>\n",
       "      <th>Other opiates and synthetics</th>\n",
       "      <td>126346</td>\n",
       "    </tr>\n",
       "    <tr>\n",
       "      <th>Cocaine/crack</th>\n",
       "      <td>99141</td>\n",
       "    </tr>\n",
       "    <tr>\n",
       "      <th>Benzodiazepines</th>\n",
       "      <td>17802</td>\n",
       "    </tr>\n",
       "    <tr>\n",
       "      <th>Other drugs</th>\n",
       "      <td>11766</td>\n",
       "    </tr>\n",
       "    <tr>\n",
       "      <th>Other amphetamines</th>\n",
       "      <td>11102</td>\n",
       "    </tr>\n",
       "    <tr>\n",
       "      <th>PCP</th>\n",
       "      <td>4193</td>\n",
       "    </tr>\n",
       "    <tr>\n",
       "      <th>Non-prescription methadone</th>\n",
       "      <td>3739</td>\n",
       "    </tr>\n",
       "    <tr>\n",
       "      <th>Other stimulants</th>\n",
       "      <td>2433</td>\n",
       "    </tr>\n",
       "    <tr>\n",
       "      <th>Other sedatives or hypnotics</th>\n",
       "      <td>2081</td>\n",
       "    </tr>\n",
       "    <tr>\n",
       "      <th>Hallucinogens</th>\n",
       "      <td>1851</td>\n",
       "    </tr>\n",
       "    <tr>\n",
       "      <th>Barbiturates</th>\n",
       "      <td>908</td>\n",
       "    </tr>\n",
       "    <tr>\n",
       "      <th>Inhalants</th>\n",
       "      <td>747</td>\n",
       "    </tr>\n",
       "    <tr>\n",
       "      <th>Over-the-counter medications</th>\n",
       "      <td>590</td>\n",
       "    </tr>\n",
       "    <tr>\n",
       "      <th>Other tranquilizers</th>\n",
       "      <td>122</td>\n",
       "    </tr>\n",
       "  </tbody>\n",
       "</table>\n",
       "</div>"
      ],
      "text/plain": [
       "                              substance_1\n",
       "Alcohol                            521673\n",
       "Heroin                             391533\n",
       "Methamphetamine/speed              206912\n",
       "Marijuana/hashish                  187746\n",
       "Other opiates and synthetics       126346\n",
       "Cocaine/crack                       99141\n",
       "Benzodiazepines                     17802\n",
       "Other drugs                         11766\n",
       "Other amphetamines                  11102\n",
       "PCP                                  4193\n",
       "Non-prescription methadone           3739\n",
       "Other stimulants                     2433\n",
       "Other sedatives or hypnotics         2081\n",
       "Hallucinogens                        1851\n",
       "Barbiturates                          908\n",
       "Inhalants                             747\n",
       "Over-the-counter medications          590\n",
       "Other tranquilizers                   122"
      ]
     },
     "execution_count": 37,
     "metadata": {},
     "output_type": "execute_result"
    }
   ],
   "source": [
    "pd.DataFrame(discharge_complete['substance_1'].value_counts())"
   ]
  },
  {
   "cell_type": "code",
   "execution_count": 38,
   "metadata": {},
   "outputs": [],
   "source": [
    "def count_ploth(data = discharge_complete, y = None, xlab = None, ylab = None, title = None, hue_color = None, figsize = (20,15)):\n",
    "    plt.figure(figsize = figsize)\n",
    "    plt.tight_layout\n",
    "    sns.countplot(data = data, y = y, hue = hue_color, order = discharge_complete[y].value_counts().index)  \n",
    "    plt.xticks(rotation = 45, fontsize = 18)\n",
    "    plt.yticks(fontsize = 18)\n",
    "    plt.xlabel(xlab, fontdict= {'fontsize': 20})\n",
    "    plt.ylabel(ylab, fontdict= {'fontsize': 20})\n",
    "    plt.title(title, fontdict= {'fontsize': 25})\n",
    "    plt.tight_layout();"
   ]
  },
  {
   "cell_type": "code",
   "execution_count": 39,
   "metadata": {},
   "outputs": [
    {
     "data": {
      "image/png": "[encoded data removed]",
      "text/plain": [
       "<Figure size 1800x1296 with 1 Axes>"
      ]
     },
     "metadata": {
      "needs_background": "light"
     },
     "output_type": "display_data"
    }
   ],
   "source": [
    "count_ploth(y='education', hue_color = 'reason' , title= \"Education and Treatment Completion\"\n",
    "            , xlab='Number of Users', figsize = (25,18))"
   ]
  },
  {
   "cell_type": "code",
   "execution_count": 40,
   "metadata": {},
   "outputs": [
    {
     "data": {
      "image/png": "[encoded data removed]",
      "text/plain": [
       "<Figure size 1440x1080 with 1 Axes>"
      ]
     },
     "metadata": {
      "needs_background": "light"
     },
     "output_type": "display_data"
    }
   ],
   "source": [
    "count_ploth(y = 'substance_1', hue_color= 'reason', title = 'Substance and Treatment Completion', \n",
    "            xlab= 'Number of Users')"
   ]
  },
  {
   "cell_type": "code",
   "execution_count": 41,
   "metadata": {},
   "outputs": [
    {
     "data": {
      "text/plain": [
       "array(['Ambulatory, non-intensive outpatient',\n",
       "       'Ambulatory, intensive outpatient',\n",
       "       'Detox, 24-hour, free-standing residential',\n",
       "       'Rehab/residential, long term (more than 30 days)',\n",
       "       'Rehab/residential, short term (30 days or fewer)',\n",
       "       'Detox, 24-hour, hospital inpatient',\n",
       "       'Rehab/residential, hospital (non-detox)',\n",
       "       'Ambulatory, detoxification'], dtype=object)"
      ]
     },
     "execution_count": 41,
     "metadata": {},
     "output_type": "execute_result"
    }
   ],
   "source": [
    "discharge_complete['service'].unique()"
   ]
  },
  {
   "cell_type": "code",
   "execution_count": 42,
   "metadata": {},
   "outputs": [
    {
     "data": {
      "image/png": "[encoded data removed]",
      "text/plain": [
       "<Figure size 1800x1296 with 1 Axes>"
      ]
     },
     "metadata": {
      "needs_background": "light"
     },
     "output_type": "display_data"
    }
   ],
   "source": [
    "count_ploth(y = 'service', hue_color= 'reason', title = 'Service and Treatment Completion', \n",
    "            xlab= 'Number of Users', figsize= (25, 18))"
   ]
  },
  {
   "cell_type": "markdown",
   "metadata": {
    "tags": []
   },
   "source": [
    "# Feature Selection"
   ]
  },
  {
   "cell_type": "code",
   "execution_count": 43,
   "metadata": {},
   "outputs": [
    {
     "data": {
      "text/plain": [
       "Index(['CASEID', 'MATS', 'afu', 'afu2', 'afu3', 'afu_cat', 'age_range',\n",
       "       'alc_class', 'alcflg', 'amphflg', 'arrest_cat', 'barbflg', 'benzflg',\n",
       "       'cen_div', 'co_ment_sub', 'cokeflg', 'crim_ref', 'd_wait', 'diagnosis',\n",
       "       'edu_cat', 'education', 'empl_status', 'empl_status_D', 'ethnicity',\n",
       "       'freq', 'freq2', 'freq3', 'freqd', 'freqd2', 'freqd3', 'gender',\n",
       "       'hallflg', 'herflg', 'housing', 'idu', 'inhflg', 'insurance',\n",
       "       'len_stay', 'los_cat', 'marflg', 'marital_status', 'methflg',\n",
       "       'mthhamflg', 'nil_status', 'nil_status_D', 'num_arrest', 'num_arrest_D',\n",
       "       'opsynflg', 'otcflg', 'otherflg', 'p_income', 'pay_source', 'pcpflg',\n",
       "       'pregnant', 'prior_cat', 'race', 'reason', 'ref_source', 'region',\n",
       "       'route2', 'route3', 'sedhpflg', 'self_attend', 'self_attend_d',\n",
       "       'service', 'service_dis', 'states', 'stimflg', 'sub_route',\n",
       "       'substance_1', 'substance_1d', 'substance_2', 'substance_2d',\n",
       "       'substance_3', 'substance_3d', 'treat_ep', 'trnqflg', 'veteran'],\n",
       "      dtype='object')"
      ]
     },
     "execution_count": 43,
     "metadata": {},
     "output_type": "execute_result"
    }
   ],
   "source": [
    "discharge_complete.columns.sort_values()"
   ]
  },
  {
   "cell_type": "code",
   "execution_count": 44,
   "metadata": {},
   "outputs": [],
   "source": [
    "protected = ['pregnant', 'veteran', 'race', 'ethnicity', 'service_dis']"
   ]
  },
  {
   "cell_type": "code",
   "execution_count": 45,
   "metadata": {},
   "outputs": [],
   "source": [
    "drop = ['alcflg', 'cokeflg', 'marflg', 'herflg',\n",
    "       'methflg', 'opsynflg', 'pcpflg', 'hallflg', 'mthhamflg', 'amphflg',\n",
    "       'stimflg', 'benzflg', 'trnqflg', 'barbflg', 'sedhpflg', 'inhflg',\n",
    "       'otcflg', 'otherflg', 'nil_status', 'nil_status_D','substance_2',\n",
    "       'substance_3', 'substance_1d', 'substance_2d', 'substance_3d', 'sub_route', 'route2', 'route3', \n",
    "       'self_attend_d', 'cen_div', 'region', 'states','crim_ref','num_arrest_D','freq2','freq3', 'freq', 'freq2', \n",
    "       'freq3', 'freqd', 'freqd2', 'freqd3','co_ment_sub','empl_status_D','d_wait','afu2', 'afu3','alc_class','insurance',\n",
    "       'pay_source', 'idu', 'CASEID', 'MATS', 'edu_cat', 'los_cat', 'prior_cat', 'arrest_cat', 'afu_cat']"
   ]
  },
  {
   "cell_type": "code",
   "execution_count": 46,
   "metadata": {},
   "outputs": [],
   "source": [
    "full_drop = protected + drop"
   ]
  },
  {
   "cell_type": "code",
   "execution_count": 47,
   "metadata": {},
   "outputs": [],
   "source": [
    "discharge_complete.drop(columns = full_drop, inplace = True)"
   ]
  },
  {
   "cell_type": "code",
   "execution_count": 48,
   "metadata": {},
   "outputs": [
    {
     "name": "stdout",
     "output_type": "stream",
     "text": [
      "<class 'pandas.core.frame.DataFrame'>\n",
      "Int64Index: 1590685 entries, 0 to 1722502\n",
      "Data columns (total 17 columns):\n",
      " #   Column          Non-Null Count    Dtype \n",
      "---  ------          --------------    ----- \n",
      " 0   education       1516800 non-null  object\n",
      " 1   marital_status  1296384 non-null  object\n",
      " 2   service         1590685 non-null  object\n",
      " 3   len_stay        1590685 non-null  object\n",
      " 4   ref_source      1562521 non-null  object\n",
      " 5   treat_ep        1462368 non-null  object\n",
      " 6   num_arrest      1502843 non-null  object\n",
      " 7   empl_status     1535769 non-null  object\n",
      " 8   gender          1589978 non-null  object\n",
      " 9   housing         1518097 non-null  object\n",
      " 10  reason          1590685 non-null  int64 \n",
      " 11  diagnosis       1199503 non-null  object\n",
      " 12  age_range       1590685 non-null  object\n",
      " 13  p_income        995494 non-null   object\n",
      " 14  substance_1     1590685 non-null  object\n",
      " 15  afu             1571892 non-null  object\n",
      " 16  self_attend     1361422 non-null  object\n",
      "dtypes: int64(1), object(16)\n",
      "memory usage: 218.4+ MB\n"
     ]
    }
   ],
   "source": [
    "discharge_complete.info()"
   ]
  },
  {
   "cell_type": "code",
   "execution_count": 49,
   "metadata": {},
   "outputs": [
    {
     "name": "stdout",
     "output_type": "stream",
     "text": [
      "education\n",
      "\n",
      "Grade 12 (or GED)                                                                       0.476449\n",
      "Grades 9 to 11                                                                          0.207224\n",
      "1-3 years of college, university, or vocational school                                  0.197616\n",
      "4 years of college, university, BA/BS, some postgraduate study, or more                 0.061445\n",
      "Less than one school grade, no schooling, nursery school, or kindergarten to Grade 8    0.057265\n",
      "Name: education, dtype: float64\n",
      "    \n",
      "marital_status\n",
      "\n",
      "Never married        0.651211\n",
      "Divorced, widowed    0.156643\n",
      "Now married          0.126528\n",
      "Separated            0.065618\n",
      "Name: marital_status, dtype: float64\n",
      "    \n",
      "service\n",
      "\n",
      "Ambulatory, non-intensive outpatient                0.478731\n",
      "Detox, 24-hour, free-standing residential           0.150746\n",
      "Ambulatory, intensive outpatient                    0.145171\n",
      "Rehab/residential, short term (30 days or fewer)    0.112411\n",
      "Rehab/residential, long term (more than 30 days)    0.075566\n",
      "Detox, 24-hour, hospital inpatient                  0.027035\n",
      "Ambulatory, detoxification                          0.008337\n",
      "Rehab/residential, hospital (non-detox)             0.002002\n",
      "Name: service, dtype: float64\n",
      "    \n",
      "len_stay\n",
      "\n",
      "1                   0.133554\n",
      "61 to 90 days       0.082657\n",
      "181 to 365 days     0.077126\n",
      "121 to 180 days     0.068248\n",
      "91 to 120 days      0.068022\n",
      "31 to 45 days       0.065076\n",
      "More than a year    0.056688\n",
      "46 to 60 days       0.049185\n",
      "2                   0.045298\n",
      "3                   0.038817\n",
      "4                   0.036135\n",
      "5                   0.034226\n",
      "6                   0.022399\n",
      "7                   0.020123\n",
      "14                  0.016060\n",
      "28                  0.015793\n",
      "8                   0.014821\n",
      "15                  0.011326\n",
      "29                  0.010963\n",
      "21                  0.010883\n",
      "9                   0.010041\n",
      "13                  0.009949\n",
      "22                  0.008875\n",
      "10                  0.008830\n",
      "27                  0.008443\n",
      "30                  0.007759\n",
      "20                  0.007584\n",
      "11                  0.007513\n",
      "12                  0.007443\n",
      "16                  0.007089\n",
      "17                  0.006187\n",
      "23                  0.005948\n",
      "19                  0.005752\n",
      "18                  0.005567\n",
      "26                  0.005415\n",
      "24                  0.005237\n",
      "25                  0.004968\n",
      "Name: len_stay, dtype: float64\n",
      "    \n",
      "ref_source\n",
      "\n",
      "Individual (includes self-referral)        0.457149\n",
      "Court/criminal justice referral/DUI/DWI    0.255964\n",
      "Other community referral                   0.108780\n",
      "Alcohol/drug use care provider             0.094387\n",
      "Other health care provider                 0.075668\n",
      "School (educational)                       0.004234\n",
      "Employer/EAP                               0.003819\n",
      "Name: ref_source, dtype: float64\n",
      "    \n",
      "treat_ep\n",
      "\n",
      "One or more prior treatment episodes    0.603781\n",
      "No prior treatment episodes             0.396219\n",
      "Name: treat_ep, dtype: float64\n",
      "    \n",
      "num_arrest\n",
      "\n",
      "None                 0.921600\n",
      "Once                 0.066067\n",
      "Two or more times    0.012333\n",
      "Name: num_arrest, dtype: float64\n",
      "    \n",
      "empl_status\n",
      "\n",
      "Unemployed            0.404396\n",
      "Not in labor force    0.346292\n",
      "Full-time             0.177813\n",
      "Part-time             0.071500\n",
      "Name: empl_status, dtype: float64\n",
      "    \n",
      "gender\n",
      "\n",
      "Male      0.646985\n",
      "Female    0.353015\n",
      "Name: gender, dtype: float64\n",
      "    \n",
      "housing\n",
      "\n",
      "Independent living    0.654256\n",
      "Dependent living      0.175399\n",
      "Homeless              0.170346\n",
      "Name: housing, dtype: float64\n",
      "    \n",
      "reason\n",
      "\n",
      "0    0.610851\n",
      "1    0.389149\n",
      "Name: reason, dtype: float64\n",
      "    \n",
      "diagnosis\n",
      "\n",
      "Opioid dependence                                  0.292316\n",
      "Alcohol dependence                                 0.223173\n",
      "Other substance dependence                         0.103717\n",
      "Other mental health condition                      0.103470\n",
      "Cannabis dependence                                0.063927\n",
      "Cocaine dependence                                 0.045250\n",
      "Alcohol abuse                                      0.037592\n",
      "Cannabis abuse                                     0.029201\n",
      "Substance-induced disorder                         0.027429\n",
      "Alcohol intoxication                               0.023124\n",
      "Other substance abuse                              0.014627\n",
      "Opioid abuse                                       0.012809\n",
      "Alcohol-induced disorder                           0.008524\n",
      "Cocaine abuse                                      0.005877\n",
      "Depressive disorders                               0.004100\n",
      "Bipolar disorders                                  0.001744\n",
      "Anxiety disorders                                  0.001706\n",
      "Schizophrenia/other psychotic disorders            0.001180\n",
      "Attention deficit/disruptive behavior disorders    0.000233\n",
      "Name: diagnosis, dtype: float64\n",
      "    \n",
      "age_range\n",
      "\n",
      "30-34 years           0.175153\n",
      "25-29 years           0.168944\n",
      "35-39 years           0.145936\n",
      "40-44 years           0.103375\n",
      "55-64 years           0.095331\n",
      "45-49 years           0.087479\n",
      "50-54 years           0.081862\n",
      "21-24 years           0.076175\n",
      "18-20 years           0.026040\n",
      "15-17 years           0.022075\n",
      "66 years and older    0.012981\n",
      "12-14 years           0.004649\n",
      "Name: age_range, dtype: float64\n",
      "    \n",
      "p_income\n",
      "\n",
      "None                              0.391996\n",
      "Wages/salary                      0.290268\n",
      "Other                             0.170488\n",
      "Public assistance                 0.076411\n",
      "Retirement/pension, disability    0.070836\n",
      "Name: p_income, dtype: float64\n",
      "    \n",
      "substance_1\n",
      "\n",
      "Alcohol                         0.327955\n",
      "Heroin                          0.246141\n",
      "Methamphetamine/speed           0.130077\n",
      "Marijuana/hashish               0.118028\n",
      "Other opiates and synthetics    0.079429\n",
      "Cocaine/crack                   0.062326\n",
      "Benzodiazepines                 0.011191\n",
      "Other drugs                     0.007397\n",
      "Other amphetamines              0.006979\n",
      "PCP                             0.002636\n",
      "Non-prescription methadone      0.002351\n",
      "Other stimulants                0.001530\n",
      "Other sedatives or hypnotics    0.001308\n",
      "Hallucinogens                   0.001164\n",
      "Barbiturates                    0.000571\n",
      "Inhalants                       0.000470\n",
      "Over-the-counter medications    0.000371\n",
      "Other tranquilizers             0.000077\n",
      "Name: substance_1, dtype: float64\n",
      "    \n",
      "afu\n",
      "\n",
      "15-17 years           0.243725\n",
      "18-20 years           0.182324\n",
      "12-14 years           0.179693\n",
      "21-24 years           0.121945\n",
      "30 years and over     0.120667\n",
      "25-29 years           0.091536\n",
      "11 years and under    0.060110\n",
      "Name: afu, dtype: float64\n",
      "    \n",
      "self_attend\n",
      "\n",
      "No attendance                            0.742094\n",
      "8-30 times in the past month             0.091762\n",
      "1-3 times in the past month              0.075311\n",
      "Some attendance, frequency is unknown    0.045899\n",
      "4-7 times in the past month              0.044934\n",
      "Name: self_attend, dtype: float64\n",
      "    \n"
     ]
    }
   ],
   "source": [
    "for col in discharge_complete:\n",
    "    print(f\"\"\"{col}\\n\n",
    "{discharge_complete[col].value_counts(normalize=True)}\n",
    "    \"\"\")"
   ]
  },
  {
   "cell_type": "code",
   "execution_count": 50,
   "metadata": {},
   "outputs": [
    {
     "data": {
      "text/plain": [
       "Index(['education', 'marital_status', 'service', 'len_stay', 'ref_source',\n",
       "       'treat_ep', 'num_arrest', 'empl_status', 'gender', 'housing', 'reason',\n",
       "       'diagnosis', 'age_range', 'p_income', 'substance_1', 'afu',\n",
       "       'self_attend'],\n",
       "      dtype='object')"
      ]
     },
     "execution_count": 50,
     "metadata": {},
     "output_type": "execute_result"
    }
   ],
   "source": [
    "discharge_complete.columns"
   ]
  },
  {
   "cell_type": "code",
   "execution_count": 51,
   "metadata": {},
   "outputs": [
    {
     "name": "stdout",
     "output_type": "stream",
     "text": [
      "education\n",
      "    critical value = 9.487729036781154\n",
      "    chi2: 5193.166586436342\n",
      "    p: 0.0\n",
      "    Degree of Freedom: 4\n",
      "    Reject Null: True\n",
      "    \n",
      "marital_status\n",
      "    critical value = 7.814727903251179\n",
      "    chi2: 471.83296310528294\n",
      "    p: 6.060739321793761e-102\n",
      "    Degree of Freedom: 3\n",
      "    Reject Null: True\n",
      "    \n",
      "service\n",
      "    critical value = 14.067140449340169\n",
      "    chi2: 122631.58276529417\n",
      "    p: 0.0\n",
      "    Degree of Freedom: 7\n",
      "    Reject Null: True\n",
      "    \n",
      "len_stay\n",
      "    critical value = 50.99846016571065\n",
      "    chi2: 89817.20544174884\n",
      "    p: 0.0\n",
      "    Degree of Freedom: 36\n",
      "    Reject Null: True\n",
      "    \n",
      "ref_source\n",
      "    critical value = 12.591587243743977\n",
      "    chi2: 8297.034337363966\n",
      "    p: 0.0\n",
      "    Degree of Freedom: 6\n",
      "    Reject Null: True\n",
      "    \n",
      "treat_ep\n",
      "    critical value = 3.841458820694124\n",
      "    chi2: 3649.349464346137\n",
      "    p: 0.0\n",
      "    Degree of Freedom: 1\n",
      "    Reject Null: True\n",
      "    \n",
      "num_arrest\n",
      "    critical value = 5.991464547107979\n",
      "    chi2: 2630.916662520277\n",
      "    p: 0.0\n",
      "    Degree of Freedom: 2\n",
      "    Reject Null: True\n",
      "    \n",
      "empl_status\n",
      "    critical value = 7.814727903251179\n",
      "    chi2: 22103.170201707988\n",
      "    p: 0.0\n",
      "    Degree of Freedom: 3\n",
      "    Reject Null: True\n",
      "    \n",
      "gender\n",
      "    critical value = 3.841458820694124\n",
      "    chi2: 6952.4596282112\n",
      "    p: 0.0\n",
      "    Degree of Freedom: 1\n",
      "    Reject Null: True\n",
      "    \n",
      "housing\n",
      "    critical value = 5.991464547107979\n",
      "    chi2: 4135.47165396952\n",
      "    p: 0.0\n",
      "    Degree of Freedom: 2\n",
      "    Reject Null: True\n",
      "    \n",
      "diagnosis\n",
      "    critical value = 28.869299430392623\n",
      "    chi2: 71195.58954191481\n",
      "    p: 0.0\n",
      "    Degree of Freedom: 18\n",
      "    Reject Null: True\n",
      "    \n",
      "age_range\n",
      "    critical value = 19.67513757268249\n",
      "    chi2: 10650.448875766462\n",
      "    p: 0.0\n",
      "    Degree of Freedom: 11\n",
      "    Reject Null: True\n",
      "    \n",
      "p_income\n",
      "    critical value = 9.487729036781154\n",
      "    chi2: 3500.362003359942\n",
      "    p: 0.0\n",
      "    Degree of Freedom: 4\n",
      "    Reject Null: True\n",
      "    \n",
      "substance_1\n",
      "    critical value = 27.58711163827534\n",
      "    chi2: 56539.60339550132\n",
      "    p: 0.0\n",
      "    Degree of Freedom: 17\n",
      "    Reject Null: True\n",
      "    \n",
      "afu\n",
      "    critical value = 12.591587243743977\n",
      "    chi2: 6344.79221767178\n",
      "    p: 0.0\n",
      "    Degree of Freedom: 6\n",
      "    Reject Null: True\n",
      "    \n",
      "self_attend\n",
      "    critical value = 9.487729036781154\n",
      "    chi2: 3984.028941450435\n",
      "    p: 0.0\n",
      "    Degree of Freedom: 4\n",
      "    Reject Null: True\n",
      "    \n"
     ]
    }
   ],
   "source": [
    "#check if categorical variable has a relation to the target variable. No Impute\n",
    "chi_test_data = []\n",
    "\n",
    "for col in discharge_complete.drop(columns=['reason']):\n",
    "    crosstab = pd.crosstab(discharge_complete['reason'], discharge_complete[col], margins=True)\n",
    "    obs = crosstab.iloc[0:-1, 0:-1] # removes total row/column\n",
    "    chi2_stat, p_value, d_free, expected  = stats.chi2_contingency(observed=obs)\n",
    "    crit = stats.chi2.ppf(1-.05, df = d_free) # https://www.statology.org/chi-square-critical-value-python/\n",
    "    accept_or_reject = chi2_stat > crit\n",
    "    print(f\"\"\"{col}\n",
    "    critical value = {crit}\n",
    "    chi2: {chi2_stat}\n",
    "    p: {p_value}\n",
    "    Degree of Freedom: {d_free}\n",
    "    Reject Null: {accept_or_reject}\n",
    "    \"\"\")\n",
    "    chi_test_data.append([col,crit,chi2_stat,p_value,d_free, accept_or_reject])\n",
    "#inspiration: https://www.kaggle.com/code/hamelg/python-for-data-25-chi-squared-tests/notebook"
   ]
  },
  {
   "cell_type": "code",
   "execution_count": 52,
   "metadata": {},
   "outputs": [],
   "source": [
    "chi_result_df = pd.DataFrame(chi_test_data, \n",
    "                columns = ['features', 'crit_val', 'chi2', 'p_val', 'dof', 'rej_hyp'])"
   ]
  },
  {
   "cell_type": "code",
   "execution_count": 53,
   "metadata": {},
   "outputs": [
    {
     "data": {
      "text/html": [
       "<div>\n",
       "<style scoped>\n",
       "    .dataframe tbody tr th:only-of-type {\n",
       "        vertical-align: middle;\n",
       "    }\n",
       "\n",
       "    .dataframe tbody tr th {\n",
       "        vertical-align: top;\n",
       "    }\n",
       "\n",
       "    .dataframe thead th {\n",
       "        text-align: right;\n",
       "    }\n",
       "</style>\n",
       "<table border=\"1\" class=\"dataframe\">\n",
       "  <thead>\n",
       "    <tr style=\"text-align: right;\">\n",
       "      <th></th>\n",
       "      <th>features</th>\n",
       "      <th>crit_val</th>\n",
       "      <th>chi2</th>\n",
       "      <th>p_val</th>\n",
       "      <th>dof</th>\n",
       "      <th>rej_hyp</th>\n",
       "    </tr>\n",
       "  </thead>\n",
       "  <tbody>\n",
       "    <tr>\n",
       "      <th>0</th>\n",
       "      <td>education</td>\n",
       "      <td>9.487729</td>\n",
       "      <td>5193.166586</td>\n",
       "      <td>0.000000e+00</td>\n",
       "      <td>4</td>\n",
       "      <td>True</td>\n",
       "    </tr>\n",
       "    <tr>\n",
       "      <th>1</th>\n",
       "      <td>marital_status</td>\n",
       "      <td>7.814728</td>\n",
       "      <td>471.832963</td>\n",
       "      <td>6.060739e-102</td>\n",
       "      <td>3</td>\n",
       "      <td>True</td>\n",
       "    </tr>\n",
       "    <tr>\n",
       "      <th>2</th>\n",
       "      <td>service</td>\n",
       "      <td>14.067140</td>\n",
       "      <td>122631.582765</td>\n",
       "      <td>0.000000e+00</td>\n",
       "      <td>7</td>\n",
       "      <td>True</td>\n",
       "    </tr>\n",
       "    <tr>\n",
       "      <th>3</th>\n",
       "      <td>len_stay</td>\n",
       "      <td>50.998460</td>\n",
       "      <td>89817.205442</td>\n",
       "      <td>0.000000e+00</td>\n",
       "      <td>36</td>\n",
       "      <td>True</td>\n",
       "    </tr>\n",
       "    <tr>\n",
       "      <th>4</th>\n",
       "      <td>ref_source</td>\n",
       "      <td>12.591587</td>\n",
       "      <td>8297.034337</td>\n",
       "      <td>0.000000e+00</td>\n",
       "      <td>6</td>\n",
       "      <td>True</td>\n",
       "    </tr>\n",
       "    <tr>\n",
       "      <th>5</th>\n",
       "      <td>treat_ep</td>\n",
       "      <td>3.841459</td>\n",
       "      <td>3649.349464</td>\n",
       "      <td>0.000000e+00</td>\n",
       "      <td>1</td>\n",
       "      <td>True</td>\n",
       "    </tr>\n",
       "    <tr>\n",
       "      <th>6</th>\n",
       "      <td>num_arrest</td>\n",
       "      <td>5.991465</td>\n",
       "      <td>2630.916663</td>\n",
       "      <td>0.000000e+00</td>\n",
       "      <td>2</td>\n",
       "      <td>True</td>\n",
       "    </tr>\n",
       "    <tr>\n",
       "      <th>7</th>\n",
       "      <td>empl_status</td>\n",
       "      <td>7.814728</td>\n",
       "      <td>22103.170202</td>\n",
       "      <td>0.000000e+00</td>\n",
       "      <td>3</td>\n",
       "      <td>True</td>\n",
       "    </tr>\n",
       "    <tr>\n",
       "      <th>8</th>\n",
       "      <td>gender</td>\n",
       "      <td>3.841459</td>\n",
       "      <td>6952.459628</td>\n",
       "      <td>0.000000e+00</td>\n",
       "      <td>1</td>\n",
       "      <td>True</td>\n",
       "    </tr>\n",
       "    <tr>\n",
       "      <th>9</th>\n",
       "      <td>housing</td>\n",
       "      <td>5.991465</td>\n",
       "      <td>4135.471654</td>\n",
       "      <td>0.000000e+00</td>\n",
       "      <td>2</td>\n",
       "      <td>True</td>\n",
       "    </tr>\n",
       "    <tr>\n",
       "      <th>10</th>\n",
       "      <td>diagnosis</td>\n",
       "      <td>28.869299</td>\n",
       "      <td>71195.589542</td>\n",
       "      <td>0.000000e+00</td>\n",
       "      <td>18</td>\n",
       "      <td>True</td>\n",
       "    </tr>\n",
       "    <tr>\n",
       "      <th>11</th>\n",
       "      <td>age_range</td>\n",
       "      <td>19.675138</td>\n",
       "      <td>10650.448876</td>\n",
       "      <td>0.000000e+00</td>\n",
       "      <td>11</td>\n",
       "      <td>True</td>\n",
       "    </tr>\n",
       "    <tr>\n",
       "      <th>12</th>\n",
       "      <td>p_income</td>\n",
       "      <td>9.487729</td>\n",
       "      <td>3500.362003</td>\n",
       "      <td>0.000000e+00</td>\n",
       "      <td>4</td>\n",
       "      <td>True</td>\n",
       "    </tr>\n",
       "    <tr>\n",
       "      <th>13</th>\n",
       "      <td>substance_1</td>\n",
       "      <td>27.587112</td>\n",
       "      <td>56539.603396</td>\n",
       "      <td>0.000000e+00</td>\n",
       "      <td>17</td>\n",
       "      <td>True</td>\n",
       "    </tr>\n",
       "    <tr>\n",
       "      <th>14</th>\n",
       "      <td>afu</td>\n",
       "      <td>12.591587</td>\n",
       "      <td>6344.792218</td>\n",
       "      <td>0.000000e+00</td>\n",
       "      <td>6</td>\n",
       "      <td>True</td>\n",
       "    </tr>\n",
       "    <tr>\n",
       "      <th>15</th>\n",
       "      <td>self_attend</td>\n",
       "      <td>9.487729</td>\n",
       "      <td>3984.028941</td>\n",
       "      <td>0.000000e+00</td>\n",
       "      <td>4</td>\n",
       "      <td>True</td>\n",
       "    </tr>\n",
       "  </tbody>\n",
       "</table>\n",
       "</div>"
      ],
      "text/plain": [
       "          features   crit_val           chi2          p_val  dof  rej_hyp\n",
       "0        education   9.487729    5193.166586   0.000000e+00    4     True\n",
       "1   marital_status   7.814728     471.832963  6.060739e-102    3     True\n",
       "2          service  14.067140  122631.582765   0.000000e+00    7     True\n",
       "3         len_stay  50.998460   89817.205442   0.000000e+00   36     True\n",
       "4       ref_source  12.591587    8297.034337   0.000000e+00    6     True\n",
       "5         treat_ep   3.841459    3649.349464   0.000000e+00    1     True\n",
       "6       num_arrest   5.991465    2630.916663   0.000000e+00    2     True\n",
       "7      empl_status   7.814728   22103.170202   0.000000e+00    3     True\n",
       "8           gender   3.841459    6952.459628   0.000000e+00    1     True\n",
       "9          housing   5.991465    4135.471654   0.000000e+00    2     True\n",
       "10       diagnosis  28.869299   71195.589542   0.000000e+00   18     True\n",
       "11       age_range  19.675138   10650.448876   0.000000e+00   11     True\n",
       "12        p_income   9.487729    3500.362003   0.000000e+00    4     True\n",
       "13     substance_1  27.587112   56539.603396   0.000000e+00   17     True\n",
       "14             afu  12.591587    6344.792218   0.000000e+00    6     True\n",
       "15     self_attend   9.487729    3984.028941   0.000000e+00    4     True"
      ]
     },
     "execution_count": 53,
     "metadata": {},
     "output_type": "execute_result"
    }
   ],
   "source": [
    "chi_result_df"
   ]
  },
  {
   "cell_type": "markdown",
   "metadata": {
    "tags": []
   },
   "source": [
    "# Evaluation Functions"
   ]
  },
  {
   "cell_type": "code",
   "execution_count": 54,
   "metadata": {},
   "outputs": [],
   "source": [
    "def classify_score(model = None, X_train = None, X_test = None, y_train = None, y_test = None):\n",
    "    # Score model on training set.\n",
    "    print(f'Training Score: {model.score(X_train, y_train)}')\n",
    "\n",
    "    # Score model on testing set.\n",
    "    print(f'Testing Score: {model.score(X_test, y_test)}')"
   ]
  },
  {
   "cell_type": "code",
   "execution_count": 271,
   "metadata": {},
   "outputs": [],
   "source": [
    "def classify_metrics(y_test = None, y_preds= None, title = None):\n",
    "    \n",
    "    # Calculates the metrics\n",
    "    tn, fp, fn, tp = confusion_matrix(y_test, y_preds).ravel()\n",
    "    accuracy = accuracy_score(y_test,y_preds)\n",
    "    recall = recall_score(y_test,y_preds)\n",
    "    precision = precision_score(y_test,y_preds)\n",
    "    specificity = tn/(tn + fp)\n",
    "    F1score = f1_score(y_test,y_preds)\n",
    "    roc_auc = roc_auc_score(y_test,y_preds)\n",
    "    \n",
    "    # Print Metrics\n",
    "    print(f\"Accuracy Score: {accuracy}\")\n",
    "    print(f\"Recall Score: {recall}\")\n",
    "    print(f\"Specificity Score: {specificity}\")\n",
    "    print(f\"Precision Score: {precision}\")\n",
    "    print(f\"F1 Score: {F1score}\")\n",
    "    print(f\"ROC AUC Score: {roc_auc}\")\n",
    "\n",
    "    # Lastly create the confusion matrix plots\n",
    "    fig, ax = plt.subplots(figsize=(10,10))\n",
    "    plt.rcParams.update({'font.size': 22})\n",
    "    plt.grid(False)\n",
    "    ConfusionMatrixDisplay.from_predictions(y_test, y_preds, cmap='Blues', normalize='all', ax=ax).ax_.set_title(title)\n",
    "    #Confusion Matrix set title https://github.com/scikit-learn/scikit-learn/discussions/20690\n",
    "    #figure size https://stackoverflow.com/questions/61325314/how-to-change-plot-confusion-matrix-default-figure-size-in-sklearn-metrics-packa\n",
    "    #Grid line removal https://stackoverflow.com/questions/53574918/how-to-get-rid-of-white-lines-in-confusion-matrix\n",
    "    # Confusion Matrix Font Size https://stackoverflow.com/questions/67294768/how-can-i-change-the-font-size-in-this-confusion-matrix"
   ]
  },
  {
   "cell_type": "markdown",
   "metadata": {
    "tags": []
   },
   "source": [
    "# Preprocessing"
   ]
  },
  {
   "cell_type": "code",
   "execution_count": 56,
   "metadata": {},
   "outputs": [
    {
     "data": {
      "text/plain": [
       "Index(['education', 'marital_status', 'service', 'len_stay', 'ref_source',\n",
       "       'treat_ep', 'num_arrest', 'empl_status', 'gender', 'housing', 'reason',\n",
       "       'diagnosis', 'age_range', 'p_income', 'substance_1', 'afu',\n",
       "       'self_attend'],\n",
       "      dtype='object')"
      ]
     },
     "execution_count": 56,
     "metadata": {},
     "output_type": "execute_result"
    }
   ],
   "source": [
    "discharge_complete.columns"
   ]
  },
  {
   "cell_type": "code",
   "execution_count": 57,
   "metadata": {},
   "outputs": [],
   "source": [
    "x_drops = ['reason']"
   ]
  },
  {
   "cell_type": "code",
   "execution_count": 58,
   "metadata": {},
   "outputs": [],
   "source": [
    "X = discharge_complete.drop(columns = x_drops)"
   ]
  },
  {
   "cell_type": "code",
   "execution_count": 59,
   "metadata": {},
   "outputs": [
    {
     "data": {
      "text/plain": [
       "Index(['education', 'marital_status', 'service', 'len_stay', 'ref_source',\n",
       "       'treat_ep', 'num_arrest', 'empl_status', 'gender', 'housing',\n",
       "       'diagnosis', 'age_range', 'p_income', 'substance_1', 'afu',\n",
       "       'self_attend'],\n",
       "      dtype='object')"
      ]
     },
     "execution_count": 59,
     "metadata": {},
     "output_type": "execute_result"
    }
   ],
   "source": [
    "X.columns"
   ]
  },
  {
   "cell_type": "code",
   "execution_count": 60,
   "metadata": {},
   "outputs": [
    {
     "data": {
      "text/plain": [
       "(1590685, 16)"
      ]
     },
     "execution_count": 60,
     "metadata": {},
     "output_type": "execute_result"
    }
   ],
   "source": [
    "X.shape"
   ]
  },
  {
   "cell_type": "code",
   "execution_count": 61,
   "metadata": {},
   "outputs": [],
   "source": [
    "y = discharge_complete['reason']"
   ]
  },
  {
   "cell_type": "code",
   "execution_count": 62,
   "metadata": {},
   "outputs": [
    {
     "data": {
      "text/plain": [
       "0    0.610851\n",
       "1    0.389149\n",
       "Name: reason, dtype: float64"
      ]
     },
     "execution_count": 62,
     "metadata": {},
     "output_type": "execute_result"
    }
   ],
   "source": [
    "y.value_counts(normalize=True) #Get the baseline accuracy to beat, Imbalanced classes"
   ]
  },
  {
   "cell_type": "code",
   "execution_count": 63,
   "metadata": {},
   "outputs": [
    {
     "data": {
      "text/plain": [
       "((1590685, 16), (1590685,))"
      ]
     },
     "execution_count": 63,
     "metadata": {},
     "output_type": "execute_result"
    }
   ],
   "source": [
    "X.shape,y.shape"
   ]
  },
  {
   "cell_type": "code",
   "execution_count": 64,
   "metadata": {},
   "outputs": [],
   "source": [
    "X_train, X_test, y_train, y_test = train_test_split(X, y, random_state = 30, stratify = y)"
   ]
  },
  {
   "cell_type": "code",
   "execution_count": 65,
   "metadata": {},
   "outputs": [
    {
     "data": {
      "text/plain": [
       "education         object\n",
       "marital_status    object\n",
       "service           object\n",
       "len_stay          object\n",
       "ref_source        object\n",
       "treat_ep          object\n",
       "num_arrest        object\n",
       "empl_status       object\n",
       "gender            object\n",
       "housing           object\n",
       "diagnosis         object\n",
       "age_range         object\n",
       "p_income          object\n",
       "substance_1       object\n",
       "afu               object\n",
       "self_attend       object\n",
       "dtype: object"
      ]
     },
     "execution_count": 65,
     "metadata": {},
     "output_type": "execute_result"
    }
   ],
   "source": [
    "X.dtypes"
   ]
  },
  {
   "cell_type": "code",
   "execution_count": 66,
   "metadata": {},
   "outputs": [
    {
     "data": {
      "text/plain": [
       "(1193013, 16)"
      ]
     },
     "execution_count": 66,
     "metadata": {},
     "output_type": "execute_result"
    }
   ],
   "source": [
    "X_train.shape"
   ]
  },
  {
   "cell_type": "code",
   "execution_count": 67,
   "metadata": {},
   "outputs": [],
   "source": [
    "simimp = SimpleImputer(missing_values = np.nan, strategy = 'most_frequent')"
   ]
  },
  {
   "cell_type": "code",
   "execution_count": 68,
   "metadata": {},
   "outputs": [],
   "source": [
    "X_train_imp = simimp.fit_transform(X_train)"
   ]
  },
  {
   "cell_type": "code",
   "execution_count": 69,
   "metadata": {},
   "outputs": [],
   "source": [
    "X_test_imp = simimp.transform(X_test)"
   ]
  },
  {
   "cell_type": "code",
   "execution_count": 70,
   "metadata": {},
   "outputs": [],
   "source": [
    "X_test_imp = pd.DataFrame(X_test_imp, columns = X_train.columns) # change from array to DF"
   ]
  },
  {
   "cell_type": "code",
   "execution_count": 71,
   "metadata": {},
   "outputs": [
    {
     "data": {
      "text/html": [
       "<div>\n",
       "<style scoped>\n",
       "    .dataframe tbody tr th:only-of-type {\n",
       "        vertical-align: middle;\n",
       "    }\n",
       "\n",
       "    .dataframe tbody tr th {\n",
       "        vertical-align: top;\n",
       "    }\n",
       "\n",
       "    .dataframe thead th {\n",
       "        text-align: right;\n",
       "    }\n",
       "</style>\n",
       "<table border=\"1\" class=\"dataframe\">\n",
       "  <thead>\n",
       "    <tr style=\"text-align: right;\">\n",
       "      <th></th>\n",
       "      <th>education</th>\n",
       "      <th>marital_status</th>\n",
       "      <th>service</th>\n",
       "      <th>len_stay</th>\n",
       "      <th>ref_source</th>\n",
       "      <th>treat_ep</th>\n",
       "      <th>num_arrest</th>\n",
       "      <th>empl_status</th>\n",
       "      <th>gender</th>\n",
       "      <th>housing</th>\n",
       "      <th>diagnosis</th>\n",
       "      <th>age_range</th>\n",
       "      <th>p_income</th>\n",
       "      <th>substance_1</th>\n",
       "      <th>afu</th>\n",
       "      <th>self_attend</th>\n",
       "    </tr>\n",
       "  </thead>\n",
       "  <tbody>\n",
       "    <tr>\n",
       "      <th>0</th>\n",
       "      <td>Grade 12 (or GED)</td>\n",
       "      <td>Divorced, widowed</td>\n",
       "      <td>Ambulatory, intensive outpatient</td>\n",
       "      <td>121 to 180 days</td>\n",
       "      <td>Other health care provider</td>\n",
       "      <td>One or more prior treatment episodes</td>\n",
       "      <td>None</td>\n",
       "      <td>Not in labor force</td>\n",
       "      <td>Female</td>\n",
       "      <td>Independent living</td>\n",
       "      <td>Opioid dependence</td>\n",
       "      <td>25-29 years</td>\n",
       "      <td>Other</td>\n",
       "      <td>Heroin</td>\n",
       "      <td>21-24 years</td>\n",
       "      <td>1-3 times in the past month</td>\n",
       "    </tr>\n",
       "    <tr>\n",
       "      <th>1</th>\n",
       "      <td>Less than one school grade, no schooling, nurs...</td>\n",
       "      <td>Never married</td>\n",
       "      <td>Ambulatory, intensive outpatient</td>\n",
       "      <td>11</td>\n",
       "      <td>Other community referral</td>\n",
       "      <td>No prior treatment episodes</td>\n",
       "      <td>None</td>\n",
       "      <td>Not in labor force</td>\n",
       "      <td>Female</td>\n",
       "      <td>Dependent living</td>\n",
       "      <td>Opioid dependence</td>\n",
       "      <td>25-29 years</td>\n",
       "      <td>None</td>\n",
       "      <td>Other opiates and synthetics</td>\n",
       "      <td>15-17 years</td>\n",
       "      <td>8-30 times in the past month</td>\n",
       "    </tr>\n",
       "    <tr>\n",
       "      <th>2</th>\n",
       "      <td>Grade 12 (or GED)</td>\n",
       "      <td>Never married</td>\n",
       "      <td>Detox, 24-hour, free-standing residential</td>\n",
       "      <td>2</td>\n",
       "      <td>Individual (includes self-referral)</td>\n",
       "      <td>One or more prior treatment episodes</td>\n",
       "      <td>None</td>\n",
       "      <td>Unemployed</td>\n",
       "      <td>Female</td>\n",
       "      <td>Dependent living</td>\n",
       "      <td>Opioid dependence</td>\n",
       "      <td>25-29 years</td>\n",
       "      <td>None</td>\n",
       "      <td>Heroin</td>\n",
       "      <td>18-20 years</td>\n",
       "      <td>No attendance</td>\n",
       "    </tr>\n",
       "    <tr>\n",
       "      <th>3</th>\n",
       "      <td>Grades 9 to 11</td>\n",
       "      <td>Never married</td>\n",
       "      <td>Ambulatory, intensive outpatient</td>\n",
       "      <td>1</td>\n",
       "      <td>Individual (includes self-referral)</td>\n",
       "      <td>No prior treatment episodes</td>\n",
       "      <td>None</td>\n",
       "      <td>Unemployed</td>\n",
       "      <td>Female</td>\n",
       "      <td>Independent living</td>\n",
       "      <td>Alcohol dependence</td>\n",
       "      <td>21-24 years</td>\n",
       "      <td>None</td>\n",
       "      <td>Alcohol</td>\n",
       "      <td>18-20 years</td>\n",
       "      <td>No attendance</td>\n",
       "    </tr>\n",
       "    <tr>\n",
       "      <th>4</th>\n",
       "      <td>Grade 12 (or GED)</td>\n",
       "      <td>Never married</td>\n",
       "      <td>Ambulatory, non-intensive outpatient</td>\n",
       "      <td>121 to 180 days</td>\n",
       "      <td>Court/criminal justice referral/DUI/DWI</td>\n",
       "      <td>No prior treatment episodes</td>\n",
       "      <td>None</td>\n",
       "      <td>Full-time</td>\n",
       "      <td>Female</td>\n",
       "      <td>Independent living</td>\n",
       "      <td>Cannabis dependence</td>\n",
       "      <td>40-44 years</td>\n",
       "      <td>Wages/salary</td>\n",
       "      <td>Marijuana/hashish</td>\n",
       "      <td>15-17 years</td>\n",
       "      <td>No attendance</td>\n",
       "    </tr>\n",
       "  </tbody>\n",
       "</table>\n",
       "</div>"
      ],
      "text/plain": [
       "                                           education     marital_status  \\\n",
       "0                                  Grade 12 (or GED)  Divorced, widowed   \n",
       "1  Less than one school grade, no schooling, nurs...      Never married   \n",
       "2                                  Grade 12 (or GED)      Never married   \n",
       "3                                     Grades 9 to 11      Never married   \n",
       "4                                  Grade 12 (or GED)      Never married   \n",
       "\n",
       "                                     service         len_stay  \\\n",
       "0           Ambulatory, intensive outpatient  121 to 180 days   \n",
       "1           Ambulatory, intensive outpatient               11   \n",
       "2  Detox, 24-hour, free-standing residential                2   \n",
       "3           Ambulatory, intensive outpatient                1   \n",
       "4       Ambulatory, non-intensive outpatient  121 to 180 days   \n",
       "\n",
       "                                ref_source  \\\n",
       "0               Other health care provider   \n",
       "1                 Other community referral   \n",
       "2      Individual (includes self-referral)   \n",
       "3      Individual (includes self-referral)   \n",
       "4  Court/criminal justice referral/DUI/DWI   \n",
       "\n",
       "                               treat_ep num_arrest         empl_status  \\\n",
       "0  One or more prior treatment episodes       None  Not in labor force   \n",
       "1           No prior treatment episodes       None  Not in labor force   \n",
       "2  One or more prior treatment episodes       None          Unemployed   \n",
       "3           No prior treatment episodes       None          Unemployed   \n",
       "4           No prior treatment episodes       None           Full-time   \n",
       "\n",
       "   gender             housing            diagnosis    age_range      p_income  \\\n",
       "0  Female  Independent living    Opioid dependence  25-29 years         Other   \n",
       "1  Female    Dependent living    Opioid dependence  25-29 years          None   \n",
       "2  Female    Dependent living    Opioid dependence  25-29 years          None   \n",
       "3  Female  Independent living   Alcohol dependence  21-24 years          None   \n",
       "4  Female  Independent living  Cannabis dependence  40-44 years  Wages/salary   \n",
       "\n",
       "                    substance_1          afu                   self_attend  \n",
       "0                        Heroin  21-24 years   1-3 times in the past month  \n",
       "1  Other opiates and synthetics  15-17 years  8-30 times in the past month  \n",
       "2                        Heroin  18-20 years                 No attendance  \n",
       "3                       Alcohol  18-20 years                 No attendance  \n",
       "4             Marijuana/hashish  15-17 years                 No attendance  "
      ]
     },
     "execution_count": 71,
     "metadata": {},
     "output_type": "execute_result"
    }
   ],
   "source": [
    "X_test_imp.head()"
   ]
  },
  {
   "cell_type": "code",
   "execution_count": 72,
   "metadata": {},
   "outputs": [
    {
     "data": {
      "text/plain": [
       "0    0.610852\n",
       "1    0.389148\n",
       "Name: reason, dtype: float64"
      ]
     },
     "execution_count": 72,
     "metadata": {},
     "output_type": "execute_result"
    }
   ],
   "source": [
    "y_train.value_counts(normalize=True)"
   ]
  },
  {
   "cell_type": "code",
   "execution_count": 73,
   "metadata": {},
   "outputs": [],
   "source": [
    "os = RandomOverSampler(random_state=30)"
   ]
  },
  {
   "cell_type": "code",
   "execution_count": 74,
   "metadata": {},
   "outputs": [],
   "source": [
    "X_train_os, y_train_os = os.fit_resample(X_train_imp, y_train)"
   ]
  },
  {
   "cell_type": "code",
   "execution_count": 75,
   "metadata": {},
   "outputs": [],
   "source": [
    "X_train_os = pd.DataFrame(X_train_os, columns = X_train.columns)"
   ]
  },
  {
   "cell_type": "code",
   "execution_count": 76,
   "metadata": {},
   "outputs": [
    {
     "data": {
      "text/plain": [
       "1    0.5\n",
       "0    0.5\n",
       "Name: reason, dtype: float64"
      ]
     },
     "execution_count": 76,
     "metadata": {},
     "output_type": "execute_result"
    }
   ],
   "source": [
    "y_train_os.value_counts(normalize=True)"
   ]
  },
  {
   "cell_type": "code",
   "execution_count": 77,
   "metadata": {},
   "outputs": [],
   "source": [
    "ohe = OneHotEncoder(handle_unknown = 'ignore', sparse = False, drop = 'first')"
   ]
  },
  {
   "cell_type": "code",
   "execution_count": 78,
   "metadata": {},
   "outputs": [],
   "source": [
    "X_train_ohe = ohe.fit_transform(X_train_os)"
   ]
  },
  {
   "cell_type": "code",
   "execution_count": 79,
   "metadata": {},
   "outputs": [],
   "source": [
    "X_test_ohe = ohe.transform(X_test_imp)"
   ]
  },
  {
   "cell_type": "code",
   "execution_count": 237,
   "metadata": {},
   "outputs": [
    {
     "data": {
      "text/plain": [
       "(1457508, 125)"
      ]
     },
     "execution_count": 237,
     "metadata": {},
     "output_type": "execute_result"
    }
   ],
   "source": [
    "X_train_ohe.shape"
   ]
  },
  {
   "cell_type": "markdown",
   "metadata": {
    "tags": []
   },
   "source": [
    "# Basic Models"
   ]
  },
  {
   "cell_type": "markdown",
   "metadata": {},
   "source": [
    "## Logistic Regression Basic"
   ]
  },
  {
   "cell_type": "code",
   "execution_count": 80,
   "metadata": {},
   "outputs": [],
   "source": [
    "logreg_base = LogisticRegression(max_iter=200, solver='saga', random_state=42)"
   ]
  },
  {
   "cell_type": "code",
   "execution_count": 81,
   "metadata": {},
   "outputs": [
    {
     "data": {
      "text/plain": [
       "LogisticRegression(max_iter=200, random_state=42, solver='saga')"
      ]
     },
     "execution_count": 81,
     "metadata": {},
     "output_type": "execute_result"
    }
   ],
   "source": [
    "logreg_base.fit(X_train_ohe, y_train_os)\n",
    "#35.3s"
   ]
  },
  {
   "cell_type": "code",
   "execution_count": 82,
   "metadata": {},
   "outputs": [
    {
     "name": "stdout",
     "output_type": "stream",
     "text": [
      "Training Score: 0.700465451990658\n",
      "Testing Score: 0.6991716791727857\n"
     ]
    }
   ],
   "source": [
    "classify_score(model = logreg_base, \n",
    "                X_train = X_train_ohe, \n",
    "                X_test = X_test_ohe, \n",
    "                y_test = y_test, \n",
    "                y_train = y_train_os)"
   ]
  },
  {
   "cell_type": "code",
   "execution_count": 83,
   "metadata": {},
   "outputs": [],
   "source": [
    "lbasepreds = logreg_base.predict(X_test_ohe)"
   ]
  },
  {
   "cell_type": "code",
   "execution_count": 272,
   "metadata": {},
   "outputs": [
    {
     "name": "stdout",
     "output_type": "stream",
     "text": [
      "Accuracy Score: 0.6991716791727857\n",
      "Recall Score: 0.7115874226191246\n",
      "Specificity Score: 0.6912620719749051\n",
      "Precision Score: 0.5948660051102264\n",
      "F1 Score: 0.6480126400155353\n",
      "ROC AUC Score: 0.7014247472970149\n"
     ]
    },
    {
     "data": {
      "image/png": "[encoded data removed]",
      "text/plain": [
       "<Figure size 720x720 with 2 Axes>"
      ]
     },
     "metadata": {
      "needs_background": "light"
     },
     "output_type": "display_data"
    }
   ],
   "source": [
    "classify_metrics(y_test = y_test, \n",
    "                    y_preds = lbasepreds,\n",
    "                    title=\"Logistic Regression Basic\")"
   ]
  },
  {
   "cell_type": "code",
   "execution_count": 85,
   "metadata": {},
   "outputs": [
    {
     "data": {
      "text/plain": [
       "array([ 0.13093499,  0.20858942, -0.16814848, -0.14626154,  0.24090062,\n",
       "        0.13787526,  0.06816792, -2.83566057, -2.72515036, -0.55750654,\n",
       "        0.0816696 , -0.42312466, -1.98002555, -1.23531119,  0.61050402,\n",
       "        0.55258644,  0.67723804,  1.90988875,  0.95680796,  1.51666575,\n",
       "        0.59228231,  0.65484224,  0.63453348,  0.83431942,  1.96443598,\n",
       "        0.82959705, -0.5994033 ,  1.09776769,  1.07377135,  0.83019228,\n",
       "        0.90618197,  1.00309157,  1.10622646,  1.2633977 ,  1.47448762,\n",
       "        1.92334516,  1.31333799, -0.19160382,  1.53612792,  1.16257519,\n",
       "        0.56468252,  1.25166429,  0.93314897,  0.79376194,  1.60026953,\n",
       "        0.84355851,  0.50046124,  0.54247195,  1.73927969,  1.30690965,\n",
       "        0.1750938 ,  0.51093125, -0.22828344, -0.00480044, -0.23563429,\n",
       "        0.23905997,  0.11443429,  0.158936  ,  0.75404794, -0.09545793,\n",
       "       -0.24705265, -0.29449446,  0.07405525, -0.01959234,  0.14603963,\n",
       "       -0.62217384,  1.32581355, -0.01618949, -1.14954785, -0.65982843,\n",
       "       -1.45388837, -0.15834387, -0.5649431 , -0.49550287, -0.72436246,\n",
       "       -1.34975939, -0.25806217, -0.68254436, -0.67426567, -0.00965918,\n",
       "       -0.63338852, -1.5891924 ,  0.40080922,  0.03791337, -0.02750881,\n",
       "       -0.06032123, -0.06480502, -0.0458988 , -0.01333931,  0.00536691,\n",
       "        0.05703694,  0.11272661,  0.21490757,  0.36973957,  0.17623246,\n",
       "       -0.07591938, -0.17695539,  0.24377749,  0.24543387, -0.23704218,\n",
       "       -0.429827  , -0.09816628, -0.59065876, -0.38163423, -0.29647353,\n",
       "       -0.40846911, -0.82443541, -0.58638512, -0.96994699, -0.58466837,\n",
       "       -0.42292884, -0.12094066, -0.82658321, -0.66765369, -0.51942467,\n",
       "        0.00792709,  0.03783074,  0.11720052,  0.09754503,  0.07191136,\n",
       "        0.06412671, -0.11155824, -0.25299326, -0.25806699, -0.2566164 ])"
      ]
     },
     "execution_count": 85,
     "metadata": {},
     "output_type": "execute_result"
    }
   ],
   "source": [
    "logreg_base.coef_[0]"
   ]
  },
  {
   "cell_type": "code",
   "execution_count": null,
   "metadata": {},
   "outputs": [],
   "source": [
    "coef_df = pd.DataFrame({'coef': logreg_base.coef_[0]}, index=ohe.get_feature_names_out())\n",
    "# list(coef_df.index) # Compare to original category list to find dropped column"
   ]
  },
  {
   "cell_type": "code",
   "execution_count": 87,
   "metadata": {},
   "outputs": [],
   "source": [
    "coef_df.sort_values(by='coef', inplace = True)"
   ]
  },
  {
   "cell_type": "code",
   "execution_count": 88,
   "metadata": {},
   "outputs": [],
   "source": [
    "top_bottom = [coef_df.head(10), coef_df.tail(10)]\n",
    "top_bottom_merge = pd.concat(top_bottom)"
   ]
  },
  {
   "cell_type": "code",
   "execution_count": 89,
   "metadata": {},
   "outputs": [
    {
     "data": {
      "image/png": "[encoded data removed]",
      "text/plain": [
       "<Figure size 1440x1080 with 1 Axes>"
      ]
     },
     "metadata": {
      "needs_background": "light"
     },
     "output_type": "display_data"
    }
   ],
   "source": [
    "top_bottom_merge.plot(kind = 'barh', figsize = (20,15))\n",
    "plt.title(\"Top and Bottom 10 Coefficients\");"
   ]
  },
  {
   "cell_type": "code",
   "execution_count": 90,
   "metadata": {},
   "outputs": [
    {
     "data": {
      "text/plain": [
       "['./pklmodels/logreg_base.pkl']"
      ]
     },
     "execution_count": 90,
     "metadata": {},
     "output_type": "execute_result"
    }
   ],
   "source": [
    "joblib.dump(logreg_base,'./pklmodels/logreg_base.pkl')"
   ]
  },
  {
   "cell_type": "markdown",
   "metadata": {},
   "source": [
    "## Decision Tree"
   ]
  },
  {
   "cell_type": "code",
   "execution_count": 91,
   "metadata": {},
   "outputs": [],
   "source": [
    "dt_base = DecisionTreeClassifier(random_state=42)"
   ]
  },
  {
   "cell_type": "code",
   "execution_count": 92,
   "metadata": {},
   "outputs": [
    {
     "data": {
      "text/plain": [
       "DecisionTreeClassifier(random_state=42)"
      ]
     },
     "execution_count": 92,
     "metadata": {},
     "output_type": "execute_result"
    }
   ],
   "source": [
    "dt_base.fit(X_train_ohe, y_train_os)\n",
    "#32.6s"
   ]
  },
  {
   "cell_type": "code",
   "execution_count": 93,
   "metadata": {},
   "outputs": [
    {
     "name": "stdout",
     "output_type": "stream",
     "text": [
      "Training Score: 0.9811863811382168\n",
      "Testing Score: 0.6911097587961939\n"
     ]
    }
   ],
   "source": [
    "classify_score(model = dt_base, \n",
    "                X_train = X_train_ohe, \n",
    "                X_test = X_test_ohe, \n",
    "                y_test = y_test, \n",
    "                y_train = y_train_os)"
   ]
  },
  {
   "cell_type": "code",
   "execution_count": 94,
   "metadata": {},
   "outputs": [],
   "source": [
    "dt_base_preds = dt_base.predict(X_test_ohe)"
   ]
  },
  {
   "cell_type": "code",
   "execution_count": 273,
   "metadata": {},
   "outputs": [
    {
     "name": "stdout",
     "output_type": "stream",
     "text": [
      "Accuracy Score: 0.6911097587961939\n",
      "Recall Score: 0.6062460421055352\n",
      "Specificity Score: 0.7451732683456969\n",
      "Precision Score: 0.6024813608954477\n",
      "F1 Score: 0.6043578387953942\n",
      "ROC AUC Score: 0.675709655225616\n"
     ]
    },
    {
     "data": {
      "image/png": "[encoded data removed]",
      "text/plain": [
       "<Figure size 720x720 with 2 Axes>"
      ]
     },
     "metadata": {
      "needs_background": "light"
     },
     "output_type": "display_data"
    }
   ],
   "source": [
    "classify_metrics(y_test = y_test, \n",
    "                    y_preds = dt_base_preds,\n",
    "                    title=\"Decision Tree Basic\")"
   ]
  },
  {
   "cell_type": "code",
   "execution_count": 96,
   "metadata": {},
   "outputs": [
    {
     "data": {
      "text/plain": [
       "['./pklmodels/dt_base.pkl']"
      ]
     },
     "execution_count": 96,
     "metadata": {},
     "output_type": "execute_result"
    }
   ],
   "source": [
    "joblib.dump(dt_base,'./pklmodels/dt_base.pkl')"
   ]
  },
  {
   "cell_type": "markdown",
   "metadata": {},
   "source": [
    "## Random Forest Basic"
   ]
  },
  {
   "cell_type": "code",
   "execution_count": 97,
   "metadata": {},
   "outputs": [],
   "source": [
    "rf_base = RandomForestClassifier(random_state=42)"
   ]
  },
  {
   "cell_type": "code",
   "execution_count": 98,
   "metadata": {},
   "outputs": [
    {
     "data": {
      "text/plain": [
       "RandomForestClassifier(random_state=42)"
      ]
     },
     "execution_count": 98,
     "metadata": {},
     "output_type": "execute_result"
    }
   ],
   "source": [
    "rf_base.fit(X_train_ohe, y_train_os)\n",
    "#5m 22.2s"
   ]
  },
  {
   "cell_type": "code",
   "execution_count": 99,
   "metadata": {},
   "outputs": [
    {
     "name": "stdout",
     "output_type": "stream",
     "text": [
      "Training Score: 0.9811808923175722\n",
      "Testing Score: 0.7481341406988674\n"
     ]
    }
   ],
   "source": [
    "classify_score(model = rf_base, \n",
    "                X_train = X_train_ohe, \n",
    "                X_test = X_test_ohe, \n",
    "                y_test = y_test, \n",
    "                y_train = y_train_os)"
   ]
  },
  {
   "cell_type": "code",
   "execution_count": 100,
   "metadata": {},
   "outputs": [],
   "source": [
    "rf_base_preds = rf_base.predict(X_test_ohe)"
   ]
  },
  {
   "cell_type": "code",
   "execution_count": 274,
   "metadata": {},
   "outputs": [
    {
     "name": "stdout",
     "output_type": "stream",
     "text": [
      "Accuracy Score: 0.7481341406988674\n",
      "Recall Score: 0.6509750959587475\n",
      "Specificity Score: 0.8100305452868869\n",
      "Precision Score: 0.6858354664778606\n",
      "F1 Score: 0.6679507495640528\n",
      "ROC AUC Score: 0.7305028206228171\n"
     ]
    },
    {
     "data": {
      "image/png": "[encoded data removed]",
      "text/plain": [
       "<Figure size 720x720 with 2 Axes>"
      ]
     },
     "metadata": {
      "needs_background": "light"
     },
     "output_type": "display_data"
    }
   ],
   "source": [
    "classify_metrics(y_test = y_test, \n",
    "                    y_preds = rf_base_preds,\n",
    "                    title=\"Random Forest Basic\")"
   ]
  },
  {
   "cell_type": "code",
   "execution_count": 140,
   "metadata": {},
   "outputs": [
    {
     "data": {
      "text/plain": [
       "array([8.62840928e-03, 2.52621088e-02, 1.43673421e-02, 8.06087664e-03,\n",
       "       2.03585829e-02, 1.15006737e-02, 7.82385484e-03, 1.68660830e-02,\n",
       "       2.66728023e-02, 1.78673216e-02, 7.28501145e-03, 9.70468425e-04,\n",
       "       6.82057409e-03, 1.20950120e-02, 2.78009147e-03, 2.41608480e-03,\n",
       "       2.30311283e-03, 1.26445752e-02, 2.67499621e-03, 4.16657439e-03,\n",
       "       3.15523972e-03, 2.15558908e-03, 1.97393848e-03, 1.83716472e-03,\n",
       "       1.43303108e-02, 1.80933896e-03, 1.20099690e-02, 2.40407037e-03,\n",
       "       2.95165544e-03, 2.59860802e-03, 1.90390422e-03, 1.76636647e-03,\n",
       "       1.71171066e-03, 1.91444786e-03, 2.55221479e-03, 5.37114505e-03,\n",
       "       3.42507875e-03, 7.52642055e-03, 2.80378163e-03, 9.80951027e-03,\n",
       "       6.76016972e-03, 8.71680119e-03, 7.46748989e-03, 5.57186638e-03,\n",
       "       1.24806012e-02, 5.28649353e-03, 4.27017208e-03, 3.21350398e-03,\n",
       "       1.19476929e-02, 9.47521492e-03, 1.51686436e-02, 1.24405539e-03,\n",
       "       1.73053718e-02, 9.91789677e-03, 8.40788352e-03, 8.87830525e-04,\n",
       "       2.53295410e-02, 1.26133058e-02, 4.56247435e-03, 1.37368524e-02,\n",
       "       9.46409547e-03, 1.57211045e-02, 2.70528488e-02, 1.28858657e-02,\n",
       "       2.22346591e-02, 9.58011912e-03, 7.39840989e-03, 1.97423753e-03,\n",
       "       4.06111451e-04, 6.97525460e-05, 4.16017970e-04, 3.23639590e-03,\n",
       "       4.89933800e-03, 1.15779048e-03, 4.03157247e-03, 9.40802935e-04,\n",
       "       2.09573466e-03, 1.51189928e-02, 7.54951528e-03, 2.37264157e-03,\n",
       "       6.42757898e-03, 2.76398854e-04, 4.37142211e-03, 2.80998842e-03,\n",
       "       5.64033293e-03, 1.13040000e-02, 1.69517457e-02, 1.80889580e-02,\n",
       "       1.71148507e-02, 1.40205777e-02, 1.23332895e-02, 1.10709240e-02,\n",
       "       1.05564247e-02, 2.97453195e-03, 1.36174490e-02, 8.63509220e-03,\n",
       "       7.25024617e-03, 1.44376696e-02, 2.05235461e-04, 2.58374249e-03,\n",
       "       7.39585237e-03, 4.47570102e-04, 1.35666103e-02, 1.73194836e-04,\n",
       "       9.62536748e-03, 1.06861322e-02, 5.97996901e-04, 1.78149671e-03,\n",
       "       1.97492639e-03, 8.21312038e-03, 4.66668153e-04, 5.10706869e-04,\n",
       "       4.27448978e-05, 1.41705149e-04, 8.13038995e-04, 1.78844594e-02,\n",
       "       2.15715876e-02, 1.82487557e-02, 1.45985488e-02, 1.09814006e-02,\n",
       "       1.13279974e-02, 6.77761628e-03, 9.54475401e-03, 1.78580843e-02,\n",
       "       5.55431809e-03])"
      ]
     },
     "execution_count": 140,
     "metadata": {},
     "output_type": "execute_result"
    }
   ],
   "source": [
    "rf_base.feature_importances_"
   ]
  },
  {
   "cell_type": "code",
   "execution_count": 102,
   "metadata": {},
   "outputs": [
    {
     "data": {
      "text/plain": [
       "['./pklmodels/rf_base.pkl']"
      ]
     },
     "execution_count": 102,
     "metadata": {},
     "output_type": "execute_result"
    }
   ],
   "source": [
    "joblib.dump(rf_base,'./pklmodels/rf_base.pkl')"
   ]
  },
  {
   "cell_type": "markdown",
   "metadata": {},
   "source": [
    "## Bernoulli NB Basic"
   ]
  },
  {
   "cell_type": "code",
   "execution_count": 103,
   "metadata": {},
   "outputs": [],
   "source": [
    "bernb_base = BernoulliNB()"
   ]
  },
  {
   "cell_type": "code",
   "execution_count": 104,
   "metadata": {},
   "outputs": [
    {
     "data": {
      "text/plain": [
       "BernoulliNB()"
      ]
     },
     "execution_count": 104,
     "metadata": {},
     "output_type": "execute_result"
    }
   ],
   "source": [
    "bernb_base.fit(X_train_ohe, y_train_os)\n",
    "#1.8s"
   ]
  },
  {
   "cell_type": "code",
   "execution_count": 105,
   "metadata": {},
   "outputs": [
    {
     "name": "stdout",
     "output_type": "stream",
     "text": [
      "Training Score: 0.6491744813750594\n",
      "Testing Score: 0.6591261139833833\n"
     ]
    }
   ],
   "source": [
    "classify_score(model = bernb_base, \n",
    "                X_train = X_train_ohe, \n",
    "                X_test = X_test_ohe, \n",
    "                y_test = y_test, \n",
    "                y_train = y_train_os)"
   ]
  },
  {
   "cell_type": "code",
   "execution_count": 106,
   "metadata": {},
   "outputs": [],
   "source": [
    "bernb_base_preds = bernb_base.predict(X_test_ohe)"
   ]
  },
  {
   "cell_type": "code",
   "execution_count": 275,
   "metadata": {},
   "outputs": [
    {
     "name": "stdout",
     "output_type": "stream",
     "text": [
      "Accuracy Score: 0.6591261139833833\n",
      "Recall Score: 0.6073122504103287\n",
      "Specificity Score: 0.6921347944573889\n",
      "Precision Score: 0.5568762220773834\n",
      "F1 Score: 0.5810017185742017\n",
      "ROC AUC Score: 0.6497235224338589\n"
     ]
    },
    {
     "data": {
      "image/png": "[encoded data removed]",
      "text/plain": [
       "<Figure size 720x720 with 2 Axes>"
      ]
     },
     "metadata": {
      "needs_background": "light"
     },
     "output_type": "display_data"
    }
   ],
   "source": [
    "classify_metrics(y_test = y_test, \n",
    "                    y_preds = bernb_base_preds,\n",
    "                    title=\"Bernoulli NB Basic\")"
   ]
  },
  {
   "cell_type": "code",
   "execution_count": 108,
   "metadata": {},
   "outputs": [
    {
     "data": {
      "text/plain": [
       "['./pklmodels/bernb_base.pkl']"
      ]
     },
     "execution_count": 108,
     "metadata": {},
     "output_type": "execute_result"
    }
   ],
   "source": [
    "joblib.dump(bernb_base,'./pklmodels/bernb_base.pkl')"
   ]
  },
  {
   "cell_type": "markdown",
   "metadata": {},
   "source": [
    "## Xgboost Basic"
   ]
  },
  {
   "cell_type": "code",
   "execution_count": 109,
   "metadata": {},
   "outputs": [],
   "source": [
    "xgb_base = XGBClassifier(use_label_encoder=False , seed = 42, \n",
    "                        objective = 'binary:logistic',\n",
    "                        tree_method = 'gpu_hist')\n",
    "\n",
    "#https://towardsdatascience.com/beginners-guide-to-xgboost-for-classification-problems-50f75aac5390\n",
    "# might want to use terminal in hindsight"
   ]
  },
  {
   "cell_type": "code",
   "execution_count": 110,
   "metadata": {},
   "outputs": [
    {
     "data": {
      "text/plain": [
       "XGBClassifier(base_score=0.5, booster='gbtree', callbacks=None,\n",
       "              colsample_bylevel=1, colsample_bynode=1, colsample_bytree=1,\n",
       "              early_stopping_rounds=None, enable_categorical=False,\n",
       "              eval_metric=None, gamma=0, gpu_id=0, grow_policy='depthwise',\n",
       "              importance_type=None, interaction_constraints='',\n",
       "              learning_rate=0.300000012, max_bin=256, max_cat_to_onehot=4,\n",
       "              max_delta_step=0, max_depth=6, max_leaves=0, min_child_weight=1,\n",
       "              missing=nan, monotone_constraints='()', n_estimators=100,\n",
       "              n_jobs=0, num_parallel_tree=1, predictor='auto', random_state=42,\n",
       "              reg_alpha=0, reg_lambda=1, ...)"
      ]
     },
     "execution_count": 110,
     "metadata": {},
     "output_type": "execute_result"
    }
   ],
   "source": [
    "xgb_base.fit(X_train_ohe, y_train_os)"
   ]
  },
  {
   "cell_type": "code",
   "execution_count": 111,
   "metadata": {},
   "outputs": [
    {
     "name": "stdout",
     "output_type": "stream",
     "text": [
      "Training Score: 0.7356110566803064\n",
      "Testing Score: 0.732842644189181\n"
     ]
    }
   ],
   "source": [
    "classify_score(model = xgb_base, \n",
    "                X_train = X_train_ohe, \n",
    "                X_test = X_test_ohe, \n",
    "                y_test = y_test, \n",
    "                y_train = y_train_os)"
   ]
  },
  {
   "cell_type": "code",
   "execution_count": 112,
   "metadata": {},
   "outputs": [],
   "source": [
    "xgb_base_preds = xgb_base.predict(X_test_ohe)"
   ]
  },
  {
   "cell_type": "code",
   "execution_count": 276,
   "metadata": {},
   "outputs": [
    {
     "name": "stdout",
     "output_type": "stream",
     "text": [
      "Accuracy Score: 0.732842644189181\n",
      "Recall Score: 0.7337257841477441\n",
      "Specificity Score: 0.7322800286516438\n",
      "Precision Score: 0.6358291195591916\n",
      "F1 Score: 0.6812785936070319\n",
      "ROC AUC Score: 0.733002906399694\n"
     ]
    },
    {
     "data": {
      "image/png": "[encoded data removed]",
      "text/plain": [
       "<Figure size 720x720 with 2 Axes>"
      ]
     },
     "metadata": {
      "needs_background": "light"
     },
     "output_type": "display_data"
    }
   ],
   "source": [
    "classify_metrics(y_test = y_test, \n",
    "                    y_preds = xgb_base_preds, title= 'XGBoost_Classifier Basic')"
   ]
  },
  {
   "cell_type": "code",
   "execution_count": 114,
   "metadata": {},
   "outputs": [
    {
     "data": {
      "text/plain": [
       "['./pklmodels/xgb_base.pkl']"
      ]
     },
     "execution_count": 114,
     "metadata": {},
     "output_type": "execute_result"
    }
   ],
   "source": [
    "joblib.dump(xgb_base,'./pklmodels/xgb_base.pkl')"
   ]
  },
  {
   "cell_type": "markdown",
   "metadata": {},
   "source": [
    "## KNN Basic"
   ]
  },
  {
   "cell_type": "code",
   "execution_count": 205,
   "metadata": {},
   "outputs": [],
   "source": [
    "knn_base = KNeighborsClassifier()"
   ]
  },
  {
   "cell_type": "code",
   "execution_count": 206,
   "metadata": {},
   "outputs": [
    {
     "data": {
      "text/plain": [
       "KNeighborsClassifier()"
      ]
     },
     "execution_count": 206,
     "metadata": {},
     "output_type": "execute_result"
    }
   ],
   "source": [
    "knn_base.fit(X_train_ohe, y_train_os)\n",
    "#0.2s"
   ]
  },
  {
   "cell_type": "code",
   "execution_count": 207,
   "metadata": {},
   "outputs": [
    {
     "name": "stdout",
     "output_type": "stream",
     "text": [
      "Training Score: 0.8231035438570492\n",
      "Testing Score: 0.6868122472791648\n"
     ]
    }
   ],
   "source": [
    "classify_score(model = knn_base, \n",
    "                X_train = X_train_ohe, \n",
    "                X_test = X_test_ohe, \n",
    "                y_test = y_test, \n",
    "                y_train = y_train_os)\n",
    "\n",
    "#Over 15 hours"
   ]
  },
  {
   "cell_type": "code",
   "execution_count": 208,
   "metadata": {},
   "outputs": [],
   "source": [
    "knn_base_preds = knn_base.predict(X_test_ohe)"
   ]
  },
  {
   "cell_type": "code",
   "execution_count": 277,
   "metadata": {},
   "outputs": [
    {
     "name": "stdout",
     "output_type": "stream",
     "text": [
      "Accuracy Score: 0.6868122472791648\n",
      "Recall Score: 0.6764865528516226\n",
      "Specificity Score: 0.6933903621798302\n",
      "Precision Score: 0.5842998269799632\n",
      "F1 Score: 0.6270229153939221\n",
      "ROC AUC Score: 0.6849384575157265\n"
     ]
    },
    {
     "data": {
      "image/png": "[encoded data removed]",
      "text/plain": [
       "<Figure size 720x720 with 2 Axes>"
      ]
     },
     "metadata": {
      "needs_background": "light"
     },
     "output_type": "display_data"
    }
   ],
   "source": [
    "classify_metrics(y_test = y_test, \n",
    "                    y_preds = knn_base_preds, title= 'KNN Basic')"
   ]
  },
  {
   "cell_type": "code",
   "execution_count": 210,
   "metadata": {},
   "outputs": [
    {
     "data": {
      "text/plain": [
       "['./pklmodels/knn_base.pkl']"
      ]
     },
     "execution_count": 210,
     "metadata": {},
     "output_type": "execute_result"
    }
   ],
   "source": [
    "joblib.dump(knn_base,'./pklmodels/knn_base.pkl')"
   ]
  },
  {
   "cell_type": "markdown",
   "metadata": {
    "tags": []
   },
   "source": [
    "# Hyperparameter Tuned"
   ]
  },
  {
   "cell_type": "markdown",
   "metadata": {},
   "source": [
    "## Random Forest"
   ]
  },
  {
   "cell_type": "code",
   "execution_count": 227,
   "metadata": {},
   "outputs": [
    {
     "name": "stdout",
     "output_type": "stream",
     "text": [
      "Fitting 5 folds for each of 1 candidates, totalling 5 fits\n",
      "CPU times: total: 0 ns\n",
      "Wall time: 0 ns\n"
     ]
    }
   ],
   "source": [
    "rf_pipe = Pipeline([\n",
    "    ('rf', RandomForestClassifier(random_state=42))\n",
    "])\n",
    "\n",
    "rf_params = {\n",
    "    'rf__n_estimators': [100],\n",
    "    'rf__min_samples_leaf': [1],\n",
    "    'rf__min_samples_split': [2],\n",
    "    'rf__max_depth': [40]\n",
    "    }\n",
    "\n",
    "rf_gs = GridSearchCV(rf_pipe,\n",
    "            param_grid = rf_params,\n",
    "            cv = 5,\n",
    "            verbose = 3,\n",
    "            n_jobs = -2)\n",
    "\n",
    "rf_gs.fit(X_train_ohe,y_train_os)\n",
    "\n",
    "# add bias, min sample per leaf\n",
    "# min max depth\n",
    "# Optuna library in hindsight\n",
    "# Threshholds percentage\n",
    "# predict proba\n",
    "\n",
    "%time\n",
    "\n",
    "# train: .96\n",
    "# test:  .75\n",
    "# prec:  .68"
   ]
  },
  {
   "cell_type": "code",
   "execution_count": 262,
   "metadata": {},
   "outputs": [
    {
     "name": "stdout",
     "output_type": "stream",
     "text": [
      "Fitting 5 folds for each of 1 candidates, totalling 5 fits\n",
      "CPU times: total: 0 ns\n",
      "Wall time: 8.06 ms\n"
     ]
    }
   ],
   "source": [
    "rf_pipe = Pipeline([\n",
    "    ('rf', RandomForestClassifier(random_state=42))\n",
    "])\n",
    "\n",
    "rf_params = {\n",
    "    'rf__n_estimators': [200],\n",
    "    'rf__min_samples_leaf': [2],\n",
    "    'rf__min_samples_split': [3]\n",
    "    }\n",
    "\n",
    "rf_gs = GridSearchCV(rf_pipe,\n",
    "            param_grid = rf_params,\n",
    "            cv = 5,\n",
    "            verbose = 3,\n",
    "            n_jobs = -2)\n",
    "\n",
    "rf_gs.fit(X_train_ohe,y_train_os)\n",
    "\n",
    "# add bias, min sample per leaf\n",
    "# min max depth\n",
    "# Optuna library in hindsight\n",
    "# Threshholds percentage\n",
    "# predict proba\n",
    "\n",
    "%time"
   ]
  },
  {
   "cell_type": "code",
   "execution_count": 263,
   "metadata": {},
   "outputs": [
    {
     "data": {
      "text/plain": [
       "{'rf__min_samples_leaf': 2,\n",
       " 'rf__min_samples_split': 3,\n",
       " 'rf__n_estimators': 200}"
      ]
     },
     "execution_count": 263,
     "metadata": {},
     "output_type": "execute_result"
    }
   ],
   "source": [
    "rf_gs.best_params_"
   ]
  },
  {
   "cell_type": "code",
   "execution_count": 264,
   "metadata": {},
   "outputs": [
    {
     "name": "stdout",
     "output_type": "stream",
     "text": [
      "Training Score: 0.8935717677021326\n",
      "Testing Score: 0.7576017421392505\n"
     ]
    }
   ],
   "source": [
    "classify_score(model = rf_gs, \n",
    "                X_train = X_train_ohe, \n",
    "                X_test = X_test_ohe, \n",
    "                y_test = y_test, \n",
    "                y_train = y_train_os)"
   ]
  },
  {
   "cell_type": "code",
   "execution_count": 265,
   "metadata": {},
   "outputs": [],
   "source": [
    "rf_gs_preds = rf_gs.predict(X_test_ohe)"
   ]
  },
  {
   "cell_type": "code",
   "execution_count": 279,
   "metadata": {},
   "outputs": [
    {
     "name": "stdout",
     "output_type": "stream",
     "text": [
      "Accuracy Score: 0.7576017421392505\n",
      "Recall Score: 0.7008671827545653\n",
      "Specificity Score: 0.7937452144345005\n",
      "Precision Score: 0.6840223252294012\n",
      "F1 Score: 0.6923423092758498\n",
      "ROC AUC Score: 0.747306198594533\n"
     ]
    },
    {
     "data": {
      "image/png": "[encoded data removed]",
      "text/plain": [
       "<Figure size 720x720 with 2 Axes>"
      ]
     },
     "metadata": {
      "needs_background": "light"
     },
     "output_type": "display_data"
    }
   ],
   "source": [
    "classify_metrics(y_test, \n",
    "                    y_preds = rf_gs_preds, \n",
    "                    title = \"Random Forest Tuned\")"
   ]
  },
  {
   "cell_type": "code",
   "execution_count": 183,
   "metadata": {},
   "outputs": [
    {
     "data": {
      "text/plain": [
       "['./pklmodels/rf_gs.pkl']"
      ]
     },
     "execution_count": 183,
     "metadata": {},
     "output_type": "execute_result"
    }
   ],
   "source": [
    "joblib.dump(rf_gs,'./pklmodels/rf_gs.pkl')"
   ]
  },
  {
   "cell_type": "markdown",
   "metadata": {},
   "source": [
    "## XGBoost"
   ]
  },
  {
   "cell_type": "code",
   "execution_count": 257,
   "metadata": {},
   "outputs": [
    {
     "name": "stdout",
     "output_type": "stream",
     "text": [
      "Fitting 5 folds for each of 3 candidates, totalling 15 fits\n",
      "[CV 1/5] END xgb__eval_metric=auc, xgb__learning_rate=0.1, xgb__max_depth=25, xgb__min_child_weight=4, xgb__n_estimators=200, xgb__objective=binary:logistic, xgb__seed=42, xgb__subsample=0.5, xgb__tree_method=gpu_hist, xgb__use_label_encoder=False;, score=0.772 total time= 4.2min\n",
      "[CV 2/5] END xgb__eval_metric=auc, xgb__learning_rate=0.1, xgb__max_depth=25, xgb__min_child_weight=4, xgb__n_estimators=200, xgb__objective=binary:logistic, xgb__seed=42, xgb__subsample=0.5, xgb__tree_method=gpu_hist, xgb__use_label_encoder=False;, score=0.773 total time= 4.3min\n",
      "[CV 3/5] END xgb__eval_metric=auc, xgb__learning_rate=0.1, xgb__max_depth=25, xgb__min_child_weight=4, xgb__n_estimators=200, xgb__objective=binary:logistic, xgb__seed=42, xgb__subsample=0.5, xgb__tree_method=gpu_hist, xgb__use_label_encoder=False;, score=0.774 total time= 4.3min\n",
      "[CV 4/5] END xgb__eval_metric=auc, xgb__learning_rate=0.1, xgb__max_depth=25, xgb__min_child_weight=4, xgb__n_estimators=200, xgb__objective=binary:logistic, xgb__seed=42, xgb__subsample=0.5, xgb__tree_method=gpu_hist, xgb__use_label_encoder=False;, score=0.800 total time= 4.5min\n",
      "[CV 5/5] END xgb__eval_metric=auc, xgb__learning_rate=0.1, xgb__max_depth=25, xgb__min_child_weight=4, xgb__n_estimators=200, xgb__objective=binary:logistic, xgb__seed=42, xgb__subsample=0.5, xgb__tree_method=gpu_hist, xgb__use_label_encoder=False;, score=0.811 total time= 4.3min\n",
      "[CV 1/5] END xgb__eval_metric=auc, xgb__learning_rate=0.1, xgb__max_depth=25, xgb__min_child_weight=5, xgb__n_estimators=200, xgb__objective=binary:logistic, xgb__seed=42, xgb__subsample=0.5, xgb__tree_method=gpu_hist, xgb__use_label_encoder=False;, score=0.771 total time= 3.8min\n",
      "[CV 2/5] END xgb__eval_metric=auc, xgb__learning_rate=0.1, xgb__max_depth=25, xgb__min_child_weight=5, xgb__n_estimators=200, xgb__objective=binary:logistic, xgb__seed=42, xgb__subsample=0.5, xgb__tree_method=gpu_hist, xgb__use_label_encoder=False;, score=0.771 total time= 3.8min\n",
      "[CV 3/5] END xgb__eval_metric=auc, xgb__learning_rate=0.1, xgb__max_depth=25, xgb__min_child_weight=5, xgb__n_estimators=200, xgb__objective=binary:logistic, xgb__seed=42, xgb__subsample=0.5, xgb__tree_method=gpu_hist, xgb__use_label_encoder=False;, score=0.772 total time= 3.8min\n",
      "[CV 4/5] END xgb__eval_metric=auc, xgb__learning_rate=0.1, xgb__max_depth=25, xgb__min_child_weight=5, xgb__n_estimators=200, xgb__objective=binary:logistic, xgb__seed=42, xgb__subsample=0.5, xgb__tree_method=gpu_hist, xgb__use_label_encoder=False;, score=0.796 total time= 3.8min\n",
      "[CV 5/5] END xgb__eval_metric=auc, xgb__learning_rate=0.1, xgb__max_depth=25, xgb__min_child_weight=5, xgb__n_estimators=200, xgb__objective=binary:logistic, xgb__seed=42, xgb__subsample=0.5, xgb__tree_method=gpu_hist, xgb__use_label_encoder=False;, score=0.804 total time= 3.8min\n",
      "[CV 1/5] END xgb__eval_metric=auc, xgb__learning_rate=0.1, xgb__max_depth=25, xgb__min_child_weight=6, xgb__n_estimators=200, xgb__objective=binary:logistic, xgb__seed=42, xgb__subsample=0.5, xgb__tree_method=gpu_hist, xgb__use_label_encoder=False;, score=0.769 total time= 3.4min\n",
      "[CV 2/5] END xgb__eval_metric=auc, xgb__learning_rate=0.1, xgb__max_depth=25, xgb__min_child_weight=6, xgb__n_estimators=200, xgb__objective=binary:logistic, xgb__seed=42, xgb__subsample=0.5, xgb__tree_method=gpu_hist, xgb__use_label_encoder=False;, score=0.770 total time= 5.5min\n",
      "[CV 3/5] END xgb__eval_metric=auc, xgb__learning_rate=0.1, xgb__max_depth=25, xgb__min_child_weight=6, xgb__n_estimators=200, xgb__objective=binary:logistic, xgb__seed=42, xgb__subsample=0.5, xgb__tree_method=gpu_hist, xgb__use_label_encoder=False;, score=0.770 total time= 5.8min\n",
      "[CV 4/5] END xgb__eval_metric=auc, xgb__learning_rate=0.1, xgb__max_depth=25, xgb__min_child_weight=6, xgb__n_estimators=200, xgb__objective=binary:logistic, xgb__seed=42, xgb__subsample=0.5, xgb__tree_method=gpu_hist, xgb__use_label_encoder=False;, score=0.792 total time= 5.9min\n",
      "[CV 5/5] END xgb__eval_metric=auc, xgb__learning_rate=0.1, xgb__max_depth=25, xgb__min_child_weight=6, xgb__n_estimators=200, xgb__objective=binary:logistic, xgb__seed=42, xgb__subsample=0.5, xgb__tree_method=gpu_hist, xgb__use_label_encoder=False;, score=0.801 total time= 5.8min\n"
     ]
    },
    {
     "data": {
      "text/plain": [
       "GridSearchCV(cv=5,\n",
       "             estimator=Pipeline(steps=[('xgb',\n",
       "                                        XGBClassifier(base_score=None,\n",
       "                                                      booster=None,\n",
       "                                                      callbacks=None,\n",
       "                                                      colsample_bylevel=None,\n",
       "                                                      colsample_bynode=None,\n",
       "                                                      colsample_bytree=None,\n",
       "                                                      early_stopping_rounds=None,\n",
       "                                                      enable_categorical=False,\n",
       "                                                      eval_metric=None,\n",
       "                                                      gamma=None, gpu_id=None,\n",
       "                                                      grow_policy=None,\n",
       "                                                      importance_type=None,\n",
       "                                                      interaction_constraints=None,\n",
       "                                                      learning_rate=N...\n",
       "                                                      random_state=None,\n",
       "                                                      reg_alpha=None,\n",
       "                                                      reg_lambda=None, ...))]),\n",
       "             param_grid={'xgb__eval_metric': ['auc'],\n",
       "                         'xgb__learning_rate': [0.1], 'xgb__max_depth': [25],\n",
       "                         'xgb__min_child_weight': [4, 5, 6],\n",
       "                         'xgb__n_estimators': [200],\n",
       "                         'xgb__objective': ['binary:logistic'],\n",
       "                         'xgb__seed': [42], 'xgb__subsample': [0.5],\n",
       "                         'xgb__tree_method': ['gpu_hist'],\n",
       "                         'xgb__use_label_encoder': [False]},\n",
       "             verbose=3)"
      ]
     },
     "execution_count": 257,
     "metadata": {},
     "output_type": "execute_result"
    }
   ],
   "source": [
    "xgb_pipe = Pipeline([\n",
    "    ('xgb', XGBClassifier())\n",
    "])\n",
    "\n",
    "xgb_params = {\n",
    "    'xgb__use_label_encoder':[False],\n",
    "    'xgb__seed': [42],\n",
    "    'xgb__objective': ['binary:logistic'],\n",
    "    'xgb__eval_metric': ['auc'],\n",
    "    'xgb__tree_method': ['gpu_hist'],\n",
    "    'xgb__max_depth': [25], # Higher = more complex\n",
    "    'xgb__learning_rate': [0.1], # Rule of thumb lower is better\n",
    "    'xgb__subsample' : [.5], # .5 to prevent overfitting\n",
    "    'xgb__n_estimators': [200], # Number of Trees\n",
    "    'xgb__min_child_weight': [4,5,6]\n",
    "}\n",
    "\n",
    "xgb_gs = GridSearchCV(xgb_pipe,\n",
    "            param_grid = xgb_params,\n",
    "            cv = 5,\n",
    "            verbose = 3)\n",
    "# source: https://www.youtube.com/watch?v=ap2SS0-XPcE&t=987s&ab_channel=HarshKumar\n",
    "# source: https://towardsdatascience.com/xgboost-fine-tune-and-optimize-your-model-23d996fab663\n",
    "\n",
    "xgb_gs.fit(X_train_ohe,y_train_os)"
   ]
  },
  {
   "cell_type": "code",
   "execution_count": 258,
   "metadata": {},
   "outputs": [
    {
     "data": {
      "text/plain": [
       "{'xgb__eval_metric': 'auc',\n",
       " 'xgb__learning_rate': 0.1,\n",
       " 'xgb__max_depth': 25,\n",
       " 'xgb__min_child_weight': 4,\n",
       " 'xgb__n_estimators': 200,\n",
       " 'xgb__objective': 'binary:logistic',\n",
       " 'xgb__seed': 42,\n",
       " 'xgb__subsample': 0.5,\n",
       " 'xgb__tree_method': 'gpu_hist',\n",
       " 'xgb__use_label_encoder': False}"
      ]
     },
     "execution_count": 258,
     "metadata": {},
     "output_type": "execute_result"
    }
   ],
   "source": [
    "xgb_gs.best_params_\n",
    "\n",
    "# T1\n",
    "# {'xgb__eval_metric': 'auc',\n",
    "#  'xgb__learning_rate': 0.7,\n",
    "#  'xgb__max_depth': 8,\n",
    "#  'xgb__n_estimators': 100,\n",
    "#  'xgb__objective': 'binary:logistic',\n",
    "#  'xgb__seed': 42,\n",
    "#  'xgb__tree_method': 'gpu_hist',\n",
    "#  'xgb__use_label_encoder': False}\n",
    "\n",
    "# # T2\n",
    "# {'xgb__eval_metric': 'auc',\n",
    "#  'xgb__learning_rate': 0.7,\n",
    "#  'xgb__max_depth': 10,\n",
    "#  'xgb__n_estimators': 200,\n",
    "#  'xgb__objective': 'binary:logistic',\n",
    "#  'xgb__seed': 42,\n",
    "#  'xgb__subsample': 1,\n",
    "#  'xgb__tree_method': 'gpu_hist',\n",
    "#  'xgb__use_label_encoder': False}\n",
    "\n",
    "# T3\n",
    "# {'xgb__eval_metric': 'auc',\n",
    "#  'xgb__learning_rate': 0.7,\n",
    "#  'xgb__max_depth': 10,\n",
    "#  'xgb__min_child_weight': 5,\n",
    "#  'xgb__n_estimators': 200,\n",
    "#  'xgb__objective': 'binary:logistic',\n",
    "#  'xgb__seed': 42,\n",
    "#  'xgb__subsample': 0.5,\n",
    "#  'xgb__tree_method': 'gpu_hist',\n",
    "#  'xgb__use_label_encoder': False}\n",
    "\n",
    "# T4\n",
    "# {'xgb__eval_metric': 'auc',\n",
    "#  'xgb__learning_rate': 0.1,\n",
    "#  'xgb__max_depth': 25,\n",
    "#  'xgb__n_estimators': 200,\n",
    "#  'xgb__objective': 'binary:logistic',\n",
    "#  'xgb__seed': 42,\n",
    "#  'xgb__subsample': 0.5,\n",
    "#  'xgb__tree_method': 'gpu_hist',\n",
    "#  'xgb__use_label_encoder': False}"
   ]
  },
  {
   "cell_type": "code",
   "execution_count": 259,
   "metadata": {},
   "outputs": [
    {
     "name": "stdout",
     "output_type": "stream",
     "text": [
      "Training Score: 0.8713207749116986\n",
      "Testing Score: 0.7546797360638918\n"
     ]
    }
   ],
   "source": [
    "classify_score(model = xgb_gs, \n",
    "                X_train = X_train_ohe, \n",
    "                X_test = X_test_ohe, \n",
    "                y_test = y_test, \n",
    "                y_train = y_train_os)\n",
    "# T1  \n",
    "# Training Score: 0.7642777947016415\n",
    "# Testing Score: 0.7454711420467118\n",
    "\n",
    "# T2\n",
    "# Training Score: 0.8185457644143291\n",
    "# Testing Score: 0.7451266370275\n",
    "\n",
    "# T3\n",
    "# Training Score: 0.7865747563649736\n",
    "# Testing Score: 0.7395164859482186\n",
    "\n",
    "# T4\n",
    "# Training Score: 0.9258144723733935\n",
    "# Testing Score: 0.7527007181798064"
   ]
  },
  {
   "cell_type": "code",
   "execution_count": 260,
   "metadata": {},
   "outputs": [],
   "source": [
    "xgb_gs_preds = xgb_gs.predict(X_test_ohe)"
   ]
  },
  {
   "cell_type": "code",
   "execution_count": 280,
   "metadata": {},
   "outputs": [
    {
     "name": "stdout",
     "output_type": "stream",
     "text": [
      "Accuracy Score: 0.7546797360638918\n",
      "Recall Score: 0.7156325523088256\n",
      "Specificity Score: 0.779555240863172\n",
      "Precision Score: 0.6740658685185974\n",
      "F1 Score: 0.6942275686332279\n",
      "ROC AUC Score: 0.7475938965859988\n"
     ]
    },
    {
     "data": {
      "image/png": "[encoded data removed]",
      "text/plain": [
       "<Figure size 720x720 with 2 Axes>"
      ]
     },
     "metadata": {
      "needs_background": "light"
     },
     "output_type": "display_data"
    }
   ],
   "source": [
    "classify_metrics(y_test = y_test, \n",
    "                    y_preds = xgb_gs_preds, title= 'XGBoost Classifier Tuned')\n",
    "# T1\n",
    "# Accuracy Score: 0.7454711420467118\n",
    "# Recall Score: 0.7389857451180584\n",
    "# Specificity Score: 0.7496027466058506\n",
    "# Precision Score: 0.6527938716913926\n",
    "# F1 Score: 0.6932209091928557\n",
    "# ROC AUC Score: 0.7442942458619545\n",
    "\n",
    "# T2\n",
    "# Accuracy Score: 0.7451266370275\n",
    "# Recall Score: 0.7226953745945177\n",
    "# Specificity Score: 0.7594167579183099\n",
    "# Precision Score: 0.6567928495084624\n",
    "# F1 Score: 0.6881699257928352\n",
    "# ROC AUC Score: 0.7410560662564138\n",
    "\n",
    "# T3\n",
    "# Accuracy Score: 0.7395164859482186\n",
    "# Recall Score: 0.7205888054589865\n",
    "# Specificity Score: 0.751574605422406\n",
    "# Precision Score: 0.6488615799977889\n",
    "# F1 Score: 0.6828467767861244\n",
    "# ROC AUC Score: 0.7360817054406962\n",
    "\n",
    "\n",
    "# T4\n",
    "# Accuracy Score: 0.7527007181798064\n",
    "# Recall Score: 0.6931775592230249\n",
    "# Specificity Score: 0.7906207032825892\n",
    "# Precision Score: 0.6783613897074633\n",
    "# F1 Score: 0.6856894479813864\n",
    "# ROC AUC Score: 0.741899131252807"
   ]
  },
  {
   "cell_type": "code",
   "execution_count": 135,
   "metadata": {},
   "outputs": [
    {
     "data": {
      "text/plain": [
       "['./pklmodels/xgb_gs.pkl']"
      ]
     },
     "execution_count": 135,
     "metadata": {},
     "output_type": "execute_result"
    }
   ],
   "source": [
    "joblib.dump(xgb_gs,'./pklmodels/xgb_gs.pkl')"
   ]
  }
 ],
 "metadata": {
  "interpreter": {
   "hash": "ad2bdc8ecc057115af97d19610ffacc2b4e99fae6737bb82f5d7fb13d2f2c186"
  },
  "kernelspec": {
   "display_name": "Python 3 (ipykernel)",
   "language": "python",
   "name": "python3"
  },
  "language_info": {
   "codemirror_mode": {
    "name": "ipython",
    "version": 3
   },
   "file_extension": ".py",
   "mimetype": "text/x-python",
   "name": "python",
   "nbconvert_exporter": "python",
   "pygments_lexer": "ipython3",
   "version": "3.9.12"
  }
 },
 "nbformat": 4,
 "nbformat_minor": 4
}
